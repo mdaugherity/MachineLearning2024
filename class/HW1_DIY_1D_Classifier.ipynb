{
  "cells": [
    {
      "cell_type": "markdown",
      "metadata": {
        "id": "view-in-github",
        "colab_type": "text"
      },
      "source": [
        "<a href=\"https://colab.research.google.com/github/mdaugherity/MachineLearning2024/blob/main/class/HW1_DIY_1D_Classifier.ipynb\" target=\"_parent\"><img src=\"https://colab.research.google.com/assets/colab-badge.svg\" alt=\"Open In Colab\"/></a>"
      ]
    },
    {
      "cell_type": "markdown",
      "metadata": {
        "id": "dwfycjQxEfza"
      },
      "source": [
        "# HW1 - DIY 1D Classifier\n",
        "In this assignment you will use **brutal force** to find a single decision boundary threshold for a one feature classifier.  You'll find some metrics to help calculate the optimal place, and try to convince me that it actually works.\n",
        "\n",
        "\n"
      ]
    },
    {
      "cell_type": "code",
      "execution_count": 1,
      "metadata": {
        "id": "EER6gbQbEfzc"
      },
      "outputs": [],
      "source": [
        "import matplotlib.pyplot as plt\n",
        "import numpy as np\n",
        "from sklearn import datasets"
      ]
    },
    {
      "cell_type": "markdown",
      "metadata": {
        "id": "TsaSpLbCEfzg"
      },
      "source": [
        "# Load Data\n",
        "We'll use the famous Iris data from Tutorial 4\n"
      ]
    },
    {
      "cell_type": "code",
      "execution_count": 2,
      "metadata": {
        "id": "27EfbRPGEfzh"
      },
      "outputs": [],
      "source": [
        "data_bunch = datasets.load_iris()\n",
        "Xall, yall = datasets.load_iris(return_X_y=True)"
      ]
    },
    {
      "cell_type": "code",
      "source": [
        "X = Xall[yall<2]  # get rid of species 2\n",
        "y = yall[yall<2]\n",
        "\n",
        "print('Feature data shape: ',X.shape)\n",
        "print('Feature Names:\\t', data_bunch.feature_names)\n",
        "print('Target Names:\\t', data_bunch.target_names)"
      ],
      "metadata": {
        "id": "h76f6R9myRPS",
        "colab": {
          "base_uri": "https://localhost:8080/"
        },
        "outputId": "5fd11ad0-372f-4fd9-8703-c13455b0d003"
      },
      "execution_count": 4,
      "outputs": [
        {
          "output_type": "stream",
          "name": "stdout",
          "text": [
            "Feature data shape:  (100, 4)\n",
            "Feature Names:\t ['sepal length (cm)', 'sepal width (cm)', 'petal length (cm)', 'petal width (cm)']\n",
            "Target Names:\t ['setosa' 'versicolor' 'virginica']\n"
          ]
        }
      ]
    },
    {
      "cell_type": "markdown",
      "source": [
        "# Problems"
      ],
      "metadata": {
        "id": "uPm4AXeWuF6u"
      }
    },
    {
      "cell_type": "markdown",
      "source": [
        "\n",
        "We will soon be using a library that has functions like:\n",
        "* `fit(X,y)` to train the classifier\n",
        "* `predict(X)` to classify new points\n",
        "\n",
        "I want to make sure you understand what's going on under the hood when we use scikit-learn, so we will start making our own simple version from scratch.\n",
        "\n",
        "Our classifier is just going to be an if statement with a threshold $\\theta$ where **any sample with $X<\\theta$ is classified as species 0**, otherwise it is species 1.   "
      ],
      "metadata": {
        "id": "l_3hT7wsty0r"
      }
    },
    {
      "cell_type": "markdown",
      "source": [
        "# Problem 1 - Predict\n",
        "Part a) Write a **predict** function as described above that takes a 1D array X of features and a threshold as input.  It must output the predicted species in an array y_pred with a 0 or 1 for each sample in X,\n",
        "\n",
        "Part b) Never forget DrD's Golden Rule of Computing:\n",
        "\n",
        "**ALWAYS TEST YOUR CODE IN CASES WHERE YOU KNOW THE RIGHT ANSWER**\n",
        "\n",
        "Show that for a threshold between 4 and 5 your function correctly predicts X_test to get y_test  \n",
        "\n",
        "\n",
        "\n"
      ],
      "metadata": {
        "id": "S2NUKZSFtqbq"
      }
    },
    {
      "cell_type": "code",
      "source": [
        "def predict(X, thresh):\n",
        "  \"\"\" Description goes here \"\"\"\n",
        "\n",
        "  y_pred = np.zeros_like(X) # initialize y_pred\n",
        "\n",
        "  # more stuff goes here\n",
        "\n",
        "  return y_pred\n"
      ],
      "metadata": {
        "id": "OC73GNzDwRL8"
      },
      "execution_count": 8,
      "outputs": []
    },
    {
      "cell_type": "code",
      "source": [
        "X_test = np.arange(10)\n",
        "y_test = np.hstack((np.zeros(5,dtype=int), np.ones(5,dtype=int)))\n",
        "print(X_test)\n",
        "print(y_test)"
      ],
      "metadata": {
        "colab": {
          "base_uri": "https://localhost:8080/"
        },
        "id": "8c_hclQEyKh0",
        "outputId": "b816a5a0-30cd-4963-c9cb-71d60a475e02"
      },
      "execution_count": 16,
      "outputs": [
        {
          "output_type": "stream",
          "name": "stdout",
          "text": [
            "[0 1 2 3 4 5 6 7 8 9]\n",
            "[0 0 0 0 0 1 1 1 1 1]\n"
          ]
        }
      ]
    },
    {
      "cell_type": "code",
      "source": [
        "y_pred = predict(X_test, 4.5)\n",
        "print('My answer:\\t',y_pred)\n",
        "print('Right answer:\\t',y_test)"
      ],
      "metadata": {
        "colab": {
          "base_uri": "https://localhost:8080/"
        },
        "id": "QJ29wTBLxZud",
        "outputId": "68d68b30-8752-4676-852c-47bccaee6c21"
      },
      "execution_count": 18,
      "outputs": [
        {
          "output_type": "stream",
          "name": "stdout",
          "text": [
            "My answer:\t [0 0 0 0 0 0 0 0 0 0]\n",
            "Right answer:\t [0 0 0 0 0 1 1 1 1 1]\n"
          ]
        }
      ]
    },
    {
      "cell_type": "markdown",
      "source": [
        "# Problem 2 - Score\n",
        "Write a function called score that given output from predict and the right answers returns the percentage of predictions that were correct.\n",
        "\n",
        "\n",
        "\n",
        "Again, show me tests of your function getting the right answer\n"
      ],
      "metadata": {
        "id": "b-v7WFq0xeOC"
      }
    },
    {
      "cell_type": "code",
      "source": [
        "def score(y_pred, y):\n",
        "  \"\"\" PUT A DESCRIPTION HERE \"\"\"\n",
        "  score = 0  # ??????\n",
        "  return score"
      ],
      "metadata": {
        "id": "wZx6_axsxmkm"
      },
      "execution_count": null,
      "outputs": []
    },
    {
      "cell_type": "markdown",
      "metadata": {
        "id": "a0zLVFubEfzl"
      },
      "source": [
        "# Problem 3 - Fit\n",
        "One final function will have to determine which threshold gives the best score.  Try lots and lots of different thresholds (using something like linspace) and returns the best one.\n",
        "\n",
        "\n",
        "\n",
        "\n",
        "\n"
      ]
    },
    {
      "cell_type": "code",
      "source": [
        "def fit(X,y):\n",
        "  \"\"\" PUT A DESCRIPTION HERE \"\"\"\n",
        "\n",
        "  thresh = 0 # ?????\n",
        "\n",
        "  return thresh"
      ],
      "metadata": {
        "id": "mJu4CXgY0xlr"
      },
      "execution_count": null,
      "outputs": []
    },
    {
      "cell_type": "markdown",
      "source": [
        "# Problem 4 - Iris Classifier\n",
        "\n",
        "Use your functions to make a single-feature iris classifier.  Use it on X0 defined below. Make a plot to prove your answer is right."
      ],
      "metadata": {
        "id": "izPaQPAx1Xnb"
      }
    },
    {
      "cell_type": "code",
      "source": [
        "# Define some 1D data\n",
        "X0 = X[:,0]"
      ],
      "metadata": {
        "id": "3T2jciynuFXF"
      },
      "execution_count": 6,
      "outputs": []
    },
    {
      "cell_type": "code",
      "source": [
        "print(X0)"
      ],
      "metadata": {
        "colab": {
          "base_uri": "https://localhost:8080/"
        },
        "id": "IvBTDARhuZVh",
        "outputId": "1fc0278c-a65b-4a62-c538-329574464ecd"
      },
      "execution_count": 7,
      "outputs": [
        {
          "output_type": "stream",
          "name": "stdout",
          "text": [
            "[5.1 4.9 4.7 4.6 5.  5.4 4.6 5.  4.4 4.9 5.4 4.8 4.8 4.3 5.8 5.7 5.4 5.1\n",
            " 5.7 5.1 5.4 5.1 4.6 5.1 4.8 5.  5.  5.2 5.2 4.7 4.8 5.4 5.2 5.5 4.9 5.\n",
            " 5.5 4.9 4.4 5.1 5.  4.5 4.4 5.  5.1 4.8 5.1 4.6 5.3 5.  7.  6.4 6.9 5.5\n",
            " 6.5 5.7 6.3 4.9 6.6 5.2 5.  5.9 6.  6.1 5.6 6.7 5.6 5.8 6.2 5.6 5.9 6.1\n",
            " 6.3 6.1 6.4 6.6 6.8 6.7 6.  5.7 5.5 5.5 5.8 6.  5.4 6.  6.7 6.3 5.6 5.5\n",
            " 5.5 6.1 5.8 5.  5.6 5.7 5.7 6.2 5.1 5.7]\n"
          ]
        }
      ]
    },
    {
      "cell_type": "markdown",
      "source": [
        "# Problem 5 - Mysteries\n",
        "Just for fun, also run your classifier and make plots for the two test cases made up below.  Convince me that it works."
      ],
      "metadata": {
        "id": "B1LTBk9p1-0C"
      }
    },
    {
      "cell_type": "code",
      "source": [
        "N1 = 20\n",
        "np.random.seed(3)\n",
        "Xtest1 = np.hstack((np.random.rand(N1)+2, np.random.rand(N1)*1.1+2.2))\n",
        "ytest1 = np.hstack((np.zeros(N1),np.ones(N1)))"
      ],
      "metadata": {
        "id": "Lu7CWosQcm0J"
      },
      "execution_count": null,
      "outputs": []
    },
    {
      "cell_type": "code",
      "source": [
        "N2 = 50\n",
        "np.random.seed(3)\n",
        "Xtest2 = np.random.randn(N2*2)\n",
        "ytest2 = np.hstack((np.zeros(N2),np.ones(N2)))"
      ],
      "metadata": {
        "id": "TGt-LOL0eTr5"
      },
      "execution_count": null,
      "outputs": []
    }
  ],
  "metadata": {
    "kernelspec": {
      "display_name": "Python 3",
      "language": "python",
      "name": "python3"
    },
    "language_info": {
      "codemirror_mode": {
        "name": "ipython",
        "version": 3
      },
      "file_extension": ".py",
      "mimetype": "text/x-python",
      "name": "python",
      "nbconvert_exporter": "python",
      "pygments_lexer": "ipython3",
      "version": "3.8.8"
    },
    "colab": {
      "provenance": [],
      "toc_visible": true,
      "include_colab_link": true
    }
  },
  "nbformat": 4,
  "nbformat_minor": 0
}