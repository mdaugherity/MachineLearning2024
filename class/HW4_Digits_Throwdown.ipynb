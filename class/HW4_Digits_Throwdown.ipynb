{
  "cells": [
    {
      "cell_type": "markdown",
      "metadata": {
        "id": "view-in-github",
        "colab_type": "text"
      },
      "source": [
        "<a href=\"https://colab.research.google.com/github/mdaugherity/MachineLearning2024/blob/main/class/HW4_Digits_Throwdown.ipynb\" target=\"_parent\"><img src=\"https://colab.research.google.com/assets/colab-badge.svg\" alt=\"Open In Colab\"/></a>"
      ]
    },
    {
      "cell_type": "markdown",
      "source": [
        "# HW4 - Digits Throwdown\n",
        "\n",
        "Name: **YOUR NAME HERE**  \n",
        "Class: PHYS453 - Machine Learning  \n",
        "Date: Spring 2024  \n",
        "\n"
      ],
      "metadata": {
        "id": "Ups_NdESiOqV"
      }
    },
    {
      "cell_type": "code",
      "execution_count": 1,
      "metadata": {
        "id": "3Cb_SLVHnzNk"
      },
      "outputs": [],
      "source": [
        "import matplotlib.pyplot as plt\n",
        "import numpy as np\n",
        "from sklearn.model_selection import train_test_split\n",
        "from sklearn.datasets import load_digits"
      ]
    },
    {
      "cell_type": "markdown",
      "metadata": {
        "id": "2cGqPxrpnzNb"
      },
      "source": [
        "In this assignment you will check how well our classifiers work on hand-written numbers.  Use my digits dataset tutorial to help you get started.\n",
        "\n",
        "You will evaluate 3 different classifiers on the digits dataset.  You have some specific tasks for each one.\n",
        "\n",
        "**NOTE:** In the past I've given you templates to help you get started.  This time I'm not.  Go find what you need."
      ]
    },
    {
      "cell_type": "markdown",
      "source": [
        "# Load Data"
      ],
      "metadata": {
        "id": "5j2yeV-wjbqk"
      }
    },
    {
      "cell_type": "code",
      "source": [
        "X,y = load_digits(return_X_y=True)"
      ],
      "metadata": {
        "id": "-lJlGZrXjZtm"
      },
      "execution_count": 2,
      "outputs": []
    },
    {
      "cell_type": "markdown",
      "source": [
        "# Test/Train Split"
      ],
      "metadata": {
        "id": "QoQ8GZIIjf2Z"
      }
    },
    {
      "cell_type": "code",
      "source": [
        "X_train, X_test, y_train, y_test = train_test_split(X, y, stratify=y, random_state=0) # stratify ensures an equal ratio of each target\n",
        "print(\"Data:  \",X.shape,y.shape)\n",
        "print(\"Train: \",X_train.shape, y_train.shape)\n",
        "print(\"Test:  \",X_test.shape,y_test.shape)"
      ],
      "metadata": {
        "colab": {
          "base_uri": "https://localhost:8080/"
        },
        "id": "O4jIrFYRjlyg",
        "outputId": "fc691bfa-c085-45cd-8b52-238a8c00d93d"
      },
      "execution_count": 3,
      "outputs": [
        {
          "output_type": "stream",
          "name": "stdout",
          "text": [
            "Data:   (1797, 64) (1797,)\n",
            "Train:  (1347, 64) (1347,)\n",
            "Test:   (450, 64) (450,)\n"
          ]
        }
      ]
    },
    {
      "cell_type": "markdown",
      "metadata": {
        "id": "fBOhekSxnzNw"
      },
      "source": [
        "You may only use the `fit` function on X_train and y_train. If you try to fit the test data you will be immediately expelled."
      ]
    },
    {
      "cell_type": "markdown",
      "source": [
        "# Problem 1 - Gaussian Naive Bayes\n",
        "\n",
        "\n",
        "* Fit the training set, then find the score and confusion matrix for the test set\n",
        "* Use the `theta_` attribute to plot the average pixels for every number 0-9"
      ],
      "metadata": {
        "id": "OV5X4YifjukV"
      }
    },
    {
      "cell_type": "code",
      "source": [],
      "metadata": {
        "id": "CyHAhvnhj9kp"
      },
      "execution_count": 3,
      "outputs": []
    },
    {
      "cell_type": "markdown",
      "source": [
        "# Problem 2 - Nearest Neighbors\n",
        "* Find the optimal value of k. Justify your answer.\n",
        "* Fit the training set using your optimal k and produce a classification report on the test set\n",
        "* Show the 5 nearest neighbors to the first sample in the test set `X_test[0]`\n",
        "* Show the 5 nearest neighbors to any one of the miss-classified points in the test set"
      ],
      "metadata": {
        "id": "GeiqKRKDj-dt"
      }
    },
    {
      "cell_type": "code",
      "source": [],
      "metadata": {
        "id": "RseV4ANZkjXE"
      },
      "execution_count": 3,
      "outputs": []
    },
    {
      "cell_type": "markdown",
      "source": [
        "# Problem 3 - Decision Tree\n",
        "* Find the optimal value of max_depth.  Justify your answer.\n",
        "* Use the `feature_importances_` attribute and make a plot showing the most important pixels"
      ],
      "metadata": {
        "id": "ZJuKJSzqkj0B"
      }
    },
    {
      "cell_type": "code",
      "source": [],
      "metadata": {
        "id": "riueXiBAkmOs"
      },
      "execution_count": 3,
      "outputs": []
    },
    {
      "cell_type": "markdown",
      "source": [
        "# Problem 4 - Final Evaluation\n",
        "After completing the first three tasks, explain which classifier is **best** for the digits dataset.  Run any more tests you need.  Justify your answer."
      ],
      "metadata": {
        "id": "TwXw6Z4Mk0U7"
      }
    },
    {
      "cell_type": "code",
      "source": [],
      "metadata": {
        "id": "1SpNHhMfk_gp"
      },
      "execution_count": 3,
      "outputs": []
    }
  ],
  "metadata": {
    "kernelspec": {
      "display_name": "Python 3",
      "language": "python",
      "name": "python3"
    },
    "language_info": {
      "codemirror_mode": {
        "name": "ipython",
        "version": 3
      },
      "file_extension": ".py",
      "mimetype": "text/x-python",
      "name": "python",
      "nbconvert_exporter": "python",
      "pygments_lexer": "ipython3",
      "version": "3.6.10"
    },
    "colab": {
      "provenance": [],
      "toc_visible": true,
      "include_colab_link": true
    }
  },
  "nbformat": 4,
  "nbformat_minor": 0
}