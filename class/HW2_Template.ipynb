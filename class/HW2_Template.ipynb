{
  "cells": [
    {
      "cell_type": "markdown",
      "metadata": {
        "id": "view-in-github",
        "colab_type": "text"
      },
      "source": [
        "<a href=\"https://colab.research.google.com/github/mdaugherity/MachineLearning2024/blob/main/class/HW2_Template.ipynb\" target=\"_parent\"><img src=\"https://colab.research.google.com/assets/colab-badge.svg\" alt=\"Open In Colab\"/></a>"
      ]
    },
    {
      "cell_type": "markdown",
      "metadata": {
        "id": "VPBQ3vT_BXMS"
      },
      "source": [
        "# HW2 - Won't You Be My Neighbor?\n",
        "\n",
        "Name: **YOUR NAME HERE**  \n",
        "Class: PHYS453 - Machine Learning  \n",
        "Date: Spring 2024\n"
      ]
    },
    {
      "cell_type": "code",
      "source": [
        "import numpy as np\n",
        "import matplotlib.pyplot as plt\n",
        "\n",
        "from sklearn import datasets\n",
        "from sklearn import neighbors"
      ],
      "metadata": {
        "id": "LjJ4gTghgaVW"
      },
      "execution_count": 1,
      "outputs": []
    },
    {
      "cell_type": "markdown",
      "source": [
        "# Problem Description\n",
        "\n",
        "**RESTATE THIS IN YOUR OWN WORDS**\n",
        "\n",
        "In this assignment you will write your own simplified version of a Nearest Neighbors classifier and test it out on the famous Iris dataset. The code for loading our data is below--use it without modifications.  You need to perform a few tasks to convince me that your classifier works."
      ],
      "metadata": {
        "id": "AHY3vyX1KK2Y"
      }
    },
    {
      "cell_type": "markdown",
      "metadata": {
        "id": "WIuT6SFqBXMX"
      },
      "source": [
        "# Solution Method\n",
        "*Your plan of attack.  Explain what you are going do to solve the stated problem.*\n",
        "\n",
        "\n"
      ]
    },
    {
      "cell_type": "markdown",
      "metadata": {
        "id": "sgvuMXmOBXMY"
      },
      "source": [
        "# Input\n",
        "Load and pre-process data\n",
        "\n"
      ]
    },
    {
      "cell_type": "code",
      "execution_count": 2,
      "metadata": {
        "id": "p2CDV1HlBXMb",
        "colab": {
          "base_uri": "https://localhost:8080/"
        },
        "outputId": "f821f5a2-f745-4ce3-8843-627bb1ec3baa"
      },
      "outputs": [
        {
          "output_type": "stream",
          "name": "stdout",
          "text": [
            "Features:\t ['sepal length (cm)', 'sepal width (cm)', 'petal length (cm)', 'petal width (cm)']\n",
            "Targets:\t ['setosa' 'versicolor' 'virginica']\n"
          ]
        }
      ],
      "source": [
        "data = datasets.load_iris()\n",
        "print('Features:\\t',data.feature_names)\n",
        "print('Targets:\\t',data.target_names)\n",
        "\n",
        "X = data.data\n",
        "y = data.target"
      ]
    },
    {
      "cell_type": "markdown",
      "source": [
        "# Analysis\n",
        "\n",
        "*Execute your plan of attack*"
      ],
      "metadata": {
        "id": "NPUn2emWUyJd"
      }
    },
    {
      "cell_type": "markdown",
      "source": [
        "# Results"
      ],
      "metadata": {
        "id": "Ygdt7MCbXHBb"
      }
    },
    {
      "cell_type": "markdown",
      "metadata": {
        "id": "R19q8qG_BXMd"
      },
      "source": [
        "## Problem 1\n",
        "We will look at only 2 features so we can easily make plots.  Your job is to:\n",
        "* find the nearest neighbor to the given point\n",
        "* make a nice, proper plot to convince me your answer is right\n",
        "\n",
        "Your code is equivalent to the ```predict``` function of a $k=1$ nearest neighbors classifier.  \n",
        "\n",
        "*NOTE:* Do not simply use the built-in scikit-learn kNN classifier--you have to make one yourself.  (Starting on the next assignment you will get to use sklearn, and hopefully by then you'll have a good feel for how it works.)"
      ]
    },
    {
      "cell_type": "code",
      "source": [
        "# Make a 2-feature version of X using only the first two columns\n",
        "fx = 0 # feature number to plot on x axis\n",
        "fy = 1 # feature number to plot on y axis\n",
        "\n",
        "X2 = X[:,[fx,fy]]   # 2D version\n",
        "print(X2.shape)"
      ],
      "metadata": {
        "colab": {
          "base_uri": "https://localhost:8080/"
        },
        "id": "SItjSMR0K3sC",
        "outputId": "365a3d8e-7a0d-4a4b-c061-268cc8bd61e3"
      },
      "execution_count": 3,
      "outputs": [
        {
          "output_type": "stream",
          "name": "stdout",
          "text": [
            "(150, 2)\n"
          ]
        }
      ]
    },
    {
      "cell_type": "code",
      "source": [
        "# The point to predict\n",
        "X2_pred = np.array([[6.5, 3.8]])    # note that this is a 2D array like X"
      ],
      "metadata": {
        "id": "LfFQQ_WXRlwE"
      },
      "execution_count": 4,
      "outputs": []
    },
    {
      "cell_type": "markdown",
      "source": [
        "This is optional code you can use, modify, or delete"
      ],
      "metadata": {
        "id": "jv-KlksiYnmY"
      }
    },
    {
      "cell_type": "code",
      "source": [
        "# Define Custom Colors\n",
        "from matplotlib.colors import ListedColormap\n",
        "colors_bold = ['#FF0000', '#00FF00', '#0000FF']\n",
        "cmap_bold = ListedColormap(colors_bold)"
      ],
      "metadata": {
        "id": "nGXqg008Yl1J"
      },
      "execution_count": 5,
      "outputs": []
    },
    {
      "cell_type": "code",
      "source": [
        "# Three Ways of Making Legends\n",
        "plt.figure(figsize=(8,6))\n",
        "\n",
        "s = plt.scatter(X2[:, 0], X2[:, 1], marker='o', c=y,s=25, cmap=cmap_bold) # use custom color cmap\n",
        "plt.legend(*s.legend_elements()) # adds scatterplot to legend\n",
        "plt.title('A GREAT TITLE')\n",
        "plt.xlabel(data.feature_names[fx])\n",
        "plt.ylabel(data.feature_names[fy])\n"
      ],
      "metadata": {
        "colab": {
          "base_uri": "https://localhost:8080/",
          "height": 582
        },
        "id": "vl2XhoYiYV7z",
        "outputId": "cc7c9da5-6df9-47e9-e644-2e79c27ff4c1"
      },
      "execution_count": 6,
      "outputs": [
        {
          "output_type": "execute_result",
          "data": {
            "text/plain": [
              "Text(0, 0.5, 'sepal width (cm)')"
            ]
          },
          "metadata": {},
          "execution_count": 6
        },
        {
          "output_type": "display_data",
          "data": {
            "text/plain": [
              "<Figure size 800x600 with 1 Axes>"
            ],
            "image/png": "[encoded data removed]"
          },
          "metadata": {}
        }
      ]
    },
    {
      "cell_type": "markdown",
      "metadata": {
        "id": "BAzFLpS4BXMi"
      },
      "source": [
        "## Problem 2"
      ]
    },
    {
      "cell_type": "code",
      "source": [
        "# Generate new dataset to classify\n",
        "means = X.mean(axis=0).reshape(1,-1)\n",
        "X_pred, _ = datasets.make_blobs(n_samples=10, n_features=4, centers=means, cluster_std = 1, random_state=3  )\n",
        "\n",
        "print('The points to classify:')\n",
        "print(X_pred)"
      ],
      "metadata": {
        "colab": {
          "base_uri": "https://localhost:8080/"
        },
        "id": "tcy42ZmLxM97",
        "outputId": "04ae10ac-4c23-41ba-fcdc-a0a864d2155b"
      },
      "execution_count": 7,
      "outputs": [
        {
          "output_type": "stream",
          "name": "stdout",
          "text": [
            "The points to classify:\n",
            "[[ 5.07449698  2.82730261  4.50305627  3.17544412]\n",
            " [ 5.29797339  1.51085602  4.74036743  0.0982657 ]\n",
            " [ 4.81954819  2.34434013  4.38324497  1.03881997]\n",
            " [ 5.56594513  2.70257435  3.67525852  0.57233266]\n",
            " [ 4.65828681  2.85168343  5.24414836  1.4360496 ]\n",
            " [ 4.91954131  2.03345757  4.88197796  1.0674191 ]\n",
            " [ 6.72465138  4.7669064   3.80803364  0.79465592]\n",
            " [ 4.59921     2.43091642  2.95423391 -1.21974984]\n",
            " [ 5.79951516  2.5801153   2.44413525  2.08395571]\n",
            " [ 7.63196181  3.49384318  3.85449747 -0.66415937]]\n"
          ]
        }
      ]
    },
    {
      "cell_type": "markdown",
      "source": [
        "# Discussion"
      ],
      "metadata": {
        "id": "OGICFFGsYCnC"
      }
    }
  ],
  "metadata": {
    "kernelspec": {
      "display_name": "Python 3",
      "language": "python",
      "name": "python3"
    },
    "language_info": {
      "codemirror_mode": {
        "name": "ipython",
        "version": 3
      },
      "file_extension": ".py",
      "mimetype": "text/x-python",
      "name": "python",
      "nbconvert_exporter": "python",
      "pygments_lexer": "ipython3",
      "version": "3.6.10"
    },
    "colab": {
      "provenance": [],
      "toc_visible": true,
      "include_colab_link": true
    }
  },
  "nbformat": 4,
  "nbformat_minor": 0
}