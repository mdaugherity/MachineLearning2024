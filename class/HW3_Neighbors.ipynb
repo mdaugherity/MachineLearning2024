{
  "cells": [
    {
      "cell_type": "markdown",
      "metadata": {
        "id": "view-in-github",
        "colab_type": "text"
      },
      "source": [
        "<a href=\"https://colab.research.google.com/github/mdaugherity/MachineLearning2024/blob/main/class/HW3_Neighbors.ipynb\" target=\"_parent\"><img src=\"https://colab.research.google.com/assets/colab-badge.svg\" alt=\"Open In Colab\"/></a>"
      ]
    },
    {
      "cell_type": "markdown",
      "metadata": {
        "id": "VPBQ3vT_BXMS"
      },
      "source": [
        "# HW3 - Won't You Be My Neighbor?\n",
        "\n",
        "In this assignment you will write your own simplified version of a Nearest Neighbors classifier and test it out on the famous Iris dataset. The code for loading our data is below--use it without modifications.  You need to perform a few tasks to convince me that your classifier works."
      ]
    },
    {
      "cell_type": "code",
      "source": [
        "import numpy as np\n",
        "import matplotlib.pyplot as plt\n",
        "\n",
        "from sklearn import datasets\n",
        "from sklearn import neighbors"
      ],
      "metadata": {
        "id": "LjJ4gTghgaVW"
      },
      "execution_count": 1,
      "outputs": []
    },
    {
      "cell_type": "markdown",
      "source": [
        "# Problem 1 - Validation on a Single Point\n",
        "Bearing in mind my Golden Rule of Computing$^{TM}$:\n",
        "\n",
        "**ALWAYS TEST YOUR CODE IN CASES WHERE YOU KNOW THE RIGHT ANSWER**\n",
        "\n",
        "a) Find the distances from a single point to every point in X_prob1.\n",
        "\n",
        "b) Find the closest point and classify using y_prob1\n",
        "\n",
        "c) Make a plot\n",
        "\n",
        "Do not use scikit-learn's classifier.  You have to do this yourself.\n",
        "\n"
      ],
      "metadata": {
        "id": "QjSLJ9PGX4O6"
      }
    },
    {
      "cell_type": "code",
      "source": [
        "X_prob1 = np.array([[0,0],[10,10]])\n",
        "y_prob1 = np.array([0,1])\n",
        "p = np.array([3,4]) # point to classify"
      ],
      "metadata": {
        "id": "LzIUf2yLZHkp"
      },
      "execution_count": 2,
      "outputs": []
    },
    {
      "cell_type": "code",
      "source": [],
      "metadata": {
        "id": "sdrASeDwhJp5"
      },
      "execution_count": 2,
      "outputs": []
    },
    {
      "cell_type": "markdown",
      "source": [
        "# Problem 2 - Validation on Many Points\n",
        "\n",
        "Repeat problem 1 classifying all of the points in X_pred.  \n",
        "\n",
        "Your code is equivalent to the ```predict``` function of a $k=1$ nearest neighbors classifier.  \n"
      ],
      "metadata": {
        "id": "jrdmzbmZbrcU"
      }
    },
    {
      "cell_type": "code",
      "source": [
        "X_pred = 10*np.random.rand(10,2)"
      ],
      "metadata": {
        "id": "xnfp7qyUcIZ2"
      },
      "execution_count": 3,
      "outputs": []
    },
    {
      "cell_type": "code",
      "source": [],
      "metadata": {
        "id": "yfc5Dxe8mc9m"
      },
      "execution_count": 3,
      "outputs": []
    },
    {
      "cell_type": "markdown",
      "source": [
        "# Problem 3 - Iris With 2 Features"
      ],
      "metadata": {
        "id": "hQqIlQ-ccQDJ"
      }
    },
    {
      "cell_type": "markdown",
      "source": [
        "Use the 2-feature Iris data below to classify X2_pred based on X2D and y.  Make a nice, proper plot.\n"
      ],
      "metadata": {
        "id": "DQo5c7KRZIXf"
      }
    },
    {
      "cell_type": "code",
      "execution_count": 4,
      "metadata": {
        "id": "p2CDV1HlBXMb",
        "colab": {
          "base_uri": "https://localhost:8080/"
        },
        "outputId": "851ec33f-4f52-4760-db10-19195e4c07fa"
      },
      "outputs": [
        {
          "output_type": "stream",
          "name": "stdout",
          "text": [
            "Features:  sepal length (cm) sepal width (cm)\n",
            "(150, 2)\n"
          ]
        }
      ],
      "source": [
        "data = datasets.load_iris()\n",
        "#print('Features:\\t',data.feature_names)\n",
        "\n",
        "X = data.data\n",
        "y = data.target\n",
        "\n",
        "# Make a 2-feature version of X using only the first two columns\n",
        "fx = 0 # feature number to plot on x axis\n",
        "fy = 1 # feature number to plot on y axis\n",
        "print('Features: ', data.feature_names[fx], data.feature_names[fy])\n",
        "\n",
        "X2D = X[:,[fx,fy]]   # 2D version\n",
        "print(X2D.shape)"
      ]
    },
    {
      "cell_type": "code",
      "source": [
        "# The point to predict\n",
        "X2_pred = np.array([[6.5, 3.8]])    # note that this is a 2D array like X"
      ],
      "metadata": {
        "id": "UH-G3MOcdbZ6"
      },
      "execution_count": 5,
      "outputs": []
    },
    {
      "cell_type": "code",
      "source": [],
      "metadata": {
        "id": "ymb9jGYMk-Z6"
      },
      "execution_count": 5,
      "outputs": []
    },
    {
      "cell_type": "markdown",
      "source": [
        "# Problem 4 - Full Version\n",
        "Finally, classify the points in X_pred using the full 4-feature data in X.  \n",
        "\n",
        "There really isn't a way to plot this, so think of ways to justify that your code works and your answer is right."
      ],
      "metadata": {
        "id": "k2pXbjMLetq9"
      }
    },
    {
      "cell_type": "code",
      "source": [
        "# Generate new dataset to classify\n",
        "means = X.mean(axis=0).reshape(1,-1)\n",
        "X_pred, _ = datasets.make_blobs(n_samples=10, n_features=4, centers=means, cluster_std = 1, random_state=3  )\n",
        "\n",
        "print('The points to classify:')\n",
        "print(X_pred)"
      ],
      "metadata": {
        "colab": {
          "base_uri": "https://localhost:8080/"
        },
        "id": "0hdFvR6nfE6q",
        "outputId": "12ea7194-053d-4c92-e553-c1573741fc96"
      },
      "execution_count": 6,
      "outputs": [
        {
          "output_type": "stream",
          "name": "stdout",
          "text": [
            "The points to classify:\n",
            "[[ 5.07449698  2.82730261  4.50305627  3.17544412]\n",
            " [ 5.29797339  1.51085602  4.74036743  0.0982657 ]\n",
            " [ 4.81954819  2.34434013  4.38324497  1.03881997]\n",
            " [ 5.56594513  2.70257435  3.67525852  0.57233266]\n",
            " [ 4.65828681  2.85168343  5.24414836  1.4360496 ]\n",
            " [ 4.91954131  2.03345757  4.88197796  1.0674191 ]\n",
            " [ 6.72465138  4.7669064   3.80803364  0.79465592]\n",
            " [ 4.59921     2.43091642  2.95423391 -1.21974984]\n",
            " [ 5.79951516  2.5801153   2.44413525  2.08395571]\n",
            " [ 7.63196181  3.49384318  3.85449747 -0.66415937]]\n"
          ]
        }
      ]
    },
    {
      "cell_type": "code",
      "source": [],
      "metadata": {
        "id": "-A1k8qbxfe9L"
      },
      "execution_count": 6,
      "outputs": []
    }
  ],
  "metadata": {
    "kernelspec": {
      "display_name": "Python 3",
      "language": "python",
      "name": "python3"
    },
    "language_info": {
      "codemirror_mode": {
        "name": "ipython",
        "version": 3
      },
      "file_extension": ".py",
      "mimetype": "text/x-python",
      "name": "python",
      "nbconvert_exporter": "python",
      "pygments_lexer": "ipython3",
      "version": "3.6.10"
    },
    "colab": {
      "provenance": [],
      "toc_visible": true,
      "include_colab_link": true
    }
  },
  "nbformat": 4,
  "nbformat_minor": 0
}