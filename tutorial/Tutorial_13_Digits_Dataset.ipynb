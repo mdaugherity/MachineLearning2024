{
  "cells": [
    {
      "cell_type": "markdown",
      "metadata": {
        "id": "view-in-github",
        "colab_type": "text"
      },
      "source": [
        "<a href=\"https://colab.research.google.com/github/mdaugherity/MachineLearning2024/blob/main/tutorial/Tutorial_13_Digits_Dataset.ipynb\" target=\"_parent\"><img src=\"https://colab.research.google.com/assets/colab-badge.svg\" alt=\"Open In Colab\"/></a>"
      ]
    },
    {
      "cell_type": "markdown",
      "source": [
        "**Dr. Daugherity, Abilene Christian University, PHYS 453**"
      ],
      "metadata": {
        "id": "IncWVuOFU2Sy"
      }
    },
    {
      "cell_type": "code",
      "execution_count": 1,
      "metadata": {
        "id": "iSlhsOXpkuzI"
      },
      "outputs": [],
      "source": [
        "import numpy as np\n",
        "import matplotlib.pyplot as plt\n",
        "\n",
        "# Common utilities\n",
        "from sklearn.datasets import load_digits\n",
        "from sklearn.model_selection import train_test_split\n",
        "from sklearn.metrics import ConfusionMatrixDisplay\n",
        "\n",
        "# Classifiers\n",
        "from sklearn.naive_bayes import GaussianNB"
      ]
    },
    {
      "cell_type": "markdown",
      "metadata": {
        "id": "sHoSCmFYkuzG"
      },
      "source": [
        "# Tutorial 13: The Digits Dataset\n",
        "The digits dataset in sklearn is a sample of a [more complete dataset](http://archive.ics.uci.edu/ml/datasets/Pen-Based+Recognition+of+Handwritten+Digits).  Ours has 1,797 examples of classified hand-written digits 0-9 stored as pixel arrays with color from 0 (white) to 15 (black).\n",
        "\n"
      ]
    },
    {
      "cell_type": "markdown",
      "source": [
        "# Load Data"
      ],
      "metadata": {
        "id": "ztgBUeNoVE7Q"
      }
    },
    {
      "cell_type": "code",
      "source": [
        "X,y = load_digits(return_X_y=True)\n",
        "X_train, X_test, y_train, y_test = train_test_split(X, y, stratify=y, random_state=0) # stratify ensures an equal ratio of each target\n",
        "print(\"Data:  \",X.shape,y.shape)\n",
        "print(\"Train: \",X_train.shape, y_train.shape)\n",
        "print(\"Test:  \",X_test.shape,y_test.shape)"
      ],
      "metadata": {
        "colab": {
          "base_uri": "https://localhost:8080/"
        },
        "id": "koRAfL9fUlhL",
        "outputId": "9b1ddc9c-23d1-4bbe-c72d-5075573d3eaa"
      },
      "execution_count": 5,
      "outputs": [
        {
          "output_type": "stream",
          "name": "stdout",
          "text": [
            "Data:   (1797, 64) (1797,)\n",
            "Train:  (1347, 64) (1347,)\n",
            "Test:   (450, 64) (450,)\n"
          ]
        }
      ]
    },
    {
      "cell_type": "code",
      "execution_count": 6,
      "metadata": {
        "id": "_8BHUVhDkuzN",
        "outputId": "b2240480-0159-4dce-a30c-35203e856e79",
        "colab": {
          "base_uri": "https://localhost:8080/"
        }
      },
      "outputs": [
        {
          "output_type": "execute_result",
          "data": {
            "text/plain": [
              "array([ 0.,  0.,  0., 10., 12., 15., 16., 13.,  0.,  0.,  6., 15.,  6.,\n",
              "        4., 14.,  9.,  0.,  0., 10.,  6.,  0.,  3., 14.,  2.,  0.,  1.,\n",
              "       14.,  1.,  0., 12.,  6.,  0.,  0.,  0.,  3.,  0.,  5., 13.,  0.,\n",
              "        0.,  0.,  0.,  0.,  1., 13.,  3.,  0.,  0.,  0.,  0.,  0.,  6.,\n",
              "       13.,  0.,  0.,  0.,  0.,  0.,  0., 14.,  6.,  0.,  0.,  0.])"
            ]
          },
          "metadata": {},
          "execution_count": 6
        }
      ],
      "source": [
        "X_train[0]"
      ]
    },
    {
      "cell_type": "markdown",
      "metadata": {
        "id": "1-MouRP-kuzO"
      },
      "source": [
        "We have 64 features each representing a pixel color from 0 (white) to 15 (black).  \n",
        "\n",
        "### VERY IMPORTANT WARNING\n",
        "* To draw the images we need to make a 2D 8x8 array\n",
        "* To use sklearn we need a 2D Nx64 array (for N samples)\n",
        "\n",
        "We will use the reshape command to accomplish this feat:  \n",
        "https://docs.scipy.org/doc/numpy/reference/generated/numpy.reshape.html  \n",
        "In giving the new shape, you can use one -1 and numpy will calculate the dimension from the number of elements"
      ]
    },
    {
      "cell_type": "code",
      "execution_count": 7,
      "metadata": {
        "id": "6rYC-ZNqkuzP",
        "outputId": "26f295f3-f71d-4220-93e2-fd2ca1c147d6",
        "colab": {
          "base_uri": "https://localhost:8080/"
        }
      },
      "outputs": [
        {
          "output_type": "execute_result",
          "data": {
            "text/plain": [
              "(64,)"
            ]
          },
          "metadata": {},
          "execution_count": 7
        }
      ],
      "source": [
        "X_train[0].shape"
      ]
    },
    {
      "cell_type": "markdown",
      "metadata": {
        "id": "JFSAOgw5kuzQ"
      },
      "source": [
        "So one sample is a 1D array with 64 elements, so we need to reshape it"
      ]
    },
    {
      "cell_type": "code",
      "execution_count": 8,
      "metadata": {
        "id": "ZLHmfCjDkuzR",
        "outputId": "3112f8fb-30b9-49b7-8b1c-f45ace4500f3",
        "colab": {
          "base_uri": "https://localhost:8080/"
        }
      },
      "outputs": [
        {
          "output_type": "execute_result",
          "data": {
            "text/plain": [
              "array([[ 0.,  0.,  0., 10., 12., 15., 16., 13.],\n",
              "       [ 0.,  0.,  6., 15.,  6.,  4., 14.,  9.],\n",
              "       [ 0.,  0., 10.,  6.,  0.,  3., 14.,  2.],\n",
              "       [ 0.,  1., 14.,  1.,  0., 12.,  6.,  0.],\n",
              "       [ 0.,  0.,  3.,  0.,  5., 13.,  0.,  0.],\n",
              "       [ 0.,  0.,  0.,  1., 13.,  3.,  0.,  0.],\n",
              "       [ 0.,  0.,  0.,  6., 13.,  0.,  0.,  0.],\n",
              "       [ 0.,  0.,  0., 14.,  6.,  0.,  0.,  0.]])"
            ]
          },
          "metadata": {},
          "execution_count": 8
        }
      ],
      "source": [
        "X_train[0].reshape(8,8)  # make an 8x8 array for drawing"
      ]
    },
    {
      "cell_type": "code",
      "execution_count": 9,
      "metadata": {
        "id": "6aWdYXdJkuzT",
        "outputId": "ebbbd6e8-b704-4f8a-c9d9-324b5f3e85d8",
        "colab": {
          "base_uri": "https://localhost:8080/"
        }
      },
      "outputs": [
        {
          "output_type": "execute_result",
          "data": {
            "text/plain": [
              "(8, 8)"
            ]
          },
          "metadata": {},
          "execution_count": 9
        }
      ],
      "source": [
        "X_train[0].reshape(8,8).shape"
      ]
    },
    {
      "cell_type": "code",
      "execution_count": 10,
      "metadata": {
        "id": "g65u2fz2kuzU",
        "outputId": "71a16199-2163-4d45-8be6-4c479c47730f",
        "colab": {
          "base_uri": "https://localhost:8080/"
        }
      },
      "outputs": [
        {
          "output_type": "execute_result",
          "data": {
            "text/plain": [
              "array([[ 0.,  0.,  0., 10., 12., 15., 16., 13.,  0.,  0.,  6., 15.,  6.,\n",
              "         4., 14.,  9.,  0.,  0., 10.,  6.,  0.,  3., 14.,  2.,  0.,  1.,\n",
              "        14.,  1.,  0., 12.,  6.,  0.,  0.,  0.,  3.,  0.,  5., 13.,  0.,\n",
              "         0.,  0.,  0.,  0.,  1., 13.,  3.,  0.,  0.,  0.,  0.,  0.,  6.,\n",
              "        13.,  0.,  0.,  0.,  0.,  0.,  0., 14.,  6.,  0.,  0.,  0.]])"
            ]
          },
          "metadata": {},
          "execution_count": 10
        }
      ],
      "source": [
        "X_train[0].reshape(1,-1)  # make a 2D 1x64 array for sklearn  (-1 means to use all elements)"
      ]
    },
    {
      "cell_type": "code",
      "execution_count": 11,
      "metadata": {
        "id": "WHoZkr-MkuzW",
        "outputId": "25bd3baf-f361-459b-d859-040eb03d8f6e",
        "colab": {
          "base_uri": "https://localhost:8080/"
        }
      },
      "outputs": [
        {
          "output_type": "execute_result",
          "data": {
            "text/plain": [
              "(1, 64)"
            ]
          },
          "metadata": {},
          "execution_count": 11
        }
      ],
      "source": [
        "X_train[0].reshape(1,-1).shape"
      ]
    },
    {
      "cell_type": "markdown",
      "metadata": {
        "id": "__vUxGcFkuzW"
      },
      "source": [
        "**DO NOT PROCEED FARTHER** until you understand this.  \n",
        "\n",
        "Now we can play with digits"
      ]
    },
    {
      "cell_type": "markdown",
      "metadata": {
        "id": "jHx0nMQhkuzX"
      },
      "source": [
        "# Drawing Digits"
      ]
    },
    {
      "cell_type": "code",
      "execution_count": 12,
      "metadata": {
        "id": "WIx9aKsmkuzX",
        "outputId": "640a5409-31b8-4a99-b440-bb30aaf726a8",
        "colab": {
          "base_uri": "https://localhost:8080/",
          "height": 294
        }
      },
      "outputs": [
        {
          "output_type": "display_data",
          "data": {
            "text/plain": [
              "<Figure size 600x300 with 2 Axes>"
            ],
            "image/png": "[encoded data removed]"
          },
          "metadata": {}
        }
      ],
      "source": [
        "# Plot the first training sample\n",
        "plt.figure(figsize=(6, 3))\n",
        "\n",
        "plt.subplot(1,2,1)\n",
        "plt.imshow(X_train[0].reshape(8,8))\n",
        "plt.title(\"Default Colors\")\n",
        "\n",
        "plt.subplot(1,2,2)\n",
        "plt.title(\"Binary Colormap\")\n",
        "plt.imshow(X_train[0].reshape(8,8), cmap=plt.cm.binary)\n",
        "\n",
        "plt.show()"
      ]
    },
    {
      "cell_type": "markdown",
      "metadata": {
        "id": "9ZdaFGzfkuzY"
      },
      "source": [
        "The `imshow` command draws the 8x8 image.  The default colors are quite pretty, but I'll stick with the black and white version"
      ]
    },
    {
      "cell_type": "code",
      "execution_count": 13,
      "metadata": {
        "id": "D2L4JyJAkuzZ",
        "outputId": "f09d905a-0475-47fa-c899-fafc2f1244f2",
        "colab": {
          "base_uri": "https://localhost:8080/",
          "height": 536
        }
      },
      "outputs": [
        {
          "output_type": "display_data",
          "data": {
            "text/plain": [
              "<Figure size 1000x500 with 50 Axes>"
            ],
            "image/png": "[encoded data removed]"
          },
          "metadata": {}
        }
      ],
      "source": [
        "# Plot the first 50 samples\n",
        "fig = plt.figure(figsize=(10, 5))\n",
        "fig.subplots_adjust(left=0, right=1, bottom=0, top=1, hspace=0.05, wspace=0.05) # make small panels\n",
        "\n",
        "for i in range(50):\n",
        "    ax = fig.add_subplot(5,10, i + 1, xticks=[], yticks=[])\n",
        "    ax.imshow(X_train[i].reshape(8,8), cmap=plt.cm.binary)\n",
        "    ax.text(0, 7, str(y_train[i]))  # label the image with the target value\n",
        "\n",
        "plt.show()"
      ]
    },
    {
      "cell_type": "code",
      "execution_count": 14,
      "metadata": {
        "id": "Ox8dnQ8Zkuza",
        "outputId": "826d846d-fa9c-4e90-ffa1-f0f577824075",
        "colab": {
          "base_uri": "https://localhost:8080/"
        }
      },
      "outputs": [
        {
          "output_type": "execute_result",
          "data": {
            "text/plain": [
              "array([7, 3, 6, 6, 7, 6, 7, 9, 2, 9, 0, 9, 2, 5, 0, 7, 5, 3, 6, 7, 0, 0,\n",
              "       4, 9, 4, 8, 4, 7, 1, 7, 4, 5, 3, 2, 5, 7, 3, 3, 4, 4, 4, 8, 1, 3,\n",
              "       5, 4, 5, 4, 5, 8])"
            ]
          },
          "metadata": {},
          "execution_count": 14
        }
      ],
      "source": [
        "y_train[:50] # the true numbers in the training set"
      ]
    },
    {
      "cell_type": "code",
      "execution_count": 15,
      "metadata": {
        "id": "pMUtnFozkuza",
        "outputId": "1b82a7be-4198-4254-8308-524e061a0961",
        "colab": {
          "base_uri": "https://localhost:8080/"
        }
      },
      "outputs": [
        {
          "output_type": "stream",
          "name": "stdout",
          "text": [
            "Target\tCount\n",
            "0 \t 133\n",
            "1 \t 136\n",
            "2 \t 133\n",
            "3 \t 137\n",
            "4 \t 136\n",
            "5 \t 136\n",
            "6 \t 136\n",
            "7 \t 134\n",
            "8 \t 131\n",
            "9 \t 135\n"
          ]
        }
      ],
      "source": [
        "target,count = np.unique(y_train, return_counts=1)\n",
        "print(\"Target\\tCount\")\n",
        "for t,c in zip(target,count):\n",
        "    print(t,'\\t',c)"
      ]
    },
    {
      "cell_type": "markdown",
      "metadata": {
        "id": "adlPmcrskuzb"
      },
      "source": [
        "We have nearly equal numbers of all the digits in the training set.  Adding the `stratify` option in the test/train split helps ensure this."
      ]
    },
    {
      "cell_type": "markdown",
      "metadata": {
        "id": "omT39D70kuzc"
      },
      "source": [
        "Let's try training a classifier and seeing if it works"
      ]
    },
    {
      "cell_type": "markdown",
      "metadata": {
        "id": "Bf4yBDPnkuzc"
      },
      "source": [
        "# Classifier Performance\n",
        "## The Training Data"
      ]
    },
    {
      "cell_type": "code",
      "execution_count": 16,
      "metadata": {
        "id": "_WB94ghmkuzd",
        "outputId": "4858e62a-33ec-4816-804a-45191a7ac1fe",
        "colab": {
          "base_uri": "https://localhost:8080/"
        }
      },
      "outputs": [
        {
          "output_type": "execute_result",
          "data": {
            "text/plain": [
              "0.8478099480326652"
            ]
          },
          "metadata": {},
          "execution_count": 16
        }
      ],
      "source": [
        "clf = GaussianNB()  # No parameters to pick!\n",
        "clf.fit(X_train,y_train)  # only train on the training data!!!!!!!!!!!\n",
        "clf.score(X_train,y_train)"
      ]
    },
    {
      "cell_type": "markdown",
      "metadata": {
        "id": "4-F8BP3akuzd"
      },
      "source": [
        "The gaussian fits get 85% of the training data right.  Where did it go wrong?"
      ]
    },
    {
      "cell_type": "markdown",
      "metadata": {
        "id": "uVTqDKYDkuzd"
      },
      "source": [
        "### The Test Data\n",
        "The only fair way to evaluate a classifier is to use data **it hasn't been trained on**.  That's why we reserved 100 samples for a testing data set.  How well do we do with new samples the classifiers hasn't seen before?"
      ]
    },
    {
      "cell_type": "code",
      "execution_count": 17,
      "metadata": {
        "id": "0GVhMD__kuze",
        "outputId": "e28c60db-2953-4f70-e019-28f115f39531",
        "colab": {
          "base_uri": "https://localhost:8080/"
        }
      },
      "outputs": [
        {
          "output_type": "execute_result",
          "data": {
            "text/plain": [
              "0.8355555555555556"
            ]
          },
          "metadata": {},
          "execution_count": 17
        }
      ],
      "source": [
        "clf.score(X_test,y_test)"
      ]
    },
    {
      "cell_type": "markdown",
      "metadata": {
        "id": "zpBEUjIZkuzf"
      },
      "source": [
        "We get 84% right!  Consistent scores between the test and train dataset are a good sign that we are not under or over fitting."
      ]
    },
    {
      "cell_type": "code",
      "source": [
        "y_pred = clf.predict(X_test)\n",
        "ConfusionMatrixDisplay.from_predictions(y_test, y_pred,cmap='Blues')\n",
        "plt.show()"
      ],
      "metadata": {
        "colab": {
          "base_uri": "https://localhost:8080/",
          "height": 455
        },
        "id": "iInqbr7do6zW",
        "outputId": "66ee06cb-998b-4b95-ec93-dc22491d6d2f"
      },
      "execution_count": 18,
      "outputs": [
        {
          "output_type": "display_data",
          "data": {
            "text/plain": [
              "<Figure size 640x480 with 2 Axes>"
            ],
            "image/png": "[encoded data removed]"
          },
          "metadata": {}
        }
      ]
    },
    {
      "cell_type": "markdown",
      "metadata": {
        "id": "YRQCy77Nkuzf"
      },
      "source": [
        "We get a nice visualization of our mistakes. We often confuse 2's as 8's. So if I were going to try to improve performance then those are the places I would start."
      ]
    },
    {
      "cell_type": "code",
      "execution_count": 19,
      "metadata": {
        "id": "Clck8bVekuzh",
        "outputId": "2eba252e-f88b-4cff-9ade-d9f4aec31334",
        "colab": {
          "base_uri": "https://localhost:8080/"
        }
      },
      "outputs": [
        {
          "output_type": "stream",
          "name": "stdout",
          "text": [
            "Sample\tTruth\tPredicted\n",
            "0\t2\t1\n",
            "3\t9\t6\n",
            "6\t2\t8\n",
            "12\t8\t1\n",
            "14\t9\t3\n",
            "24\t2\t8\n",
            "26\t5\t1\n",
            "28\t2\t1\n",
            "32\t9\t3\n",
            "38\t4\t8\n",
            "40\t2\t8\n",
            "46\t5\t7\n",
            "47\t9\t8\n",
            "54\t4\t7\n",
            "57\t2\t8\n",
            "58\t5\t8\n",
            "64\t2\t8\n",
            "65\t2\t1\n",
            "66\t9\t1\n",
            "70\t3\t9\n",
            "85\t8\t7\n",
            "96\t9\t7\n",
            "111\t5\t9\n",
            "117\t9\t8\n",
            "120\t1\t8\n",
            "123\t2\t8\n",
            "170\t4\t5\n",
            "172\t1\t8\n",
            "175\t2\t1\n",
            "177\t2\t8\n",
            "181\t3\t8\n",
            "203\t3\t8\n",
            "206\t3\t8\n",
            "208\t2\t8\n",
            "209\t8\t5\n",
            "217\t8\t1\n",
            "225\t4\t5\n",
            "245\t0\t4\n",
            "249\t5\t9\n",
            "254\t8\t1\n",
            "256\t2\t8\n",
            "261\t9\t8\n",
            "265\t3\t7\n",
            "268\t2\t1\n",
            "271\t9\t8\n",
            "275\t1\t8\n",
            "276\t2\t1\n",
            "282\t4\t7\n",
            "284\t2\t8\n",
            "299\t3\t7\n",
            "302\t3\t8\n",
            "309\t6\t5\n",
            "319\t2\t8\n",
            "321\t2\t8\n",
            "329\t3\t8\n",
            "336\t4\t7\n",
            "353\t9\t8\n",
            "354\t9\t8\n",
            "359\t9\t1\n",
            "366\t3\t1\n",
            "372\t8\t1\n",
            "383\t9\t3\n",
            "386\t9\t0\n",
            "390\t5\t3\n",
            "406\t2\t8\n",
            "413\t2\t8\n",
            "419\t2\t1\n",
            "433\t3\t1\n",
            "439\t9\t1\n",
            "441\t2\t8\n",
            "443\t3\t8\n",
            "444\t1\t8\n",
            "448\t1\t8\n",
            "449\t9\t4\n"
          ]
        }
      ],
      "source": [
        "# Find the miss-classified samples\n",
        "miss = []  # save missed sample numbers\n",
        "print('Sample\\tTruth\\tPredicted')\n",
        "for i,pred in enumerate(y_pred):\n",
        "    if pred!=y_test[i]:\n",
        "        print(f\"{i}\\t{y_test[i]}\\t{pred}\")\n",
        "        miss.append(i)"
      ]
    },
    {
      "cell_type": "code",
      "execution_count": null,
      "metadata": {
        "id": "QoPwAUdBkuzh",
        "colab": {
          "base_uri": "https://localhost:8080/",
          "height": 259
        },
        "outputId": "da554266-32a6-43d8-c8f3-06376bb75dba"
      },
      "outputs": [
        {
          "output_type": "display_data",
          "data": {
            "text/plain": [
              "<Figure size 1500x300 with 5 Axes>"
            ],
            "image/png": "[encoded data removed]"
          },
          "metadata": {}
        }
      ],
      "source": [
        "# Plot the first 5 missed samples\n",
        "fig = plt.figure(figsize=(15, 3))\n",
        "#fig.subplots_adjust(left=0, right=1, bottom=0, top=1, hspace=0.05, wspace=0.05) # make small panels\n",
        "\n",
        "for i in range(5):\n",
        "    m = miss[i]  # the sample number we are looking at\n",
        "    ax = fig.add_subplot(1,5, i + 1, xticks=[], yticks=[])\n",
        "    ax.imshow(X_test[m].reshape(8,8), cmap=plt.cm.binary)\n",
        "    plt.title(f\"Truth={y_test[m]}, Pred={y_pred[m]}\")\n",
        "\n",
        "plt.show()"
      ]
    },
    {
      "cell_type": "markdown",
      "metadata": {
        "id": "LAb_Sa7wkuzi"
      },
      "source": [
        "Some of these are reasonable guesses, but some are pretty strange.\n",
        "\n",
        "In Homework 4 you will try to do better!"
      ]
    }
  ],
  "metadata": {
    "kernelspec": {
      "display_name": "Python 3",
      "language": "python",
      "name": "python3"
    },
    "language_info": {
      "codemirror_mode": {
        "name": "ipython",
        "version": 3
      },
      "file_extension": ".py",
      "mimetype": "text/x-python",
      "name": "python",
      "nbconvert_exporter": "python",
      "pygments_lexer": "ipython3",
      "version": "3.6.10"
    },
    "colab": {
      "provenance": [],
      "toc_visible": true,
      "include_colab_link": true
    }
  },
  "nbformat": 4,
  "nbformat_minor": 0
}