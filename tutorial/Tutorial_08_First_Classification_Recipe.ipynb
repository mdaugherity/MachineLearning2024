{
  "nbformat": 4,
  "nbformat_minor": 0,
  "metadata": {
    "colab": {
      "provenance": [],
      "toc_visible": true,
      "authorship_tag": "ABX9TyN2uBU3YXeUfwFhiIWvNGYN",
      "include_colab_link": true
    },
    "kernelspec": {
      "name": "python3",
      "display_name": "Python 3"
    },
    "language_info": {
      "name": "python"
    }
  },
  "cells": [
    {
      "cell_type": "markdown",
      "metadata": {
        "id": "view-in-github",
        "colab_type": "text"
      },
      "source": [
        "<a href=\"https://colab.research.google.com/github/mdaugherity/MachineLearning2024/blob/main/tutorial/Tutorial_08_First_Classification_Recipe.ipynb\" target=\"_parent\"><img src=\"https://colab.research.google.com/assets/colab-badge.svg\" alt=\"Open In Colab\"/></a>"
      ]
    },
    {
      "cell_type": "markdown",
      "source": [
        "**Dr. Daugherity, Abilene Christian University PHYS 453**"
      ],
      "metadata": {
        "id": "BzfgAc2hTxKG"
      }
    },
    {
      "cell_type": "code",
      "execution_count": 1,
      "metadata": {
        "id": "oOG-TatETAPO"
      },
      "outputs": [],
      "source": [
        "import numpy as np\n",
        "import matplotlib.pyplot as plt\n",
        "\n",
        "# Common utilities\n",
        "from sklearn import datasets\n",
        "from sklearn.model_selection import train_test_split\n",
        "from sklearn.preprocessing import StandardScaler\n",
        "from sklearn.model_selection import GridSearchCV\n",
        "from sklearn.pipeline import Pipeline\n",
        "from sklearn.metrics import classification_report\n",
        "from sklearn.metrics import ConfusionMatrixDisplay\n",
        "\n",
        "# Classifiers\n",
        "from sklearn.neighbors import KNeighborsClassifier"
      ]
    },
    {
      "cell_type": "markdown",
      "source": [
        "# Tutorial 8 - First Classification Recipe\n",
        "In the past several tutorials we have been working through all of the key steps in a proper classification analysis.  Now it is finally time to assemble all of the pieces into a simple and usable recipe.\n",
        "\n"
      ],
      "metadata": {
        "id": "1LPM6Fl1T-Ny"
      }
    },
    {
      "cell_type": "markdown",
      "source": [
        "# Workflow - The Order Is Important!\n",
        "\n",
        "These are the steps:\n",
        "1.  **Load Data** - I really mention this as a step because in real-world problems you are likely to spend >80% of your time collecting, reading, exploring, and cleaning data.  \n",
        "1.  **Test/Train Split** - The first thing you do after getting data is to hide away a portion as your final test set.  Any data that has been *fit* cannot be used for a fair evaluation of the classifier's performance on new data.  Even something as simple as feature scaling can bias results.  \n",
        "1.  **Pipeline** - Set up all data transforms and your classifier in a pipeline and use it exclusively to access data.  \n",
        "  1.  **Transforms** - All of the data preprocessing steps such as scaling (which you should nearly always do) and feature engineering\n",
        "  1.  **Estimator** - The final step in the pipeline is our classifier (or regressor).  The pipeline automatically applies all of the transforms every time we use it.\n",
        "1.  **Grid Search** - Tune all of the parameters with a cross-validation grid search.  Check for signs of under-fitting and over-fitting by comparing the training and validation scores.\n",
        "1.  **Final Test** - Only after you are completely done training your model, then you may run it on the saved test set to measure performance on new data.\n",
        "\n",
        "\n",
        "**NOTES:** In the code below I will keep commentary to a minimum to reduce the amount of stuff you'll have to delete when using this code.  In each section I'll make a special cell for notes instead of sprinkling them everywhere.\n",
        "\n"
      ],
      "metadata": {
        "id": "iRTXnMxtUdfO"
      }
    },
    {
      "cell_type": "markdown",
      "source": [
        "# Load Data\n",
        "\n"
      ],
      "metadata": {
        "id": "UCgY2wTaYajW"
      }
    },
    {
      "cell_type": "markdown",
      "source": [
        "**NOTES**\n",
        "\n",
        "* User's Guide: https://scikit-learn.org/stable/datasets.html\n",
        "* Can use return_X_y or as_frame for different formats\n",
        "* For a spreadsheet you can use [Pandas read_csv](https://pandas.pydata.org/docs/reference/api/pandas.read_csv.html)\n",
        "* You should clean and plot your data (but we're skipping that step for this lesson)"
      ],
      "metadata": {
        "id": "aEJEt3EcaHEe"
      }
    },
    {
      "cell_type": "code",
      "source": [
        "# Example Bunch Data, see https://scikit-learn.org/stable/modules/generated/sklearn.utils.Bunch.html#sklearn.utils.Bunch\n",
        "data_bunch = datasets.load_iris()\n",
        "data_bunch.keys()"
      ],
      "metadata": {
        "colab": {
          "base_uri": "https://localhost:8080/"
        },
        "id": "rlEpX-LXYkLT",
        "outputId": "a1ddd485-6a1c-49d2-b07c-4bfab44ea78b"
      },
      "execution_count": 2,
      "outputs": [
        {
          "output_type": "execute_result",
          "data": {
            "text/plain": [
              "dict_keys(['data', 'target', 'frame', 'target_names', 'DESCR', 'feature_names', 'filename', 'data_module'])"
            ]
          },
          "metadata": {},
          "execution_count": 2
        }
      ]
    },
    {
      "cell_type": "code",
      "source": [
        "X = data_bunch.data\n",
        "y = data_bunch.target\n",
        "\n",
        "target_names = data_bunch.target_names\n",
        "feature_names = data_bunch.feature_names\n",
        "print('Targets:\\t',target_names)\n",
        "print('Feature:\\t',feature_names)\n",
        "print('Data shape:\\t',X.shape)"
      ],
      "metadata": {
        "colab": {
          "base_uri": "https://localhost:8080/"
        },
        "id": "W-d5zFiPatCf",
        "outputId": "87160208-2cb1-43d0-fc29-b2c8c032e8ec"
      },
      "execution_count": 3,
      "outputs": [
        {
          "output_type": "stream",
          "name": "stdout",
          "text": [
            "Targets:\t ['setosa' 'versicolor' 'virginica']\n",
            "Feature:\t ['sepal length (cm)', 'sepal width (cm)', 'petal length (cm)', 'petal width (cm)']\n",
            "Data shape:\t (150, 4)\n"
          ]
        }
      ]
    },
    {
      "cell_type": "markdown",
      "source": [
        "# Test/Train Split\n"
      ],
      "metadata": {
        "id": "NWqgIvf9bTau"
      }
    },
    {
      "cell_type": "markdown",
      "source": [
        "**NOTES**\n",
        "\n",
        "Now we split data intro train and test subsets.  **IT IS IMPORTANT TO DO THIS FIRST** before any other operations take place.  I recommend reading through the [common pitfalls](https://scikit-learn.org/stable/common_pitfalls.html) for more insights and discussion.\n",
        "* only call fit on X_train\n",
        "* only use X_test to evaulate the final accuracy\n",
        "\n",
        "Use `stratify=y` to ensure proportional numbers of each target go to each set.\n",
        "\n",
        "One important clarification: when we tell GridSearchCV to fit X_train, it tunes parameters by further splitting X_train into pieces to make training and [validation](https://en.wikipedia.org/wiki/Training,_validation,_and_test_data_sets) sets.  When we look at GridSearchCV \"*test*\" scores we are actually looking at portion of X_train, so it is best to call this the validation set.  We never let grid search see X_test until the final evaluation.\n",
        "\n",
        "Other notes:\n",
        "* You may want to set ```random_state```\n",
        "* Default is 75% train, 25% test\n",
        "* If you have several targets (like more than 2) it is good to use stratify so equal ratios of each target go in to each set"
      ],
      "metadata": {
        "id": "92-YV-aAcrFu"
      }
    },
    {
      "cell_type": "code",
      "source": [
        "X_train, X_test, y_train, y_test = train_test_split(X, y, stratify=y,random_state=0) # stratify ensures an equal ratio of each target\n",
        "print('Train\\t',X_train.shape)\n",
        "print('Test\\t',X_test.shape)"
      ],
      "metadata": {
        "id": "Sv_inBtVbVPG",
        "colab": {
          "base_uri": "https://localhost:8080/"
        },
        "outputId": "0ff2e1c9-8e75-4346-dbf0-2b3ef03ab19f"
      },
      "execution_count": 4,
      "outputs": [
        {
          "output_type": "stream",
          "name": "stdout",
          "text": [
            "Train\t (112, 4)\n",
            "Test\t (38, 4)\n"
          ]
        }
      ]
    },
    {
      "cell_type": "markdown",
      "source": [
        "# Train"
      ],
      "metadata": {
        "id": "MSwzss3BelTG"
      }
    },
    {
      "cell_type": "markdown",
      "source": [
        "Define helper functions for plotting grid search results\n"
      ],
      "metadata": {
        "id": "L5tCBuPMdOB9"
      }
    },
    {
      "cell_type": "code",
      "source": [
        "# These functions visualize results from a parameter grid search.\n",
        "\n",
        "def make_grid_plot_labels(grid_clf):\n",
        "  # Turns a parameter dictionary entry into a single string and returns the whole list\n",
        "  res = grid_clf.cv_results_\n",
        "  NUM_KEYS = len(res['params'][0].values())\n",
        "  labels = []\n",
        "  for item in res['params']:\n",
        "    labels.append(\"_\".join( [str(val) for val in item.values()]))\n",
        "  return labels\n",
        "\n",
        "def make_grid_plot(grid_clf):\n",
        "  # Displays the scores for every set of parameters\n",
        "  res = grid_clf.cv_results_\n",
        "  plt.figure(figsize=(8,4))\n",
        "  plt.axvline(grid_clf.best_index_, color='black', lw=2) # draw black line behind best params\n",
        "\n",
        "  NUM_KEYS = len(res['params'])\n",
        "  x = np.arange(NUM_KEYS)\n",
        "  plt.plot(res['mean_test_score'],'-o', label='Val')\n",
        "  plt.fill_between(x,res['mean_test_score']+res['std_test_score'], res['mean_test_score']-res['std_test_score'], alpha=0.2)\n",
        "  #plt.errorbar(x, res['mean_test_score'],yerr=res['std_test_score'],xerr=0,fmt='-o', capsize=2, label='Val')\n",
        "\n",
        "  plt.plot(res['mean_train_score'],'-s', label='Train')\n",
        "  plt.fill_between(x,res['mean_train_score']+res['std_train_score'], res['mean_train_score']-res['std_train_score'], alpha=0.2)\n",
        "  #plt.errorbar(x, res['mean_train_score'],yerr=res['std_train_score'],xerr=0,fmt='-s', capsize=2,label='Train')\n",
        "  plt.title('Grid CV Results')\n",
        "  plt.ylabel('Mean Test Score')\n",
        "\n",
        "  labels = make_grid_plot_labels(grid_clf)\n",
        "  plt.xticks(ticks = x, labels=labels, rotation=90)\n",
        "  plt.legend()\n",
        "  plt.grid()\n",
        "  plt.show()"
      ],
      "metadata": {
        "id": "0DnzrdJVdHHx"
      },
      "execution_count": 5,
      "outputs": []
    },
    {
      "cell_type": "markdown",
      "source": [
        "**Notes**\n",
        "\n",
        "The next steps will happen inside a [pipeline](https://scikit-learn.org/stable/modules/compose.html).  We need to scale the data (and possibly transform it in other exciting ways), and setting up a pipeline ensures that we will treat the test and train sets exactly the same way. See a simple example of pipeline usage [here](https://scikit-learn.org/stable/auto_examples/compose/plot_digits_pipe.html#sphx-glr-auto-examples-compose-plot-digits-pipe-py).\n",
        "\n",
        "\n",
        "\n",
        "Remember that it is vital (for most classifiers) to scale the data first.  The other steps are optional and problem-specific.\n",
        "* (required) Scaling: use [StandardScaler](https://scikit-learn.org/stable/modules/generated/sklearn.preprocessing.StandardScaler.html#sklearn.preprocessing.StandardScaler), [MinMaxScaler](https://scikit-learn.org/stable/modules/generated/sklearn.preprocessing.MinMaxScaler.html#sklearn.preprocessing.MinMaxScaler), or [RobustScaler](https://scikit-learn.org/stable/modules/generated/sklearn.preprocessing.RobustScaler.html#sklearn.preprocessing.RobustScaler);  see the [User's Guide here](https://scikit-learn.org/stable/modules/preprocessing.html#standardization-or-mean-removal-and-variance-scaling)\n",
        "* (optional): other transforms like dimensionality reduction using [PCA](https://scikit-learn.org/stable/modules/generated/sklearn.decomposition.PCA.html#sklearn.decomposition.PCA)\n",
        "\n",
        "The last step in the pipeline will be the classifier. It is easier to make the pipeline all at once, so we'll do the pipeline code along with the classifiers below.\n",
        "\n",
        "\n"
      ],
      "metadata": {
        "id": "3bkTg16Heogd"
      }
    },
    {
      "cell_type": "code",
      "source": [
        "# Define Pipeline\n",
        "estimators = [('scaler', StandardScaler()), ('clf', KNeighborsClassifier()) ]\n",
        "pipe = Pipeline(estimators)\n",
        "\n",
        "# Grid Search Parameters\n",
        "KLIST = np.arange(1,18)\n",
        "params = {'clf__n_neighbors':KLIST}\n",
        "print('Grid Parameters:',params)\n",
        "grid_clf = GridSearchCV(pipe, param_grid=params, return_train_score=True)\n",
        "grid_clf.fit(X_train, y_train)\n",
        "\n",
        "#plot_2par_grid_search(grid_clf.cv_results_, KLIST, WLIST, 'n_neighbors', 'weight')  # only works for 2 parameters\n",
        "make_grid_plot(grid_clf) # works for any number of parameters, but messier\n",
        "\n",
        "print('Best parameters:', grid_clf.best_params_)\n",
        "print(f\"Best Validation Score:\\t{grid_clf.best_score_:0.3f}\")"
      ],
      "metadata": {
        "colab": {
          "base_uri": "https://localhost:8080/",
          "height": 447
        },
        "id": "wxaJqpdSiFQN",
        "outputId": "c6560de7-037c-492f-ae6d-59bc626cfa3b"
      },
      "execution_count": 6,
      "outputs": [
        {
          "output_type": "stream",
          "name": "stdout",
          "text": [
            "Grid Parameters: {'clf__n_neighbors': array([ 1,  2,  3,  4,  5,  6,  7,  8,  9, 10, 11, 12, 13, 14, 15, 16, 17])}\n"
          ]
        },
        {
          "output_type": "display_data",
          "data": {
            "text/plain": [
              "<Figure size 800x400 with 1 Axes>"
            ],
            "image/png": "[encoded data removed]"
          },
          "metadata": {}
        },
        {
          "output_type": "stream",
          "name": "stdout",
          "text": [
            "Best parameters: {'clf__n_neighbors': 6}\n",
            "Best Validation Score:\t0.956\n"
          ]
        }
      ]
    },
    {
      "cell_type": "markdown",
      "source": [
        "# Evaluate"
      ],
      "metadata": {
        "id": "WR6q6LDotRQW"
      }
    },
    {
      "cell_type": "markdown",
      "source": [
        "**NOTES**\n",
        "\n",
        "* Do not run this code until you are done training your model\n",
        "* Don't have data leakage.  Do not go back and adjust options to improve test scores"
      ],
      "metadata": {
        "id": "nc-P5h5BufCp"
      }
    },
    {
      "cell_type": "code",
      "source": [
        "print(f\"Grid Test SCORE:\\t{grid_clf.score(X_test,y_test):0.3f}\")"
      ],
      "metadata": {
        "colab": {
          "base_uri": "https://localhost:8080/"
        },
        "id": "o92069cqtmBQ",
        "outputId": "a4259d30-ac3c-49bd-b1c8-05effefe94c5"
      },
      "execution_count": 7,
      "outputs": [
        {
          "output_type": "stream",
          "name": "stdout",
          "text": [
            "Grid Test SCORE:\t0.947\n"
          ]
        }
      ]
    },
    {
      "cell_type": "code",
      "source": [
        "y_pred = grid_clf.predict(X_test)\n",
        "ConfusionMatrixDisplay.from_predictions(y_test, y_pred, cmap='Blues')\n",
        "plt.show()"
      ],
      "metadata": {
        "colab": {
          "base_uri": "https://localhost:8080/",
          "height": 449
        },
        "id": "uDdK2hD1s5K_",
        "outputId": "5ce2fcb1-004c-49c7-a11c-773f72fc43ab"
      },
      "execution_count": 8,
      "outputs": [
        {
          "output_type": "display_data",
          "data": {
            "text/plain": [
              "<Figure size 640x480 with 2 Axes>"
            ],
            "image/png": "[encoded data removed]"
          },
          "metadata": {}
        }
      ]
    },
    {
      "cell_type": "code",
      "source": [
        "print(classification_report(y_test, y_pred))"
      ],
      "metadata": {
        "colab": {
          "base_uri": "https://localhost:8080/"
        },
        "id": "hdokGM3DuK_Z",
        "outputId": "bc6f7b67-7a5f-4825-8bc3-e1a176891d32"
      },
      "execution_count": 9,
      "outputs": [
        {
          "output_type": "stream",
          "name": "stdout",
          "text": [
            "              precision    recall  f1-score   support\n",
            "\n",
            "           0       1.00      1.00      1.00        13\n",
            "           1       0.87      1.00      0.93        13\n",
            "           2       1.00      0.83      0.91        12\n",
            "\n",
            "    accuracy                           0.95        38\n",
            "   macro avg       0.96      0.94      0.95        38\n",
            "weighted avg       0.95      0.95      0.95        38\n",
            "\n"
          ]
        }
      ]
    },
    {
      "cell_type": "markdown",
      "source": [
        "# Use the Classifier\n",
        "Now that we are done we can FINALLY USE OUR CLASSIFIER to, well, classify things."
      ],
      "metadata": {
        "id": "Elh-rqeYeBEY"
      }
    },
    {
      "cell_type": "code",
      "source": [
        "#Classify new samples\n",
        "flowers = np.array([[5.6,3.0,3.7, 1.5], [5.0,3.4,1.4,0.2]])  # make up some new flowers\n",
        "y_pred = grid_clf.predict(flowers)\n",
        "print('Predicted classes:\\t',y_pred)\n",
        "print('Predicted species:\\t',target_names[y_pred])\n"
      ],
      "metadata": {
        "colab": {
          "base_uri": "https://localhost:8080/"
        },
        "id": "U6WQFQbAeUCb",
        "outputId": "857477e5-ed8e-4593-ed49-a3e70320fba6"
      },
      "execution_count": 10,
      "outputs": [
        {
          "output_type": "stream",
          "name": "stdout",
          "text": [
            "Predicted classes:\t [1 0]\n",
            "Predicted species:\t ['versicolor' 'setosa']\n"
          ]
        }
      ]
    },
    {
      "cell_type": "code",
      "source": [
        "X_pred = np.random.random_sample((10,4))*X.max()  # generate some random nonsense\n",
        "print('Totally real flowers:')\n",
        "np.set_printoptions(precision=2)\n",
        "print(X_pred)\n",
        "\n",
        "y_pred = grid_clf.predict(X_pred )\n",
        "print('Predicted classes:',y_pred)"
      ],
      "metadata": {
        "colab": {
          "base_uri": "https://localhost:8080/"
        },
        "id": "nRPR2VULfj_L",
        "outputId": "6a9cc2e3-ba3b-4f2b-c2b1-37120c888ca4"
      },
      "execution_count": 11,
      "outputs": [
        {
          "output_type": "stream",
          "name": "stdout",
          "text": [
            "Totally real flowers:\n",
            "[[5.40e+00 1.55e+00 3.53e+00 1.86e+00]\n",
            " [7.72e+00 7.80e-01 6.09e+00 6.15e+00]\n",
            " [1.23e+00 1.49e+00 7.46e+00 6.91e+00]\n",
            " [6.10e+00 4.05e+00 7.86e+00 5.75e-03]\n",
            " [1.13e+00 4.42e+00 7.01e+00 4.97e+00]\n",
            " [5.57e+00 1.59e+00 4.76e+00 7.74e+00]\n",
            " [3.77e+00 7.28e-01 4.43e+00 2.06e+00]\n",
            " [6.36e+00 5.43e+00 5.90e+00 1.92e+00]\n",
            " [3.83e+00 8.44e-01 3.87e+00 2.06e-01]\n",
            " [2.51e+00 7.84e+00 3.08e+00 5.36e+00]]\n",
            "Predicted classes: [1 2 2 1 2 2 1 0 1 0]\n"
          ]
        }
      ]
    }
  ]
}