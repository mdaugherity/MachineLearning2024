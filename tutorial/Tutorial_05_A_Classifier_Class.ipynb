{
  "cells": [
    {
      "cell_type": "markdown",
      "metadata": {
        "id": "view-in-github",
        "colab_type": "text"
      },
      "source": [
        "<a href=\"https://colab.research.google.com/github/mdaugherity/MachineLearning2024/blob/main/tutorial/Tutorial_05_A_Classifier_Class.ipynb\" target=\"_parent\"><img src=\"https://colab.research.google.com/assets/colab-badge.svg\" alt=\"Open In Colab\"/></a>"
      ]
    },
    {
      "cell_type": "code",
      "execution_count": 1,
      "metadata": {
        "id": "EER6gbQbEfzc"
      },
      "outputs": [],
      "source": [
        "import matplotlib.pyplot as plt\n",
        "import numpy as np\n",
        "from sklearn import datasets"
      ]
    },
    {
      "cell_type": "markdown",
      "metadata": {
        "id": "dwfycjQxEfza"
      },
      "source": [
        "# Tutorial 5 - A Classifier Class\n",
        "Dr. Daugherity, PHYS 453\n",
        "\n",
        "VERY soon we will start using sklearn's built-in classifiers.  To make sure we understand what is going on under the hood, we will turn our homework 1 solution into a more user-friendly class.\n",
        "\n",
        "**Classes for Novice Programmers**\n",
        "\n",
        "The goal is to make a single package that contains our data with functions to act on it with an obvious interface.  In addition to the initialization function where we set the parameters, every sklearn classifier also has:\n",
        "\n",
        "\n",
        "*  fit(X,y) - trains the classifier on features X that represent target y\n",
        "*  predict(y) - uses the trained classifier to predict the target of the given features\n",
        "\n",
        "The goal of this tutorial is to implement these functions for our lousy 1D classifier."
      ]
    },
    {
      "cell_type": "markdown",
      "source": [
        "# Python Class Example\n",
        "Python is a beautifully designed, clean, and simple language.  One thing that looks a bit ugly and feels clunky is in defining classes.  Remember that these design choices are based on removing any possible ambiguity about which variable we are using.\n",
        "\n",
        "How to write python classes:\n",
        "*   any variable saved into the class must start with a ```self.```  For example use ```self.x``` instead of ```x```  \n",
        "*   functions must also take ```self``` as the first parameter\n",
        "*   to initialize the object define a function called ```___init___```\n",
        "\n",
        "An example will help\n",
        "\n",
        "\n"
      ],
      "metadata": {
        "id": "dujRxzopkqYL"
      }
    },
    {
      "cell_type": "code",
      "source": [
        "class example:\n",
        "\n",
        "  def __init__(self,a=0,b=0):    # initialization function that runs automatically when we make an object\n",
        "    self.a = a\n",
        "    self.b = b\n",
        "\n",
        "  def set(self,a,b):\n",
        "    self.a = a\n",
        "    self.b = b\n",
        "\n",
        "  def show(self):\n",
        "    print(self.a,self.b)\n",
        "\n",
        "x = example()  # make an object of our class\n",
        "x.show()\n",
        "x.set(1,2)\n",
        "x.show()"
      ],
      "metadata": {
        "id": "JVIC9O2_YmYS",
        "colab": {
          "base_uri": "https://localhost:8080/"
        },
        "outputId": "07a64ad9-a41f-4bd8-f972-b828540f85a5"
      },
      "execution_count": 2,
      "outputs": [
        {
          "output_type": "stream",
          "name": "stdout",
          "text": [
            "0 0\n",
            "1 2\n"
          ]
        }
      ]
    },
    {
      "cell_type": "code",
      "source": [
        "# Note that different objects store different values\n",
        "y = example(99,-1234)\n",
        "y.show()\n",
        "x.show() # x is unchanged"
      ],
      "metadata": {
        "colab": {
          "base_uri": "https://localhost:8080/"
        },
        "id": "PzR3_TLY-USp",
        "outputId": "c9ab79ae-97ac-44ff-e1b0-575f7febbf31"
      },
      "execution_count": 6,
      "outputs": [
        {
          "output_type": "stream",
          "name": "stdout",
          "text": [
            "99 -1234\n",
            "1 2\n"
          ]
        }
      ]
    },
    {
      "cell_type": "code",
      "source": [
        "y.b  # can access variables directly"
      ],
      "metadata": {
        "colab": {
          "base_uri": "https://localhost:8080/"
        },
        "id": "1ZquGihU-pAM",
        "outputId": "c725411e-b17e-4611-b8fc-2408f0c607ae"
      },
      "execution_count": 7,
      "outputs": [
        {
          "output_type": "execute_result",
          "data": {
            "text/plain": [
              "-1234"
            ]
          },
          "metadata": {},
          "execution_count": 7
        }
      ]
    },
    {
      "cell_type": "markdown",
      "source": [
        "# The Classifier Class\n",
        "Now let's turn the *Brute Force Classifier*$^{TM}$ into a class that matches sklearn's syntax"
      ],
      "metadata": {
        "id": "qJqun8WSTEWw"
      }
    },
    {
      "cell_type": "code",
      "source": [
        "class bfc:\n",
        "  \"\"\"Our 1D BRUTE FORCE CLASSIFIER!!!!!!\"\"\"\"\"\n",
        "  def __init__(self):\n",
        "    self.thresh = 0\n",
        "\n",
        "  def find_accuracy(self, feat, y, thresh):\n",
        "    \"\"\"Finds the accuracy using single feature data feat, targets y, and a threshold\"\"\"\n",
        "    count = 0\n",
        "    for i,xval in enumerate(feat):\n",
        "      if xval < thresh:\n",
        "        pred = 0\n",
        "      else:\n",
        "        pred = 1\n",
        "\n",
        "      if y[i] == pred:\n",
        "        count +=1\n",
        "      #print(f\"{X[i,col]}\\t{xval} \\t {thresh} \\t {pred} \\t {y[i]}\")\n",
        "    return count\n",
        "\n",
        "  def fit(self, feat, y):\n",
        "    \"\"\"Finds the threshold for a single feature data feat and target y\"\"\"\n",
        "    numthresh=1000\n",
        "    thresholds = np.linspace(feat.min(), feat.max(),num=numthresh)\n",
        "    A = np.zeros_like(thresholds)\n",
        "    for i,thresh in enumerate(thresholds):\n",
        "      A[i] = self.find_accuracy(feat, y, thresh)\n",
        "\n",
        "    # in case of a tie argmax returns the first index only.  Loop over all ties to find the midpoint\n",
        "    i = A.argmax()  # starting point\n",
        "    AMAX = A.max()\n",
        "    while A[i]==AMAX:\n",
        "      #print(i,A[i], thresholds[i])\n",
        "      i+=1\n",
        "    t1 = thresholds[ A.argmax()] # start of tie\n",
        "    t2 = thresholds[i-1] # end of tie\n",
        "    self.thresh = (t1+t2)/2\n",
        "    #print(f\"Max accuracy is {A.max()} at threshold {thresh}\")\n",
        "    return\n",
        "\n",
        "  def predict(self,X):\n",
        "    y = np.zeros_like(X)\n",
        "    for i in range(len(X)):\n",
        "      if X[i] < self.thresh:\n",
        "        y[i] = 0\n",
        "      else:\n",
        "        y[i] = 1\n",
        "    return y\n"
      ],
      "metadata": {
        "id": "ynTxdgT4TGvg"
      },
      "execution_count": 17,
      "outputs": []
    },
    {
      "cell_type": "markdown",
      "metadata": {
        "id": "WUKNVsBBEfzn"
      },
      "source": [
        "## Input Data\n"
      ]
    },
    {
      "cell_type": "code",
      "execution_count": 20,
      "metadata": {
        "id": "27EfbRPGEfzh"
      },
      "outputs": [],
      "source": [
        "Xall, yall = datasets.load_iris(return_X_y=True)\n",
        "X = Xall[yall<2]  # get rid of species 2\n",
        "y = yall[yall<2]\n",
        "X0 = X[:,0]  # feature 0\n",
        "\n",
        "N2 = 50\n",
        "np.random.seed(3)\n",
        "Xtest2 = np.random.randn(N2*2)\n",
        "ytest2 = np.hstack((np.zeros(N2),np.ones(N2)))"
      ]
    },
    {
      "cell_type": "markdown",
      "metadata": {
        "id": "bxFcPD25Efzn"
      },
      "source": [
        "## Analysis\n",
        "See how easy it is to use!\n"
      ]
    },
    {
      "cell_type": "code",
      "source": [
        "clf = bfc()\n",
        "clf.fit(X0,y)\n",
        "print(clf.thresh)"
      ],
      "metadata": {
        "colab": {
          "base_uri": "https://localhost:8080/"
        },
        "id": "58XYL6pZT-S_",
        "outputId": "1635849a-9b94-491d-d502-e0f72ea44809"
      },
      "execution_count": 21,
      "outputs": [
        {
          "output_type": "stream",
          "name": "stdout",
          "text": [
            "5.451351351351351\n"
          ]
        }
      ]
    },
    {
      "cell_type": "code",
      "source": [
        "plt.figure(figsize=(10,4))\n",
        "\n",
        "plt.subplot(1,2,1)\n",
        "plt.scatter(X0, y,c=y,cmap='bwr', alpha=0.2)\n",
        "plt.axvline(clf.thresh,color='g')\n",
        "plt.title('Scatter Version')\n",
        "plt.ylim(-1, 2)\n",
        "plt.yticks([0,1])\n",
        "plt.ylabel('Class')\n",
        "plt.xlabel('Feature')\n",
        "\n",
        "plt.subplot(1,2,2)\n",
        "#plt.scatter(X0, y,c=y,cmap='bwr', alpha=0.2)\n",
        "plt.hist(X0[y==0])\n",
        "plt.hist(X0[y==1])\n",
        "plt.axvline(clf.thresh,color='g')\n",
        "plt.title('Histogram Version')\n",
        "plt.ylabel('Count')\n",
        "plt.xlabel('Feature')\n",
        "\n",
        "plt.tight_layout()\n",
        "plt.show()"
      ],
      "metadata": {
        "colab": {
          "base_uri": "https://localhost:8080/",
          "height": 407
        },
        "id": "ZlTO9nm5f10I",
        "outputId": "de7def85-0e91-4023-98fe-c4d80e0130ce"
      },
      "execution_count": 38,
      "outputs": [
        {
          "output_type": "display_data",
          "data": {
            "text/plain": [
              "<Figure size 1000x400 with 2 Axes>"
            ],
            "image/png": "[encoded data removed]"
          },
          "metadata": {}
        }
      ]
    },
    {
      "cell_type": "code",
      "source": [
        "# How well did we do on the training data?\n",
        "from sklearn.metrics import classification_report\n",
        "\n",
        "y_pred = clf.predict(X0)\n",
        "print(classification_report(y,y_pred))"
      ],
      "metadata": {
        "colab": {
          "base_uri": "https://localhost:8080/"
        },
        "id": "7mItsydioh6x",
        "outputId": "74326a22-b211-489e-a7b1-41a62cefe390"
      },
      "execution_count": 39,
      "outputs": [
        {
          "output_type": "stream",
          "name": "stdout",
          "text": [
            "              precision    recall  f1-score   support\n",
            "\n",
            "           0       0.88      0.90      0.89        50\n",
            "           1       0.90      0.88      0.89        50\n",
            "\n",
            "    accuracy                           0.89       100\n",
            "   macro avg       0.89      0.89      0.89       100\n",
            "weighted avg       0.89      0.89      0.89       100\n",
            "\n"
          ]
        }
      ]
    },
    {
      "cell_type": "code",
      "source": [
        "from sklearn.metrics import confusion_matrix\n",
        "from sklearn.metrics import ConfusionMatrixDisplay\n",
        "ConfusionMatrixDisplay.from_predictions(y, y_pred, cmap=\"Blues\")\n",
        "plt.show()"
      ],
      "metadata": {
        "colab": {
          "base_uri": "https://localhost:8080/",
          "height": 455
        },
        "id": "Es3xPj2ehgY3",
        "outputId": "8c88506d-e8d3-4e11-cb6b-69a4c2d51e9a"
      },
      "execution_count": 42,
      "outputs": [
        {
          "output_type": "display_data",
          "data": {
            "text/plain": [
              "<Figure size 640x480 with 2 Axes>"
            ],
            "image/png": "[encoded data removed]"
          },
          "metadata": {}
        }
      ]
    },
    {
      "cell_type": "code",
      "source": [
        "# Predict new samples\n",
        "X_pred = np.array([3,4,4.5,7,8,212345])\n",
        "y_pred = clf.predict(X_pred)\n",
        "print(y_pred)"
      ],
      "metadata": {
        "colab": {
          "base_uri": "https://localhost:8080/"
        },
        "id": "31kQvDOaoScH",
        "outputId": "efc85637-331f-48bc-985e-8ded23fe9129"
      },
      "execution_count": 43,
      "outputs": [
        {
          "output_type": "stream",
          "name": "stdout",
          "text": [
            "[0. 0. 0. 1. 1. 1.]\n"
          ]
        }
      ]
    }
  ],
  "metadata": {
    "kernelspec": {
      "display_name": "Python 3",
      "language": "python",
      "name": "python3"
    },
    "language_info": {
      "codemirror_mode": {
        "name": "ipython",
        "version": 3
      },
      "file_extension": ".py",
      "mimetype": "text/x-python",
      "name": "python",
      "nbconvert_exporter": "python",
      "pygments_lexer": "ipython3",
      "version": "3.8.8"
    },
    "colab": {
      "provenance": [],
      "toc_visible": true,
      "include_colab_link": true
    }
  },
  "nbformat": 4,
  "nbformat_minor": 0
}