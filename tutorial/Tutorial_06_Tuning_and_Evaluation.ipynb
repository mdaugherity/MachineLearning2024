{
  "nbformat": 4,
  "nbformat_minor": 0,
  "metadata": {
    "colab": {
      "provenance": [],
      "authorship_tag": "ABX9TyOSAYuoPIiHLc5iRtAecIyI",
      "include_colab_link": true
    },
    "kernelspec": {
      "name": "python3",
      "display_name": "Python 3"
    },
    "language_info": {
      "name": "python"
    }
  },
  "cells": [
    {
      "cell_type": "markdown",
      "metadata": {
        "id": "view-in-github",
        "colab_type": "text"
      },
      "source": [
        "<a href=\"https://colab.research.google.com/github/mdaugherity/MachineLearning2024/blob/main/tutorial/Tutorial_06_Tuning_and_Evaluation.ipynb\" target=\"_parent\"><img src=\"https://colab.research.google.com/assets/colab-badge.svg\" alt=\"Open In Colab\"/></a>"
      ]
    },
    {
      "cell_type": "markdown",
      "source": [
        "Dr. Daugherity, PHYS 453"
      ],
      "metadata": {
        "id": "oK054uXxcz0I"
      }
    },
    {
      "cell_type": "code",
      "execution_count": 1,
      "metadata": {
        "id": "5YNe-hXVNiiW"
      },
      "outputs": [],
      "source": [
        "import numpy as np\n",
        "import matplotlib.pyplot as plt"
      ]
    },
    {
      "cell_type": "markdown",
      "source": [
        "# Tutorial 6 - Tuning and Evaluation\n",
        "\n",
        "\n",
        "We've already discussed some binary classification metrics in class and have played with evaluating mystery classifiers using the built-in reports:\n",
        "* User's Guide: https://scikit-learn.org/stable/modules/model_evaluation.html#classification-metrics\n",
        "* Classification Report: https://scikit-learn.org/stable/modules/generated/sklearn.metrics.classification_report.html#sklearn.metrics.classification_report\n",
        "\n",
        "Now we make this approach more official and see how to properly tune and evaluate classifiers.  Remember, the goal is to finish the overview of classification problems before we dive in to seeing how more classifiers actually work.\n",
        "\n"
      ],
      "metadata": {
        "id": "v2bIvnkyQS_1"
      }
    },
    {
      "cell_type": "markdown",
      "source": [
        "# Test/Train Split\n",
        "To meet our goal of making the \"best\" classifier we have to answer two closely related questions:\n",
        "1.  How do we choose the best parameters to avoid under/over-fitting?\n",
        "1.  How well will our classifier do with *new* samples?  \n",
        "\n",
        "The answer to both is to split the dataset and save a fraction as our \"test\" data that we **DO NOT FIT THE CLASSIFIER** with.  \n",
        "\n",
        "<img src='https://scikit-learn.org/stable/_images/grid_search_workflow.png' width=500>\n",
        "\n",
        "The concept of saving data where we know the right answer is our key to tuning parameters and estimating performance.  Data that has been used to train the classifier **cannot** be use to fairly evaluate a classifier.\n",
        "\n",
        "We will do this twice:\n",
        "* Data used for tuning the best parameters is usually called **VALIDATION DATA**.  We will use a cool trick called cross-validation to use all of the data efficiently.\n",
        "* After all of the choices are made and everything is done, only then will we use the **TEST DATA** to estimate the final performance of the classifier on new data.\n",
        "\n",
        "**References**\n",
        "* https://scikit-learn.org/stable/modules/generated/sklearn.model_selection.train_test_split.html\n",
        "* https://scikit-learn.org/stable/modules/cross_validation.html  (figure source)\n",
        "* https://scikit-learn.org/stable/common_pitfalls.html#data-leakage\n"
      ],
      "metadata": {
        "id": "KTnCMvcx3VIH"
      }
    },
    {
      "cell_type": "markdown",
      "source": [
        "## Random State\n",
        "Before we begin, it is important to understand how ```random_state``` works.  In a nutshell, there is no such thing as a random number in computing.  All random numbers are generated from a seed, and the same algorithm with the same seed produces the same list of numbers.  It is sometimes convenient to get set the seed with ```random_state``` to get the same results while you are working.  Common values are 0,1, 42, or other sci-fi / pop-culture references.  \n",
        "\n",
        "A good analogy is to think about a book filled with numbers.  Setting random_state tells the program which page of the book to use.  \n",
        "\n",
        "For more detail, read section 10.3 in https://scikit-learn.org/stable/common_pitfalls.html"
      ],
      "metadata": {
        "id": "hxd1r9eZTTpM"
      }
    },
    {
      "cell_type": "code",
      "source": [
        "from sklearn.datasets import make_blobs\n",
        "from sklearn.model_selection import train_test_split"
      ],
      "metadata": {
        "id": "oiyBjkBPOzgC"
      },
      "execution_count": 2,
      "outputs": []
    },
    {
      "cell_type": "code",
      "source": [
        "# Run this with and without random_state\n",
        "#X,y = make_blobs(centers=2, random_state=0)\n",
        "X,y = make_blobs(centers=2)\n",
        "\n",
        "plt.scatter(X[:,0], X[:,1],c=y,cmap='bwr')\n",
        "plt.show()"
      ],
      "metadata": {
        "colab": {
          "base_uri": "https://localhost:8080/",
          "height": 430
        },
        "id": "eOv65WAgO3ww",
        "outputId": "67b7766f-6a91-41bf-d6e1-9923220421ff"
      },
      "execution_count": 3,
      "outputs": [
        {
          "output_type": "display_data",
          "data": {
            "text/plain": [
              "<Figure size 640x480 with 1 Axes>"
            ],
            "image/png": "[encoded data removed]"
          },
          "metadata": {}
        }
      ]
    },
    {
      "cell_type": "code",
      "source": [
        "# Run this with and without random_state\n",
        "#X_train, X_test, y_train, y_test = train_test_split(X, y)\n",
        "X_train, X_test, y_train, y_test = train_test_split(X, y, random_state=0)\n",
        "print(y.shape, y_train.shape, y_test.shape)\n",
        "\n",
        "plt.figure(figsize=(8,6))\n",
        "plt.scatter(X_train[:,0], X_train[:,1],marker='.',c=y_train,cmap='bwr',label='Train', alpha=0.25)\n",
        "plt.scatter(X_test[:,0], X_test[:,1],marker='o',edgecolor='k',c=y_test,cmap='bwr',label='Test')\n",
        "plt.legend()\n",
        "\n",
        "plt.show()"
      ],
      "metadata": {
        "colab": {
          "base_uri": "https://localhost:8080/",
          "height": 540
        },
        "id": "YnHJel62dSRy",
        "outputId": "984eabff-bdc6-4415-92f4-7009b2e4d40f"
      },
      "execution_count": 4,
      "outputs": [
        {
          "output_type": "stream",
          "name": "stdout",
          "text": [
            "(100,) (75,) (25,)\n"
          ]
        },
        {
          "output_type": "display_data",
          "data": {
            "text/plain": [
              "<Figure size 800x600 with 1 Axes>"
            ],
            "image/png": "[encoded data removed]"
          },
          "metadata": {}
        }
      ]
    },
    {
      "cell_type": "markdown",
      "source": [
        "# Choosing the right values (tuning parameters)\n",
        "Essentially all classifiers have parameters you can tune to improve performance.  For example, how do we choose k for kNearestNeighbors?"
      ],
      "metadata": {
        "id": "87t7zb7Qi4ho"
      }
    },
    {
      "cell_type": "code",
      "source": [
        "from sklearn import datasets\n",
        "from sklearn import neighbors\n",
        "from sklearn import model_selection"
      ],
      "metadata": {
        "id": "COUDemGri9HK"
      },
      "execution_count": 5,
      "outputs": []
    },
    {
      "cell_type": "code",
      "source": [
        "clf = neighbors.KNeighborsClassifier(n_neighbors=5)   # how many to pick?"
      ],
      "metadata": {
        "id": "gqeEpNJOjfff"
      },
      "execution_count": 6,
      "outputs": []
    },
    {
      "cell_type": "code",
      "source": [
        "#data = datasets.load_iris()\n",
        "data = datasets.load_breast_cancer()\n",
        "print('Features:\\t',data.feature_names)\n",
        "print('Targets:\\t',data.target_names)\n",
        "\n",
        "X = data.data\n",
        "y = data.target\n",
        "print(X.shape)"
      ],
      "metadata": {
        "colab": {
          "base_uri": "https://localhost:8080/"
        },
        "id": "GdtApiVVi_P-",
        "outputId": "fc7ce615-7b3d-43d2-cb8f-eeff8b4ba19e"
      },
      "execution_count": 7,
      "outputs": [
        {
          "output_type": "stream",
          "name": "stdout",
          "text": [
            "Features:\t ['mean radius' 'mean texture' 'mean perimeter' 'mean area'\n",
            " 'mean smoothness' 'mean compactness' 'mean concavity'\n",
            " 'mean concave points' 'mean symmetry' 'mean fractal dimension'\n",
            " 'radius error' 'texture error' 'perimeter error' 'area error'\n",
            " 'smoothness error' 'compactness error' 'concavity error'\n",
            " 'concave points error' 'symmetry error' 'fractal dimension error'\n",
            " 'worst radius' 'worst texture' 'worst perimeter' 'worst area'\n",
            " 'worst smoothness' 'worst compactness' 'worst concavity'\n",
            " 'worst concave points' 'worst symmetry' 'worst fractal dimension']\n",
            "Targets:\t ['malignant' 'benign']\n",
            "(569, 30)\n"
          ]
        }
      ]
    },
    {
      "cell_type": "markdown",
      "source": [
        "# HARD MODE: Manual Brute Force\n",
        "We'll start by doing things the hard way for transparency.  The basic approach is:\n",
        "1.  Split the data into testing and training sets\n",
        "1.  Further split a validation set from the training set (be careful with ratios!)\n",
        "1.  Call ```fit``` on training data\n",
        "1.  Score the classifier on the validation data\n",
        "1.  Use brutal force to try lots of options and pick the best validation score\n",
        "1.  Refit the classifier on the all of training data (incluing validation set) with the best parameters\n",
        "\n",
        "Play with this code below.  Notice how the results depend on test_size and can be VERY sensitive on random_state.\n"
      ],
      "metadata": {
        "id": "-xoqUHOGjNcq"
      }
    },
    {
      "cell_type": "code",
      "source": [
        "# Run this with and without random_state\n",
        "X_trainall, X_test, y_trainall, y_test = model_selection.train_test_split(X, y) #random_state=1)\n",
        "X_train, X_val, y_train, y_val = model_selection.train_test_split(X_trainall, y_trainall) #random_state=1)\n",
        "print(X.shape)\n",
        "\n",
        "KLIST = np.arange(1,16)\n",
        "\n",
        "# DOING THIS THE HARD WAY--don't use this method\n",
        "# Manually check lots of values of k to find the best test score\n",
        "train_scores = np.zeros_like(KLIST,dtype=float)  # don't want INTs here!\n",
        "val_scores =  np.zeros_like(KLIST,dtype=float)\n",
        "for i,k in enumerate(KLIST):\n",
        "  clf = neighbors.KNeighborsClassifier(n_neighbors=k)\n",
        "  clf.fit(X_train,y_train)\n",
        "  val_scores[i] = clf.score(X_test,y_test)\n",
        "  train_scores[i] = clf.score(X_train,y_train)\n",
        "\n",
        "best_k = KLIST[val_scores.argmax()]\n",
        "print(f\"Best k: {best_k}\")\n",
        "print(f\"Best Test Score: {val_scores.max():0.3f}\")\n",
        "clf = neighbors.KNeighborsClassifier(n_neighbors=best_k)\n",
        "clf.fit(X_trainall,y_trainall) # refit with best parameter\n",
        "\n",
        "plt.figure(figsize=(10,5))\n",
        "plt.axvline(best_k, color='black', lw=2) # draw black line behind best params\n",
        "plt.plot(KLIST, train_scores, label='Training Accuracy')\n",
        "plt.plot(KLIST, val_scores, label='Validation Accuracy')\n",
        "plt.legend()\n",
        "plt.xlabel('Neighbors')\n",
        "plt.ylabel('Accuracy')\n",
        "plt.title('Tuning k - Very sensitive to particular random state')\n",
        "plt.grid()\n",
        "plt.show()"
      ],
      "metadata": {
        "colab": {
          "base_uri": "https://localhost:8080/",
          "height": 541
        },
        "id": "inPfE_xIjHbJ",
        "outputId": "e912f725-b247-412e-9c76-6ebafe0e0a62"
      },
      "execution_count": 8,
      "outputs": [
        {
          "output_type": "stream",
          "name": "stdout",
          "text": [
            "(569, 30)\n",
            "Best k: 14\n",
            "Best Test Score: 0.930\n"
          ]
        },
        {
          "output_type": "display_data",
          "data": {
            "text/plain": [
              "<Figure size 1000x500 with 1 Axes>"
            ],
            "image/png": "[encoded data removed]"
          },
          "metadata": {}
        }
      ]
    },
    {
      "cell_type": "markdown",
      "source": [
        "# EASY MODE: Cross Valildation Grid Search\n",
        "\n",
        "A great way to get more consistent results is to use **cross validation**.  \n",
        "First we hide away some **test data**.  Then we divide the remainder into the **training** and **validation** sets.  We pick a value for the parameters, fit it with training data and score it on validation data.  We do the process 5 times cycling through different validation sets and average over the results to ensure that the entire training data set gets used.\n",
        "\n",
        "As always, we DO NOT PEEK at the test data until we have completely finalized our classifier.\n",
        "\n",
        "<img src='https://scikit-learn.org/stable/_images/grid_search_cross_validation.png' width=500>\n",
        "\n",
        "In this example below, we'll see how cross validation gives more stable results than the previous example.\n",
        "\n",
        "**References:**\n",
        "* https://scikit-learn.org/stable/modules/cross_validation.html#multimetric-cross-validation\n",
        "* https://scikit-learn.org/stable/modules/generated/sklearn.model_selection.GridSearchCV.html#sklearn.model_selection.GridSearchCV\n",
        "\n",
        "\n",
        "\n"
      ],
      "metadata": {
        "id": "lPyoBkaom0FT"
      }
    },
    {
      "cell_type": "code",
      "source": [
        "X_train, X_test, y_train, y_test = model_selection.train_test_split(X, y, test_size=0.2)  #random_state=1)\n",
        "\n",
        "# Automatically search for the best parameters\n",
        "KLIST = np.arange(1,16)\n",
        "WLIST = ['uniform','distance']\n",
        "params = {'n_neighbors':KLIST, 'weights':WLIST}  # Set up parameters to try\n",
        "print('Parameters to try:',params)\n",
        "\n",
        "grid_clf = model_selection.GridSearchCV(neighbors.KNeighborsClassifier(), param_grid=params, return_train_score=True)\n",
        "grid_clf.fit(X,y)\n",
        "\n",
        "print('Best estimator:', grid_clf.best_estimator_)\n",
        "print('Best parameters:', grid_clf.best_params_)\n",
        "print('Best score:', grid_clf.best_score_)"
      ],
      "metadata": {
        "colab": {
          "base_uri": "https://localhost:8080/"
        },
        "id": "_Qo29RtEux0O",
        "outputId": "2b9ea0d2-30a3-4898-e9f2-a3a7a87e2530"
      },
      "execution_count": 9,
      "outputs": [
        {
          "output_type": "stream",
          "name": "stdout",
          "text": [
            "Parameters to try: {'n_neighbors': array([ 1,  2,  3,  4,  5,  6,  7,  8,  9, 10, 11, 12, 13, 14, 15]), 'weights': ['uniform', 'distance']}\n",
            "Best estimator: KNeighborsClassifier(n_neighbors=13)\n",
            "Best parameters: {'n_neighbors': 13, 'weights': 'uniform'}\n",
            "Best score: 0.9332401800962584\n"
          ]
        }
      ]
    },
    {
      "cell_type": "markdown",
      "source": [
        "## Using the Winner\n",
        "By default (you can control this with the ```refit``` option) the grid search checks the cross-validation score, picks the best one (lowest index in case of ties), then refits using those parameters to the entire training set.  \n",
        "\n",
        "Then, every time you use the classifier it **automatically** uses this winner."
      ],
      "metadata": {
        "id": "PoDYzzcribdq"
      }
    },
    {
      "cell_type": "code",
      "source": [
        "grid_clf.predict(X_test) # automatically uses the refitted winner!"
      ],
      "metadata": {
        "colab": {
          "base_uri": "https://localhost:8080/"
        },
        "id": "om4oIutJjXr1",
        "outputId": "5349dc50-ce44-4b2b-a7fc-a5565ca546a0"
      },
      "execution_count": 10,
      "outputs": [
        {
          "output_type": "execute_result",
          "data": {
            "text/plain": [
              "array([1, 1, 1, 1, 1, 1, 1, 0, 1, 1, 1, 0, 0, 1, 1, 1, 1, 1, 1, 0, 0, 0,\n",
              "       1, 1, 0, 0, 1, 1, 1, 1, 1, 1, 1, 0, 1, 1, 1, 1, 0, 1, 0, 1, 0, 1,\n",
              "       1, 1, 1, 0, 0, 0, 1, 1, 1, 1, 1, 1, 0, 0, 0, 1, 0, 1, 0, 0, 1, 0,\n",
              "       1, 1, 1, 1, 0, 0, 1, 1, 1, 1, 0, 1, 0, 1, 0, 1, 0, 1, 0, 1, 0, 1,\n",
              "       1, 1, 1, 0, 1, 1, 1, 0, 0, 1, 0, 1, 1, 0, 1, 1, 1, 1, 1, 0, 1, 1,\n",
              "       1, 1, 1, 0])"
            ]
          },
          "metadata": {},
          "execution_count": 10
        }
      ]
    },
    {
      "cell_type": "code",
      "source": [
        "grid_clf.score(X_test, y_test)"
      ],
      "metadata": {
        "colab": {
          "base_uri": "https://localhost:8080/"
        },
        "id": "3AOv306_jglX",
        "outputId": "a07306ba-bb24-403c-d9ec-02c07716eaef"
      },
      "execution_count": 11,
      "outputs": [
        {
          "output_type": "execute_result",
          "data": {
            "text/plain": [
              "0.9736842105263158"
            ]
          },
          "metadata": {},
          "execution_count": 11
        }
      ]
    },
    {
      "cell_type": "markdown",
      "source": [
        "## Diving In\n",
        "The above example shows how quick and easy it is to get a result using GridSearchCV.  Below are totally unnecesary examples of how to dive in to the search results and see what happened."
      ],
      "metadata": {
        "id": "ak9MVMFhZVid"
      }
    },
    {
      "cell_type": "code",
      "source": [
        "res = grid_clf.cv_results_\n",
        "res.keys() # Wow, look at all of this"
      ],
      "metadata": {
        "colab": {
          "base_uri": "https://localhost:8080/"
        },
        "id": "jvGMUc78qaRR",
        "outputId": "c22ed654-96e0-4d51-8204-beff8de8e386"
      },
      "execution_count": 12,
      "outputs": [
        {
          "output_type": "execute_result",
          "data": {
            "text/plain": [
              "dict_keys(['mean_fit_time', 'std_fit_time', 'mean_score_time', 'std_score_time', 'param_n_neighbors', 'param_weights', 'params', 'split0_test_score', 'split1_test_score', 'split2_test_score', 'split3_test_score', 'split4_test_score', 'mean_test_score', 'std_test_score', 'rank_test_score', 'split0_train_score', 'split1_train_score', 'split2_train_score', 'split3_train_score', 'split4_train_score', 'mean_train_score', 'std_train_score'])"
            ]
          },
          "metadata": {},
          "execution_count": 12
        }
      ]
    },
    {
      "cell_type": "code",
      "source": [
        "res"
      ],
      "metadata": {
        "colab": {
          "base_uri": "https://localhost:8080/"
        },
        "id": "I8ZIJDxvxDDG",
        "outputId": "d6338f6c-08f6-4299-edc6-3ffe4a6d0eb9"
      },
      "execution_count": 13,
      "outputs": [
        {
          "output_type": "execute_result",
          "data": {
            "text/plain": [
              "{'mean_fit_time': array([0.00069623, 0.00347095, 0.00066538, 0.00160508, 0.00236402,\n",
              "        0.00054879, 0.00059657, 0.0006557 , 0.00061469, 0.0005456 ,\n",
              "        0.00105934, 0.00046077, 0.00069156, 0.00100508, 0.00062356,\n",
              "        0.0006259 , 0.00135479, 0.00161142, 0.00064793, 0.00052905,\n",
              "        0.00062933, 0.00051103, 0.00062637, 0.00055904, 0.00065899,\n",
              "        0.00203462, 0.00470023, 0.00056682, 0.00049815, 0.00041981]),\n",
              " 'std_fit_time': array([6.21250197e-05, 3.59353053e-03, 6.58724949e-05, 2.05771413e-03,\n",
              "        3.48530415e-03, 1.09188879e-04, 7.06992740e-05, 1.17807095e-04,\n",
              "        1.03484144e-04, 5.26939797e-05, 8.95861006e-04, 1.08083176e-04,\n",
              "        1.87138180e-04, 8.30522619e-04, 4.86651042e-05, 7.22925706e-05,\n",
              "        1.35207445e-03, 1.31355627e-03, 7.36614795e-05, 9.14814294e-05,\n",
              "        3.22098471e-05, 7.03184629e-05, 1.03388303e-04, 5.50120894e-05,\n",
              "        1.72045860e-04, 2.84180095e-03, 8.10226609e-03, 8.68857755e-05,\n",
              "        6.59299755e-05, 2.03097927e-05]),\n",
              " 'mean_score_time': array([0.07619891, 0.07325811, 0.03239651, 0.01837578, 0.02777333,\n",
              "        0.01570606, 0.03643708, 0.05196099, 0.09662294, 0.03448982,\n",
              "        0.006671  , 0.00297656, 0.04997201, 0.05351701, 0.01433477,\n",
              "        0.15006475, 0.01293483, 0.03195577, 0.10199118, 0.04069991,\n",
              "        0.07500372, 0.00717201, 0.05678153, 0.01163774, 0.01030755,\n",
              "        0.05275269, 0.09591799, 0.01506195, 0.02305398, 0.00170913]),\n",
              " 'std_score_time': array([0.05773646, 0.05503585, 0.04076499, 0.02004678, 0.03898322,\n",
              "        0.02377268, 0.04582104, 0.05637142, 0.04662594, 0.05549236,\n",
              "        0.00033699, 0.00318002, 0.04453035, 0.06099883, 0.01052695,\n",
              "        0.02262136, 0.00677861, 0.03163896, 0.03896908, 0.07274741,\n",
              "        0.06150374, 0.00695245, 0.02786138, 0.01305234, 0.00521418,\n",
              "        0.029848  , 0.05834837, 0.00866034, 0.01701514, 0.00055993]),\n",
              " 'param_n_neighbors': masked_array(data=[1, 1, 2, 2, 3, 3, 4, 4, 5, 5, 6, 6, 7, 7, 8, 8, 9, 9,\n",
              "                    10, 10, 11, 11, 12, 12, 13, 13, 14, 14, 15, 15],\n",
              "              mask=[False, False, False, False, False, False, False, False,\n",
              "                    False, False, False, False, False, False, False, False,\n",
              "                    False, False, False, False, False, False, False, False,\n",
              "                    False, False, False, False, False, False],\n",
              "        fill_value='?',\n",
              "             dtype=object),\n",
              " 'param_weights': masked_array(data=['uniform', 'distance', 'uniform', 'distance',\n",
              "                    'uniform', 'distance', 'uniform', 'distance',\n",
              "                    'uniform', 'distance', 'uniform', 'distance',\n",
              "                    'uniform', 'distance', 'uniform', 'distance',\n",
              "                    'uniform', 'distance', 'uniform', 'distance',\n",
              "                    'uniform', 'distance', 'uniform', 'distance',\n",
              "                    'uniform', 'distance', 'uniform', 'distance',\n",
              "                    'uniform', 'distance'],\n",
              "              mask=[False, False, False, False, False, False, False, False,\n",
              "                    False, False, False, False, False, False, False, False,\n",
              "                    False, False, False, False, False, False, False, False,\n",
              "                    False, False, False, False, False, False],\n",
              "        fill_value='?',\n",
              "             dtype=object),\n",
              " 'params': [{'n_neighbors': 1, 'weights': 'uniform'},\n",
              "  {'n_neighbors': 1, 'weights': 'distance'},\n",
              "  {'n_neighbors': 2, 'weights': 'uniform'},\n",
              "  {'n_neighbors': 2, 'weights': 'distance'},\n",
              "  {'n_neighbors': 3, 'weights': 'uniform'},\n",
              "  {'n_neighbors': 3, 'weights': 'distance'},\n",
              "  {'n_neighbors': 4, 'weights': 'uniform'},\n",
              "  {'n_neighbors': 4, 'weights': 'distance'},\n",
              "  {'n_neighbors': 5, 'weights': 'uniform'},\n",
              "  {'n_neighbors': 5, 'weights': 'distance'},\n",
              "  {'n_neighbors': 6, 'weights': 'uniform'},\n",
              "  {'n_neighbors': 6, 'weights': 'distance'},\n",
              "  {'n_neighbors': 7, 'weights': 'uniform'},\n",
              "  {'n_neighbors': 7, 'weights': 'distance'},\n",
              "  {'n_neighbors': 8, 'weights': 'uniform'},\n",
              "  {'n_neighbors': 8, 'weights': 'distance'},\n",
              "  {'n_neighbors': 9, 'weights': 'uniform'},\n",
              "  {'n_neighbors': 9, 'weights': 'distance'},\n",
              "  {'n_neighbors': 10, 'weights': 'uniform'},\n",
              "  {'n_neighbors': 10, 'weights': 'distance'},\n",
              "  {'n_neighbors': 11, 'weights': 'uniform'},\n",
              "  {'n_neighbors': 11, 'weights': 'distance'},\n",
              "  {'n_neighbors': 12, 'weights': 'uniform'},\n",
              "  {'n_neighbors': 12, 'weights': 'distance'},\n",
              "  {'n_neighbors': 13, 'weights': 'uniform'},\n",
              "  {'n_neighbors': 13, 'weights': 'distance'},\n",
              "  {'n_neighbors': 14, 'weights': 'uniform'},\n",
              "  {'n_neighbors': 14, 'weights': 'distance'},\n",
              "  {'n_neighbors': 15, 'weights': 'uniform'},\n",
              "  {'n_neighbors': 15, 'weights': 'distance'}],\n",
              " 'split0_test_score': array([0.85964912, 0.85964912, 0.89473684, 0.85964912, 0.87719298,\n",
              "        0.87719298, 0.89473684, 0.88596491, 0.88596491, 0.89473684,\n",
              "        0.89473684, 0.88596491, 0.87719298, 0.86842105, 0.87719298,\n",
              "        0.86842105, 0.87719298, 0.86842105, 0.87719298, 0.86842105,\n",
              "        0.87719298, 0.86842105, 0.88596491, 0.86842105, 0.87719298,\n",
              "        0.86842105, 0.87719298, 0.86842105, 0.86842105, 0.86842105]),\n",
              " 'split1_test_score': array([0.92982456, 0.92982456, 0.9122807 , 0.92982456, 0.92105263,\n",
              "        0.92982456, 0.92105263, 0.92982456, 0.93859649, 0.93859649,\n",
              "        0.93859649, 0.93859649, 0.93859649, 0.93859649, 0.93859649,\n",
              "        0.93859649, 0.93859649, 0.93859649, 0.93859649, 0.93859649,\n",
              "        0.93859649, 0.93859649, 0.93859649, 0.93859649, 0.93859649,\n",
              "        0.93859649, 0.93859649, 0.93859649, 0.93859649, 0.93859649]),\n",
              " 'split2_test_score': array([0.9122807 , 0.9122807 , 0.92982456, 0.9122807 , 0.94736842,\n",
              "        0.94736842, 0.94736842, 0.93859649, 0.93859649, 0.93859649,\n",
              "        0.93859649, 0.93859649, 0.94736842, 0.94736842, 0.94736842,\n",
              "        0.94736842, 0.94736842, 0.94736842, 0.94736842, 0.94736842,\n",
              "        0.94736842, 0.94736842, 0.94736842, 0.94736842, 0.94736842,\n",
              "        0.94736842, 0.93859649, 0.93859649, 0.93859649, 0.94736842]),\n",
              " 'split3_test_score': array([0.9122807 , 0.9122807 , 0.89473684, 0.9122807 , 0.93859649,\n",
              "        0.94736842, 0.93859649, 0.93859649, 0.94736842, 0.94736842,\n",
              "        0.92982456, 0.92982456, 0.94736842, 0.94736842, 0.94736842,\n",
              "        0.93859649, 0.95614035, 0.95614035, 0.95614035, 0.95614035,\n",
              "        0.95614035, 0.94736842, 0.95614035, 0.95614035, 0.95614035,\n",
              "        0.95614035, 0.95614035, 0.95614035, 0.95614035, 0.95614035]),\n",
              " 'split4_test_score': array([0.91150442, 0.91150442, 0.89380531, 0.91150442, 0.91150442,\n",
              "        0.92035398, 0.90265487, 0.90265487, 0.92920354, 0.92920354,\n",
              "        0.92035398, 0.92035398, 0.92035398, 0.92035398, 0.92920354,\n",
              "        0.92920354, 0.9380531 , 0.94690265, 0.9380531 , 0.92920354,\n",
              "        0.92920354, 0.9380531 , 0.9380531 , 0.92920354, 0.94690265,\n",
              "        0.9380531 , 0.9380531 , 0.9380531 , 0.94690265, 0.9380531 ]),\n",
              " 'mean_test_score': array([0.9051079 , 0.9051079 , 0.90507685, 0.9051079 , 0.91914299,\n",
              "        0.92442167, 0.92088185, 0.91912746, 0.92794597, 0.92970036,\n",
              "        0.92442167, 0.92266729, 0.92617606, 0.92442167, 0.92794597,\n",
              "        0.9244372 , 0.93147027, 0.93148579, 0.93147027, 0.92794597,\n",
              "        0.92970036, 0.9279615 , 0.93322465, 0.92794597, 0.93324018,\n",
              "        0.92971588, 0.92971588, 0.9279615 , 0.92973141, 0.92971588]),\n",
              " 'std_test_score': array([0.02375385, 0.02375385, 0.01417903, 0.02375385, 0.02448228,\n",
              "        0.02580462, 0.0201552 , 0.02118308, 0.02176276, 0.01840183,\n",
              "        0.01630201, 0.01955056, 0.02640355, 0.02968719, 0.02625012,\n",
              "        0.02859139, 0.02793387, 0.03201721, 0.02793387, 0.03108178,\n",
              "        0.02774039, 0.03004419, 0.02453907, 0.03108178, 0.02856805,\n",
              "        0.03135377, 0.0271446 , 0.03055212, 0.03133185, 0.03135377]),\n",
              " 'rank_test_score': array([27, 27, 30, 27, 25, 22, 24, 26, 16, 10, 20, 23, 18, 20, 16, 19,  4,\n",
              "         3,  4, 14, 10, 12,  2, 14,  1,  7,  7, 12,  6,  7], dtype=int32),\n",
              " 'split0_train_score': array([1.        , 1.        , 0.96703297, 1.        , 0.95384615,\n",
              "        1.        , 0.94505495, 1.        , 0.95164835, 1.        ,\n",
              "        0.94945055, 1.        , 0.94725275, 1.        , 0.94505495,\n",
              "        1.        , 0.94945055, 1.        , 0.94505495, 1.        ,\n",
              "        0.94945055, 1.        , 0.94945055, 1.        , 0.94945055,\n",
              "        1.        , 0.94945055, 1.        , 0.94725275, 1.        ]),\n",
              " 'split1_train_score': array([1.        , 1.        , 0.97142857, 1.        , 0.94945055,\n",
              "        1.        , 0.95604396, 1.        , 0.95164835, 1.        ,\n",
              "        0.94505495, 1.        , 0.94505495, 1.        , 0.94285714,\n",
              "        1.        , 0.94505495, 1.        , 0.94505495, 1.        ,\n",
              "        0.94505495, 1.        , 0.94505495, 1.        , 0.94285714,\n",
              "        1.        , 0.94285714, 1.        , 0.93846154, 1.        ]),\n",
              " 'split2_train_score': array([1.        , 1.        , 0.96703297, 1.        , 0.95824176,\n",
              "        1.        , 0.95164835, 1.        , 0.94725275, 1.        ,\n",
              "        0.93846154, 1.        , 0.93846154, 1.        , 0.93626374,\n",
              "        1.        , 0.93406593, 1.        , 0.93626374, 1.        ,\n",
              "        0.92527473, 1.        , 0.92747253, 1.        , 0.92747253,\n",
              "        1.        , 0.92967033, 1.        , 0.93186813, 1.        ]),\n",
              " 'split3_train_score': array([1.        , 1.        , 0.96703297, 1.        , 0.95384615,\n",
              "        1.        , 0.94505495, 1.        , 0.93846154, 1.        ,\n",
              "        0.93406593, 1.        , 0.93846154, 1.        , 0.93846154,\n",
              "        1.        , 0.94065934, 1.        , 0.94065934, 1.        ,\n",
              "        0.93846154, 1.        , 0.93626374, 1.        , 0.93186813,\n",
              "        1.        , 0.93406593, 1.        , 0.93406593, 1.        ]),\n",
              " 'split4_train_score': array([1.        , 1.        , 0.97149123, 1.        , 0.95394737,\n",
              "        1.        , 0.95175439, 1.        , 0.94736842, 1.        ,\n",
              "        0.94517544, 1.        , 0.94078947, 1.        , 0.94078947,\n",
              "        1.        , 0.94078947, 1.        , 0.94078947, 1.        ,\n",
              "        0.94078947, 1.        , 0.94298246, 1.        , 0.94078947,\n",
              "        1.        , 0.94517544, 1.        , 0.93859649, 1.        ]),\n",
              " 'mean_train_score': array([1.        , 1.        , 0.96880374, 1.        , 0.9538664 ,\n",
              "        1.        , 0.94991132, 1.        , 0.94727588, 1.        ,\n",
              "        0.94244168, 1.        , 0.94200405, 1.        , 0.94068537,\n",
              "        1.        , 0.94200405, 1.        , 0.94156449, 1.        ,\n",
              "        0.93980625, 1.        , 0.94024484, 1.        , 0.93848757,\n",
              "        1.        , 0.94024388, 1.        , 0.93804897, 1.        ]),\n",
              " 'std_train_score': array([0.        , 0.        , 0.00216884, 0.        , 0.00278032,\n",
              "        0.        , 0.00427065, 0.        , 0.00481537, 0.        ,\n",
              "        0.00546665, 0.        , 0.00356176, 0.        , 0.0031086 ,\n",
              "        0.        , 0.00511968, 0.        , 0.00328282, 0.        ,\n",
              "        0.00817926, 0.        , 0.00767278, 0.        , 0.00787054,\n",
              "        0.        , 0.00729218, 0.        , 0.00527725, 0.        ])}"
            ]
          },
          "metadata": {},
          "execution_count": 13
        }
      ]
    },
    {
      "cell_type": "code",
      "source": [
        "# Make a lovely table:\n",
        "# https://scikit-learn.org/stable/auto_examples/model_selection/plot_grid_search_stats.html#sphx-glr-auto-examples-model-selection-plot-grid-search-stats-py\n",
        "import pandas as pd\n",
        "results_df = pd.DataFrame(grid_clf.cv_results_)\n",
        "results_df = results_df.sort_values(by=[\"rank_test_score\"])\n",
        "results_df = results_df.set_index(\n",
        "    results_df[\"params\"].apply(lambda x: \"_\".join(str(val) for val in x.values()))\n",
        ").rename_axis(\"kernel\")\n",
        "\n",
        "results_df[[\"params\", \"rank_test_score\", \"mean_test_score\", \"std_test_score\"]].head(10)  # only show best options"
      ],
      "metadata": {
        "colab": {
          "base_uri": "https://localhost:8080/",
          "height": 394
        },
        "id": "NfGX4ZG2zvAb",
        "outputId": "8b58aaff-c9df-4ca6-b923-922b3e7b982d"
      },
      "execution_count": 14,
      "outputs": [
        {
          "output_type": "execute_result",
          "data": {
            "text/plain": [
              "                                                 params  rank_test_score  \\\n",
              "kernel                                                                     \n",
              "13_uniform    {'n_neighbors': 13, 'weights': 'uniform'}                1   \n",
              "12_uniform    {'n_neighbors': 12, 'weights': 'uniform'}                2   \n",
              "9_distance    {'n_neighbors': 9, 'weights': 'distance'}                3   \n",
              "10_uniform    {'n_neighbors': 10, 'weights': 'uniform'}                4   \n",
              "9_uniform      {'n_neighbors': 9, 'weights': 'uniform'}                4   \n",
              "15_uniform    {'n_neighbors': 15, 'weights': 'uniform'}                6   \n",
              "15_distance  {'n_neighbors': 15, 'weights': 'distance'}                7   \n",
              "14_uniform    {'n_neighbors': 14, 'weights': 'uniform'}                7   \n",
              "13_distance  {'n_neighbors': 13, 'weights': 'distance'}                7   \n",
              "11_uniform    {'n_neighbors': 11, 'weights': 'uniform'}               10   \n",
              "\n",
              "             mean_test_score  std_test_score  \n",
              "kernel                                        \n",
              "13_uniform          0.933240        0.028568  \n",
              "12_uniform          0.933225        0.024539  \n",
              "9_distance          0.931486        0.032017  \n",
              "10_uniform          0.931470        0.027934  \n",
              "9_uniform           0.931470        0.027934  \n",
              "15_uniform          0.929731        0.031332  \n",
              "15_distance         0.929716        0.031354  \n",
              "14_uniform          0.929716        0.027145  \n",
              "13_distance         0.929716        0.031354  \n",
              "11_uniform          0.929700        0.027740  "
            ],
            "text/html": [
              "\n",
              "  <div id=\"df-3bec5094-cd23-43c5-a8b4-d9445f69d61b\" class=\"colab-df-container\">\n",
              "    <div>\n",
              "<style scoped>\n",
              "    .dataframe tbody tr th:only-of-type {\n",
              "        vertical-align: middle;\n",
              "    }\n",
              "\n",
              "    .dataframe tbody tr th {\n",
              "        vertical-align: top;\n",
              "    }\n",
              "\n",
              "    .dataframe thead th {\n",
              "        text-align: right;\n",
              "    }\n",
              "</style>\n",
              "<table border=\"1\" class=\"dataframe\">\n",
              "  <thead>\n",
              "    <tr style=\"text-align: right;\">\n",
              "      <th></th>\n",
              "      <th>params</th>\n",
              "      <th>rank_test_score</th>\n",
              "      <th>mean_test_score</th>\n",
              "      <th>std_test_score</th>\n",
              "    </tr>\n",
              "    <tr>\n",
              "      <th>kernel</th>\n",
              "      <th></th>\n",
              "      <th></th>\n",
              "      <th></th>\n",
              "      <th></th>\n",
              "    </tr>\n",
              "  </thead>\n",
              "  <tbody>\n",
              "    <tr>\n",
              "      <th>13_uniform</th>\n",
              "      <td>{'n_neighbors': 13, 'weights': 'uniform'}</td>\n",
              "      <td>1</td>\n",
              "      <td>0.933240</td>\n",
              "      <td>0.028568</td>\n",
              "    </tr>\n",
              "    <tr>\n",
              "      <th>12_uniform</th>\n",
              "      <td>{'n_neighbors': 12, 'weights': 'uniform'}</td>\n",
              "      <td>2</td>\n",
              "      <td>0.933225</td>\n",
              "      <td>0.024539</td>\n",
              "    </tr>\n",
              "    <tr>\n",
              "      <th>9_distance</th>\n",
              "      <td>{'n_neighbors': 9, 'weights': 'distance'}</td>\n",
              "      <td>3</td>\n",
              "      <td>0.931486</td>\n",
              "      <td>0.032017</td>\n",
              "    </tr>\n",
              "    <tr>\n",
              "      <th>10_uniform</th>\n",
              "      <td>{'n_neighbors': 10, 'weights': 'uniform'}</td>\n",
              "      <td>4</td>\n",
              "      <td>0.931470</td>\n",
              "      <td>0.027934</td>\n",
              "    </tr>\n",
              "    <tr>\n",
              "      <th>9_uniform</th>\n",
              "      <td>{'n_neighbors': 9, 'weights': 'uniform'}</td>\n",
              "      <td>4</td>\n",
              "      <td>0.931470</td>\n",
              "      <td>0.027934</td>\n",
              "    </tr>\n",
              "    <tr>\n",
              "      <th>15_uniform</th>\n",
              "      <td>{'n_neighbors': 15, 'weights': 'uniform'}</td>\n",
              "      <td>6</td>\n",
              "      <td>0.929731</td>\n",
              "      <td>0.031332</td>\n",
              "    </tr>\n",
              "    <tr>\n",
              "      <th>15_distance</th>\n",
              "      <td>{'n_neighbors': 15, 'weights': 'distance'}</td>\n",
              "      <td>7</td>\n",
              "      <td>0.929716</td>\n",
              "      <td>0.031354</td>\n",
              "    </tr>\n",
              "    <tr>\n",
              "      <th>14_uniform</th>\n",
              "      <td>{'n_neighbors': 14, 'weights': 'uniform'}</td>\n",
              "      <td>7</td>\n",
              "      <td>0.929716</td>\n",
              "      <td>0.027145</td>\n",
              "    </tr>\n",
              "    <tr>\n",
              "      <th>13_distance</th>\n",
              "      <td>{'n_neighbors': 13, 'weights': 'distance'}</td>\n",
              "      <td>7</td>\n",
              "      <td>0.929716</td>\n",
              "      <td>0.031354</td>\n",
              "    </tr>\n",
              "    <tr>\n",
              "      <th>11_uniform</th>\n",
              "      <td>{'n_neighbors': 11, 'weights': 'uniform'}</td>\n",
              "      <td>10</td>\n",
              "      <td>0.929700</td>\n",
              "      <td>0.027740</td>\n",
              "    </tr>\n",
              "  </tbody>\n",
              "</table>\n",
              "</div>\n",
              "    <div class=\"colab-df-buttons\">\n",
              "\n",
              "  <div class=\"colab-df-container\">\n",
              "    <button class=\"colab-df-convert\" onclick=\"convertToInteractive('df-3bec5094-cd23-43c5-a8b4-d9445f69d61b')\"\n",
              "            title=\"Convert this dataframe to an interactive table.\"\n",
              "            style=\"display:none;\">\n",
              "\n",
              "  <svg xmlns=\"http://www.w3.org/2000/svg\" height=\"24px\" viewBox=\"0 -960 960 960\">\n",
              "    <path d=\"M120-120v-720h720v720H120Zm60-500h600v-160H180v160Zm220 220h160v-160H400v160Zm0 220h160v-160H400v160ZM180-400h160v-160H180v160Zm440 0h160v-160H620v160ZM180-180h160v-160H180v160Zm440 0h160v-160H620v160Z\"/>\n",
              "  </svg>\n",
              "    </button>\n",
              "\n",
              "  <style>\n",
              "    .colab-df-container {\n",
              "      display:flex;\n",
              "      gap: 12px;\n",
              "    }\n",
              "\n",
              "    .colab-df-convert {\n",
              "      background-color: #E8F0FE;\n",
              "      border: none;\n",
              "      border-radius: 50%;\n",
              "      cursor: pointer;\n",
              "      display: none;\n",
              "      fill: #1967D2;\n",
              "      height: 32px;\n",
              "      padding: 0 0 0 0;\n",
              "      width: 32px;\n",
              "    }\n",
              "\n",
              "    .colab-df-convert:hover {\n",
              "      background-color: #E2EBFA;\n",
              "      box-shadow: 0px 1px 2px rgba(60, 64, 67, 0.3), 0px 1px 3px 1px rgba(60, 64, 67, 0.15);\n",
              "      fill: #174EA6;\n",
              "    }\n",
              "\n",
              "    .colab-df-buttons div {\n",
              "      margin-bottom: 4px;\n",
              "    }\n",
              "\n",
              "    [theme=dark] .colab-df-convert {\n",
              "      background-color: #3B4455;\n",
              "      fill: #D2E3FC;\n",
              "    }\n",
              "\n",
              "    [theme=dark] .colab-df-convert:hover {\n",
              "      background-color: #434B5C;\n",
              "      box-shadow: 0px 1px 3px 1px rgba(0, 0, 0, 0.15);\n",
              "      filter: drop-shadow(0px 1px 2px rgba(0, 0, 0, 0.3));\n",
              "      fill: #FFFFFF;\n",
              "    }\n",
              "  </style>\n",
              "\n",
              "    <script>\n",
              "      const buttonEl =\n",
              "        document.querySelector('#df-3bec5094-cd23-43c5-a8b4-d9445f69d61b button.colab-df-convert');\n",
              "      buttonEl.style.display =\n",
              "        google.colab.kernel.accessAllowed ? 'block' : 'none';\n",
              "\n",
              "      async function convertToInteractive(key) {\n",
              "        const element = document.querySelector('#df-3bec5094-cd23-43c5-a8b4-d9445f69d61b');\n",
              "        const dataTable =\n",
              "          await google.colab.kernel.invokeFunction('convertToInteractive',\n",
              "                                                    [key], {});\n",
              "        if (!dataTable) return;\n",
              "\n",
              "        const docLinkHtml = 'Like what you see? Visit the ' +\n",
              "          '<a target=\"_blank\" href=https://colab.research.google.com/notebooks/data_table.ipynb>data table notebook</a>'\n",
              "          + ' to learn more about interactive tables.';\n",
              "        element.innerHTML = '';\n",
              "        dataTable['output_type'] = 'display_data';\n",
              "        await google.colab.output.renderOutput(dataTable, element);\n",
              "        const docLink = document.createElement('div');\n",
              "        docLink.innerHTML = docLinkHtml;\n",
              "        element.appendChild(docLink);\n",
              "      }\n",
              "    </script>\n",
              "  </div>\n",
              "\n",
              "\n",
              "<div id=\"df-ce013d1b-ba2f-4318-bcb4-a3b6cc3246ab\">\n",
              "  <button class=\"colab-df-quickchart\" onclick=\"quickchart('df-ce013d1b-ba2f-4318-bcb4-a3b6cc3246ab')\"\n",
              "            title=\"Suggest charts\"\n",
              "            style=\"display:none;\">\n",
              "\n",
              "<svg xmlns=\"http://www.w3.org/2000/svg\" height=\"24px\"viewBox=\"0 0 24 24\"\n",
              "     width=\"24px\">\n",
              "    <g>\n",
              "        <path d=\"M19 3H5c-1.1 0-2 .9-2 2v14c0 1.1.9 2 2 2h14c1.1 0 2-.9 2-2V5c0-1.1-.9-2-2-2zM9 17H7v-7h2v7zm4 0h-2V7h2v10zm4 0h-2v-4h2v4z\"/>\n",
              "    </g>\n",
              "</svg>\n",
              "  </button>\n",
              "\n",
              "<style>\n",
              "  .colab-df-quickchart {\n",
              "      --bg-color: #E8F0FE;\n",
              "      --fill-color: #1967D2;\n",
              "      --hover-bg-color: #E2EBFA;\n",
              "      --hover-fill-color: #174EA6;\n",
              "      --disabled-fill-color: #AAA;\n",
              "      --disabled-bg-color: #DDD;\n",
              "  }\n",
              "\n",
              "  [theme=dark] .colab-df-quickchart {\n",
              "      --bg-color: #3B4455;\n",
              "      --fill-color: #D2E3FC;\n",
              "      --hover-bg-color: #434B5C;\n",
              "      --hover-fill-color: #FFFFFF;\n",
              "      --disabled-bg-color: #3B4455;\n",
              "      --disabled-fill-color: #666;\n",
              "  }\n",
              "\n",
              "  .colab-df-quickchart {\n",
              "    background-color: var(--bg-color);\n",
              "    border: none;\n",
              "    border-radius: 50%;\n",
              "    cursor: pointer;\n",
              "    display: none;\n",
              "    fill: var(--fill-color);\n",
              "    height: 32px;\n",
              "    padding: 0;\n",
              "    width: 32px;\n",
              "  }\n",
              "\n",
              "  .colab-df-quickchart:hover {\n",
              "    background-color: var(--hover-bg-color);\n",
              "    box-shadow: 0 1px 2px rgba(60, 64, 67, 0.3), 0 1px 3px 1px rgba(60, 64, 67, 0.15);\n",
              "    fill: var(--button-hover-fill-color);\n",
              "  }\n",
              "\n",
              "  .colab-df-quickchart-complete:disabled,\n",
              "  .colab-df-quickchart-complete:disabled:hover {\n",
              "    background-color: var(--disabled-bg-color);\n",
              "    fill: var(--disabled-fill-color);\n",
              "    box-shadow: none;\n",
              "  }\n",
              "\n",
              "  .colab-df-spinner {\n",
              "    border: 2px solid var(--fill-color);\n",
              "    border-color: transparent;\n",
              "    border-bottom-color: var(--fill-color);\n",
              "    animation:\n",
              "      spin 1s steps(1) infinite;\n",
              "  }\n",
              "\n",
              "  @keyframes spin {\n",
              "    0% {\n",
              "      border-color: transparent;\n",
              "      border-bottom-color: var(--fill-color);\n",
              "      border-left-color: var(--fill-color);\n",
              "    }\n",
              "    20% {\n",
              "      border-color: transparent;\n",
              "      border-left-color: var(--fill-color);\n",
              "      border-top-color: var(--fill-color);\n",
              "    }\n",
              "    30% {\n",
              "      border-color: transparent;\n",
              "      border-left-color: var(--fill-color);\n",
              "      border-top-color: var(--fill-color);\n",
              "      border-right-color: var(--fill-color);\n",
              "    }\n",
              "    40% {\n",
              "      border-color: transparent;\n",
              "      border-right-color: var(--fill-color);\n",
              "      border-top-color: var(--fill-color);\n",
              "    }\n",
              "    60% {\n",
              "      border-color: transparent;\n",
              "      border-right-color: var(--fill-color);\n",
              "    }\n",
              "    80% {\n",
              "      border-color: transparent;\n",
              "      border-right-color: var(--fill-color);\n",
              "      border-bottom-color: var(--fill-color);\n",
              "    }\n",
              "    90% {\n",
              "      border-color: transparent;\n",
              "      border-bottom-color: var(--fill-color);\n",
              "    }\n",
              "  }\n",
              "</style>\n",
              "\n",
              "  <script>\n",
              "    async function quickchart(key) {\n",
              "      const quickchartButtonEl =\n",
              "        document.querySelector('#' + key + ' button');\n",
              "      quickchartButtonEl.disabled = true;  // To prevent multiple clicks.\n",
              "      quickchartButtonEl.classList.add('colab-df-spinner');\n",
              "      try {\n",
              "        const charts = await google.colab.kernel.invokeFunction(\n",
              "            'suggestCharts', [key], {});\n",
              "      } catch (error) {\n",
              "        console.error('Error during call to suggestCharts:', error);\n",
              "      }\n",
              "      quickchartButtonEl.classList.remove('colab-df-spinner');\n",
              "      quickchartButtonEl.classList.add('colab-df-quickchart-complete');\n",
              "    }\n",
              "    (() => {\n",
              "      let quickchartButtonEl =\n",
              "        document.querySelector('#df-ce013d1b-ba2f-4318-bcb4-a3b6cc3246ab button');\n",
              "      quickchartButtonEl.style.display =\n",
              "        google.colab.kernel.accessAllowed ? 'block' : 'none';\n",
              "    })();\n",
              "  </script>\n",
              "</div>\n",
              "    </div>\n",
              "  </div>\n"
            ],
            "application/vnd.google.colaboratory.intrinsic+json": {
              "type": "dataframe",
              "repr_error": "unhashable type: 'dict'"
            }
          },
          "metadata": {},
          "execution_count": 14
        }
      ]
    },
    {
      "cell_type": "markdown",
      "source": [
        "## Helper Functions\n",
        "Here's some for visualizing the output of a grid search.  Be warned that this only works for 2 parameters."
      ],
      "metadata": {
        "id": "MVYsqXd9v2ot"
      }
    },
    {
      "cell_type": "code",
      "source": [
        "#https://stackoverflow.com/questions/37161563/how-to-graph-grid-scores-from-gridsearchcv with a fixed bug\n",
        "\n",
        "def plot_2par_grid_search(cv_results, grid_param_1, grid_param_2, name_param_1, name_param_2,show_train=1):\n",
        "  \"\"\"Plot GridCV results for two parameter searches\"\"\"\n",
        "  # Get Test Scores Mean and std for each grid search\n",
        "  val_scores = np.array(cv_results['mean_test_score']).reshape(len(grid_param_1),len(grid_param_2)) # FIXED A BUG HERE\n",
        "  train_scores = np.array(cv_results['mean_train_score']).reshape(len(grid_param_1),len(grid_param_2))\n",
        "\n",
        "  _, ax = plt.subplots(1,1,figsize=(10,4))\n",
        "  cmap = plt.get_cmap(\"tab10\")\n",
        "\n",
        "  # Param1 is the X-axis, Param 2 is represented as a different curve (color line)\n",
        "  for idx, val in enumerate(grid_param_2):\n",
        "    ax.plot(grid_param_1, val_scores[:,idx], '-o',  color=cmap(idx), label=f\"Validation: {name_param_2}={str(val)}\") # FIXED\n",
        "    if show_train: ax.plot(grid_param_1, train_scores[:,idx], ':.', color=cmap(idx), label=f\"Train: {name_param_2}={str(val)}\")\n",
        "\n",
        "  ax.set_title(\"Grid Search Scores\")\n",
        "  ax.set_xlabel(name_param_1)\n",
        "  ax.set_ylabel('CV Average Score')\n",
        "  ax.legend()\n",
        "  ax.grid('on')"
      ],
      "metadata": {
        "id": "A4LQIJ2Bvc-j"
      },
      "execution_count": 15,
      "outputs": []
    },
    {
      "cell_type": "markdown",
      "source": [
        "## GridCV With Plots"
      ],
      "metadata": {
        "id": "p_m8r4bmwDCb"
      }
    },
    {
      "cell_type": "code",
      "source": [
        "# Try this with and without random_state\n",
        "X_train, X_test, y_train, y_test = model_selection.train_test_split(X, y, test_size=0.2)  #random_state=1)\n",
        "\n",
        "# Automatically search for the best parameters\n",
        "KLIST = np.arange(1,16)\n",
        "WLIST = ['uniform','distance']\n",
        "params = {'n_neighbors':KLIST, 'weights':WLIST}  # Set up parameters to try\n",
        "print('Parameters to try:',params)\n",
        "\n",
        "grid_clf = model_selection.GridSearchCV(neighbors.KNeighborsClassifier(), param_grid=params, return_train_score=True)\n",
        "grid_clf.fit(X,y)\n",
        "\n",
        "print('Best estimator:', grid_clf.best_estimator_)\n",
        "print('Best parameters:', grid_clf.best_params_)\n",
        "print('Best score:', grid_clf.best_score_)\n",
        "\n",
        "plot_2par_grid_search(grid_clf.cv_results_, KLIST, WLIST, 'n_neighbors', 'weight')"
      ],
      "metadata": {
        "colab": {
          "base_uri": "https://localhost:8080/",
          "height": 481
        },
        "id": "Nf5OWqizvZHU",
        "outputId": "c43f0648-bd0a-4b0e-d784-fc9595fa19a2"
      },
      "execution_count": 16,
      "outputs": [
        {
          "output_type": "stream",
          "name": "stdout",
          "text": [
            "Parameters to try: {'n_neighbors': array([ 1,  2,  3,  4,  5,  6,  7,  8,  9, 10, 11, 12, 13, 14, 15]), 'weights': ['uniform', 'distance']}\n",
            "Best estimator: KNeighborsClassifier(n_neighbors=13)\n",
            "Best parameters: {'n_neighbors': 13, 'weights': 'uniform'}\n",
            "Best score: 0.9332401800962584\n"
          ]
        },
        {
          "output_type": "display_data",
          "data": {
            "text/plain": [
              "<Figure size 1000x400 with 1 Axes>"
            ],
            "image/png": "[encoded data removed]"
          },
          "metadata": {}
        }
      ]
    },
    {
      "cell_type": "code",
      "source": [
        "# Check the numbers\n",
        "for i in range(0,30,2):\n",
        "  print(f\"{res['params'][i]}\\t{res['mean_test_score'][i]:0.3f}\")\n",
        "print()\n",
        "for i in range(1,30,2):\n",
        "  print(f\"{res['params'][i]}\\t{res['mean_test_score'][i]:0.3f}\")"
      ],
      "metadata": {
        "colab": {
          "base_uri": "https://localhost:8080/"
        },
        "id": "A4eZWw0MnbDc",
        "outputId": "ccc67bd0-15a4-4eaf-df18-7ddcf57b7189"
      },
      "execution_count": 17,
      "outputs": [
        {
          "output_type": "stream",
          "name": "stdout",
          "text": [
            "{'n_neighbors': 1, 'weights': 'uniform'}\t0.905\n",
            "{'n_neighbors': 2, 'weights': 'uniform'}\t0.905\n",
            "{'n_neighbors': 3, 'weights': 'uniform'}\t0.919\n",
            "{'n_neighbors': 4, 'weights': 'uniform'}\t0.921\n",
            "{'n_neighbors': 5, 'weights': 'uniform'}\t0.928\n",
            "{'n_neighbors': 6, 'weights': 'uniform'}\t0.924\n",
            "{'n_neighbors': 7, 'weights': 'uniform'}\t0.926\n",
            "{'n_neighbors': 8, 'weights': 'uniform'}\t0.928\n",
            "{'n_neighbors': 9, 'weights': 'uniform'}\t0.931\n",
            "{'n_neighbors': 10, 'weights': 'uniform'}\t0.931\n",
            "{'n_neighbors': 11, 'weights': 'uniform'}\t0.930\n",
            "{'n_neighbors': 12, 'weights': 'uniform'}\t0.933\n",
            "{'n_neighbors': 13, 'weights': 'uniform'}\t0.933\n",
            "{'n_neighbors': 14, 'weights': 'uniform'}\t0.930\n",
            "{'n_neighbors': 15, 'weights': 'uniform'}\t0.930\n",
            "\n",
            "{'n_neighbors': 1, 'weights': 'distance'}\t0.905\n",
            "{'n_neighbors': 2, 'weights': 'distance'}\t0.905\n",
            "{'n_neighbors': 3, 'weights': 'distance'}\t0.924\n",
            "{'n_neighbors': 4, 'weights': 'distance'}\t0.919\n",
            "{'n_neighbors': 5, 'weights': 'distance'}\t0.930\n",
            "{'n_neighbors': 6, 'weights': 'distance'}\t0.923\n",
            "{'n_neighbors': 7, 'weights': 'distance'}\t0.924\n",
            "{'n_neighbors': 8, 'weights': 'distance'}\t0.924\n",
            "{'n_neighbors': 9, 'weights': 'distance'}\t0.931\n",
            "{'n_neighbors': 10, 'weights': 'distance'}\t0.928\n",
            "{'n_neighbors': 11, 'weights': 'distance'}\t0.928\n",
            "{'n_neighbors': 12, 'weights': 'distance'}\t0.928\n",
            "{'n_neighbors': 13, 'weights': 'distance'}\t0.930\n",
            "{'n_neighbors': 14, 'weights': 'distance'}\t0.928\n",
            "{'n_neighbors': 15, 'weights': 'distance'}\t0.930\n"
          ]
        }
      ]
    },
    {
      "cell_type": "markdown",
      "source": [
        "# Conclusion\n",
        "* Use a test/train split to evaulate your classifier.  \n",
        "* Do a CV Grid Search on the training data to tune parameters"
      ],
      "metadata": {
        "id": "Nl7zYHW6aS45"
      }
    }
  ]
}