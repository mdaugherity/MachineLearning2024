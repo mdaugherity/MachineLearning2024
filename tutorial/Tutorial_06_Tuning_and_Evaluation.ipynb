{
  "nbformat": 4,
  "nbformat_minor": 0,
  "metadata": {
    "colab": {
      "provenance": [],
      "toc_visible": true,
      "authorship_tag": "ABX9TyPl4y1Tzhngi1gKQ8uRrBaG",
      "include_colab_link": true
    },
    "kernelspec": {
      "name": "python3",
      "display_name": "Python 3"
    },
    "language_info": {
      "name": "python"
    }
  },
  "cells": [
    {
      "cell_type": "markdown",
      "metadata": {
        "id": "view-in-github",
        "colab_type": "text"
      },
      "source": [
        "<a href=\"https://colab.research.google.com/github/mdaugherity/MachineLearning2024/blob/main/tutorial/Tutorial_06_Tuning_and_Evaluation.ipynb\" target=\"_parent\"><img src=\"https://colab.research.google.com/assets/colab-badge.svg\" alt=\"Open In Colab\"/></a>"
      ]
    },
    {
      "cell_type": "markdown",
      "source": [
        "Dr. Daugherity, PHYS 453"
      ],
      "metadata": {
        "id": "oK054uXxcz0I"
      }
    },
    {
      "cell_type": "code",
      "execution_count": 1,
      "metadata": {
        "id": "5YNe-hXVNiiW"
      },
      "outputs": [],
      "source": [
        "import numpy as np\n",
        "import matplotlib.pyplot as plt"
      ]
    },
    {
      "cell_type": "markdown",
      "source": [
        "# Tutorial 6 - Tuning and Evaluation\n",
        "\n",
        "\n",
        "We've already discussed some binary classification metrics in class and have played with evaluating mystery classifiers using the built-in reports:\n",
        "* User's Guide: https://scikit-learn.org/stable/modules/model_evaluation.html#classification-metrics\n",
        "* Classification Report: https://scikit-learn.org/stable/modules/generated/sklearn.metrics.classification_report.html#sklearn.metrics.classification_report\n",
        "\n",
        "Now we make this approach more official and see how to properly tune and evaluate classifiers.  Remember, the goal is to finish the overview of classification problems before we dive in to seeing how more classifiers actually work.\n",
        "\n"
      ],
      "metadata": {
        "id": "v2bIvnkyQS_1"
      }
    },
    {
      "cell_type": "markdown",
      "source": [
        "# Test/Train Split\n",
        "To meet our goal of making the \"best\" classifier we have to answer two closely related questions:\n",
        "1.  How do we choose the best parameters to avoid under/over-fitting?\n",
        "1.  How well will our classifier do with *new* samples?  \n",
        "\n",
        "The answer to both is to split the dataset and save a fraction as our \"test\" data that we **DO NOT FIT THE CLASSIFIER** with.  \n",
        "\n",
        "<img src='https://scikit-learn.org/stable/_images/grid_search_workflow.png' width=500>\n",
        "\n",
        "The concept of saving data where we know the right answer is our key to tuning parameters and estimating performance.  Data that has been used to train the classifier **cannot** be use to fairly evaluate a classifier.\n",
        "\n",
        "We will do this twice:\n",
        "* Data used for tuning the best parameters is usually called **VALIDATION DATA**.  We will use a cool trick called cross-validation to use all of the data efficiently.\n",
        "* After all of the choices are made and everything is done, only then will we use the **TEST DATA** to estimate the final performance of the classifier on new data.\n",
        "\n",
        "**References**\n",
        "* https://scikit-learn.org/stable/modules/generated/sklearn.model_selection.train_test_split.html\n",
        "* https://scikit-learn.org/stable/modules/cross_validation.html  (figure source)\n",
        "* https://scikit-learn.org/stable/common_pitfalls.html#data-leakage\n"
      ],
      "metadata": {
        "id": "KTnCMvcx3VIH"
      }
    },
    {
      "cell_type": "markdown",
      "source": [
        "## Random State\n",
        "Before we begin, it is important to understand how ```random_state``` works.  In a nutshell, there is no such thing as a random number in computing.  All random numbers are generated from a seed, and the same algorithm with the same seed produces the same list of numbers.  It is sometimes convenient to get set the seed with ```random_state``` to get the same results while you are working.  Common values are 0,1, 42, or other sci-fi / pop-culture references.  \n",
        "\n",
        "A good analogy is to think about a book filled with numbers.  Setting random_state tells the program which page of the book to use.  \n",
        "\n",
        "For more detail, read section 10.3 in https://scikit-learn.org/stable/common_pitfalls.html"
      ],
      "metadata": {
        "id": "hxd1r9eZTTpM"
      }
    },
    {
      "cell_type": "code",
      "source": [
        "from sklearn.datasets import make_blobs\n",
        "from sklearn.model_selection import train_test_split"
      ],
      "metadata": {
        "id": "oiyBjkBPOzgC"
      },
      "execution_count": 2,
      "outputs": []
    },
    {
      "cell_type": "code",
      "source": [
        "# Run this with and without random_state\n",
        "#X,y = make_blobs(centers=2, random_state=0)\n",
        "X,y = make_blobs(centers=2)\n",
        "\n",
        "plt.scatter(X[:,0], X[:,1],c=y,cmap='bwr')\n",
        "plt.show()"
      ],
      "metadata": {
        "colab": {
          "base_uri": "https://localhost:8080/",
          "height": 430
        },
        "id": "eOv65WAgO3ww",
        "outputId": "ed718cfe-454a-49a1-9510-f3747fd1b662"
      },
      "execution_count": 3,
      "outputs": [
        {
          "output_type": "display_data",
          "data": {
            "text/plain": [
              "<Figure size 640x480 with 1 Axes>"
            ],
            "image/png": "[encoded data removed]"
          },
          "metadata": {}
        }
      ]
    },
    {
      "cell_type": "code",
      "source": [
        "# Run this with and without random_state\n",
        "#X_train, X_test, y_train, y_test = train_test_split(X, y)\n",
        "X_train, X_test, y_train, y_test = train_test_split(X, y, random_state=0)\n",
        "print(y.shape, y_train.shape, y_test.shape)\n",
        "\n",
        "plt.figure(figsize=(8,6))\n",
        "plt.scatter(X_train[:,0], X_train[:,1],marker='.',c=y_train,cmap='bwr',label='Train', alpha=0.25)\n",
        "plt.scatter(X_test[:,0], X_test[:,1],marker='o',edgecolor='k',c=y_test,cmap='bwr',label='Test')\n",
        "plt.legend()\n",
        "\n",
        "plt.show()"
      ],
      "metadata": {
        "colab": {
          "base_uri": "https://localhost:8080/",
          "height": 540
        },
        "id": "YnHJel62dSRy",
        "outputId": "2455f240-b66c-4401-ef6b-50edf7254bab"
      },
      "execution_count": 4,
      "outputs": [
        {
          "output_type": "stream",
          "name": "stdout",
          "text": [
            "(100,) (75,) (25,)\n"
          ]
        },
        {
          "output_type": "display_data",
          "data": {
            "text/plain": [
              "<Figure size 800x600 with 1 Axes>"
            ],
            "image/png": "[encoded data removed]"
          },
          "metadata": {}
        }
      ]
    },
    {
      "cell_type": "markdown",
      "source": [
        "# Choosing the right values (tuning parameters)\n",
        "Essentially all classifiers have parameters you can tune to improve performance.  For example, how do we choose k for kNearestNeighbors?"
      ],
      "metadata": {
        "id": "87t7zb7Qi4ho"
      }
    },
    {
      "cell_type": "code",
      "source": [
        "from sklearn import datasets\n",
        "from sklearn import neighbors\n",
        "from sklearn import model_selection"
      ],
      "metadata": {
        "id": "COUDemGri9HK"
      },
      "execution_count": 5,
      "outputs": []
    },
    {
      "cell_type": "code",
      "source": [
        "clf = neighbors.KNeighborsClassifier(n_neighbors=5)   # how many to pick?"
      ],
      "metadata": {
        "id": "gqeEpNJOjfff"
      },
      "execution_count": 6,
      "outputs": []
    },
    {
      "cell_type": "code",
      "source": [
        "#data = datasets.load_iris()\n",
        "data = datasets.load_breast_cancer()\n",
        "print('Features:\\t',data.feature_names)\n",
        "print('Targets:\\t',data.target_names)\n",
        "\n",
        "X = data.data\n",
        "y = data.target\n",
        "print(X.shape)"
      ],
      "metadata": {
        "colab": {
          "base_uri": "https://localhost:8080/"
        },
        "id": "GdtApiVVi_P-",
        "outputId": "2b554f15-9911-4e51-a2e4-b307fa4e72ca"
      },
      "execution_count": 7,
      "outputs": [
        {
          "output_type": "stream",
          "name": "stdout",
          "text": [
            "Features:\t ['mean radius' 'mean texture' 'mean perimeter' 'mean area'\n",
            " 'mean smoothness' 'mean compactness' 'mean concavity'\n",
            " 'mean concave points' 'mean symmetry' 'mean fractal dimension'\n",
            " 'radius error' 'texture error' 'perimeter error' 'area error'\n",
            " 'smoothness error' 'compactness error' 'concavity error'\n",
            " 'concave points error' 'symmetry error' 'fractal dimension error'\n",
            " 'worst radius' 'worst texture' 'worst perimeter' 'worst area'\n",
            " 'worst smoothness' 'worst compactness' 'worst concavity'\n",
            " 'worst concave points' 'worst symmetry' 'worst fractal dimension']\n",
            "Targets:\t ['malignant' 'benign']\n",
            "(569, 30)\n"
          ]
        }
      ]
    },
    {
      "cell_type": "markdown",
      "source": [
        "# HARD MODE: Manual Brute Force\n",
        "We'll start by doing things the hard way for transparency.  The basic approach is:\n",
        "1.  Split the data into testing and training sets\n",
        "1.  Call ```fit``` on training data\n",
        "1.  Score the classifier on the testing data\n",
        "1.  Use brutal force to try lots of options and pick the best one\n",
        "\n",
        "Play with this code below.  Notice how the results depend on test_size and can be VERY sensitive on random_state.\n"
      ],
      "metadata": {
        "id": "-xoqUHOGjNcq"
      }
    },
    {
      "cell_type": "code",
      "source": [
        "# Run this with and without random_state\n",
        "X_train, X_test, y_train, y_test = model_selection.train_test_split(X, y) #random_state=1)\n",
        "print(X.shape)\n",
        "\n",
        "KLIST = np.arange(1,16)\n",
        "\n",
        "# DOING THIS THE HARD WAY--don't use this method\n",
        "# Manually check lots of values of k to find the best test score\n",
        "train_scores = np.zeros_like(KLIST,dtype=float)  # don't want INTs here!\n",
        "test_scores =  np.zeros_like(KLIST,dtype=float)\n",
        "for i,k in enumerate(KLIST):\n",
        "  clf = neighbors.KNeighborsClassifier(n_neighbors=k)\n",
        "  clf.fit(X_train,y_train)\n",
        "  test_scores[i] = clf.score(X_test,y_test)\n",
        "  train_scores[i] = clf.score(X_train,y_train)\n",
        "\n",
        "best_k = KLIST[test_scores.argmax()]\n",
        "print(f\"Best k: {best_k}\")\n",
        "print(f\"Best Test Score: {test_scores.max():0.3f}\")\n",
        "\n",
        "plt.figure(figsize=(10,5))\n",
        "plt.axvline(best_k, color='black', lw=2) # draw black line behind best params\n",
        "plt.plot(KLIST, train_scores, label='Training Accuracy')\n",
        "plt.plot(KLIST, test_scores, label='Testing Accuracy')\n",
        "plt.legend()\n",
        "plt.xlabel('Neighbors')\n",
        "plt.ylabel('Accuracy')\n",
        "plt.title('Tuning k - Very sensitive to particular random state')\n",
        "plt.grid()\n",
        "plt.show()"
      ],
      "metadata": {
        "colab": {
          "base_uri": "https://localhost:8080/",
          "height": 541
        },
        "id": "inPfE_xIjHbJ",
        "outputId": "e364b826-d4a6-41ea-cfd3-c8fd6bc5169b"
      },
      "execution_count": 8,
      "outputs": [
        {
          "output_type": "stream",
          "name": "stdout",
          "text": [
            "(569, 30)\n",
            "Best k: 6\n",
            "Best Test Score: 0.944\n"
          ]
        },
        {
          "output_type": "display_data",
          "data": {
            "text/plain": [
              "<Figure size 1000x500 with 1 Axes>"
            ],
            "image/png": "[encoded data removed]"
          },
          "metadata": {}
        }
      ]
    },
    {
      "cell_type": "markdown",
      "source": [
        "# EASY MODE: Cross Valildation Grid Search\n",
        "\n",
        "A great way to get more consistent results is to use **cross validation**.  \n",
        "First we hide away some **test data**.  Then we divide the remainder into the **training** and **validation** sets.  We pick a value for the parameters, fit it with training data and score it on validation data.  We do the process 5 times cycling through different validation sets and average over the results to ensure that the entire training data set gets used.\n",
        "\n",
        "As always, we DO NOT PEEK at the test data until we have completely finalized our classifier.\n",
        "\n",
        "<img src='https://scikit-learn.org/stable/_images/grid_search_cross_validation.png' width=500>\n",
        "\n",
        "In this example below, we'll see how cross validation gives more stable results than the previous example.\n",
        "\n",
        "**References:**\n",
        "* https://scikit-learn.org/stable/modules/cross_validation.html#multimetric-cross-validation\n",
        "* https://scikit-learn.org/stable/modules/generated/sklearn.model_selection.GridSearchCV.html#sklearn.model_selection.GridSearchCV\n",
        "\n",
        "\n",
        "\n"
      ],
      "metadata": {
        "id": "lPyoBkaom0FT"
      }
    },
    {
      "cell_type": "code",
      "source": [
        "X_train, X_test, y_train, y_test = model_selection.train_test_split(X, y, test_size=0.2)  #random_state=1)\n",
        "\n",
        "# Automatically search for the best parameters\n",
        "KLIST = np.arange(1,16)\n",
        "WLIST = ['uniform','distance']\n",
        "params = {'n_neighbors':KLIST, 'weights':WLIST}  # Set up parameters to try\n",
        "print('Parameters to try:',params)\n",
        "\n",
        "grid_clf = model_selection.GridSearchCV(neighbors.KNeighborsClassifier(), param_grid=params, return_train_score=True)\n",
        "grid_clf.fit(X,y)\n",
        "\n",
        "print('Best estimator:', grid_clf.best_estimator_)\n",
        "print('Best parameters:', grid_clf.best_params_)\n",
        "print('Best score:', grid_clf.best_score_)"
      ],
      "metadata": {
        "colab": {
          "base_uri": "https://localhost:8080/"
        },
        "id": "_Qo29RtEux0O",
        "outputId": "53ac9ca3-5f2b-4a4e-a6eb-489baf2d3ae4"
      },
      "execution_count": 9,
      "outputs": [
        {
          "output_type": "stream",
          "name": "stdout",
          "text": [
            "Parameters to try: {'n_neighbors': array([ 1,  2,  3,  4,  5,  6,  7,  8,  9, 10, 11, 12, 13, 14, 15]), 'weights': ['uniform', 'distance']}\n",
            "Best estimator: KNeighborsClassifier(n_neighbors=13)\n",
            "Best parameters: {'n_neighbors': 13, 'weights': 'uniform'}\n",
            "Best score: 0.9332401800962584\n"
          ]
        }
      ]
    },
    {
      "cell_type": "markdown",
      "source": [
        "## Diving In\n",
        "The above example shows how quick and easy it is to get a result using GridSearchCV.  Below are totally unnecesary examples of how to dive in to the search results and see what happened."
      ],
      "metadata": {
        "id": "ak9MVMFhZVid"
      }
    },
    {
      "cell_type": "code",
      "source": [
        "res = grid_clf.cv_results_\n",
        "res.keys() # Wow, look at all of this"
      ],
      "metadata": {
        "colab": {
          "base_uri": "https://localhost:8080/"
        },
        "id": "jvGMUc78qaRR",
        "outputId": "782de6c9-6aa8-444b-b302-14434539cb61"
      },
      "execution_count": 10,
      "outputs": [
        {
          "output_type": "execute_result",
          "data": {
            "text/plain": [
              "dict_keys(['mean_fit_time', 'std_fit_time', 'mean_score_time', 'std_score_time', 'param_n_neighbors', 'param_weights', 'params', 'split0_test_score', 'split1_test_score', 'split2_test_score', 'split3_test_score', 'split4_test_score', 'mean_test_score', 'std_test_score', 'rank_test_score', 'split0_train_score', 'split1_train_score', 'split2_train_score', 'split3_train_score', 'split4_train_score', 'mean_train_score', 'std_train_score'])"
            ]
          },
          "metadata": {},
          "execution_count": 10
        }
      ]
    },
    {
      "cell_type": "code",
      "source": [
        "res"
      ],
      "metadata": {
        "colab": {
          "base_uri": "https://localhost:8080/"
        },
        "id": "I8ZIJDxvxDDG",
        "outputId": "8d982920-8130-4284-c69e-1cb49b506c4a"
      },
      "execution_count": 11,
      "outputs": [
        {
          "output_type": "execute_result",
          "data": {
            "text/plain": [
              "{'mean_fit_time': array([0.00100646, 0.00081372, 0.00256147, 0.00170574, 0.00088315,\n",
              "        0.00245752, 0.00089726, 0.00092235, 0.00195627, 0.0094718 ,\n",
              "        0.00451155, 0.00492086, 0.00089998, 0.00084491, 0.00226426,\n",
              "        0.0007453 , 0.00103188, 0.00079761, 0.00100021, 0.00172806,\n",
              "        0.00094042, 0.00095286, 0.00355916, 0.00228076, 0.00095215,\n",
              "        0.00097909, 0.00249972, 0.00537076, 0.00136819, 0.00090475]),\n",
              " 'std_fit_time': array([3.96975454e-05, 1.43021501e-04, 3.12797114e-03, 1.36609125e-03,\n",
              "        1.24753068e-04, 2.68581081e-03, 9.14703187e-05, 1.35868103e-04,\n",
              "        1.95934067e-03, 5.25821738e-03, 4.55579815e-03, 7.49412279e-03,\n",
              "        1.05155773e-04, 6.80998590e-05, 2.86066419e-03, 1.00879969e-04,\n",
              "        4.69686900e-04, 9.63473756e-05, 3.73145718e-05, 1.64303970e-03,\n",
              "        1.28370780e-04, 2.11946473e-05, 5.24956660e-03, 2.77563822e-03,\n",
              "        5.25795082e-05, 1.72573593e-04, 3.18600257e-03, 3.20999180e-03,\n",
              "        8.91183449e-04, 9.59777851e-05]),\n",
              " 'mean_score_time': array([0.0695611 , 0.03520002, 0.07403364, 0.056949  , 0.03349843,\n",
              "        0.04839506, 0.06994076, 0.07609134, 0.12230959, 0.05591788,\n",
              "        0.04835615, 0.03041959, 0.05142102, 0.07293816, 0.10169415,\n",
              "        0.00922809, 0.05974865, 0.01107917, 0.0444664 , 0.12706127,\n",
              "        0.01274648, 0.05185871, 0.08073812, 0.05183525, 0.16026154,\n",
              "        0.10435901, 0.08165917, 0.03310747, 0.03266306, 0.02293572]),\n",
              " 'std_score_time': array([0.06147749, 0.06113928, 0.05121595, 0.07133104, 0.03441872,\n",
              "        0.05524766, 0.05855209, 0.08094425, 0.06207511, 0.06895855,\n",
              "        0.00740568, 0.04778641, 0.04292242, 0.05698027, 0.05921287,\n",
              "        0.00478392, 0.05707975, 0.01078556, 0.0265357 , 0.06848341,\n",
              "        0.00065422, 0.07938334, 0.07344545, 0.04841231, 0.03136408,\n",
              "        0.08430141, 0.07948726, 0.03874924, 0.02766967, 0.01907848]),\n",
              " 'param_n_neighbors': masked_array(data=[1, 1, 2, 2, 3, 3, 4, 4, 5, 5, 6, 6, 7, 7, 8, 8, 9, 9,\n",
              "                    10, 10, 11, 11, 12, 12, 13, 13, 14, 14, 15, 15],\n",
              "              mask=[False, False, False, False, False, False, False, False,\n",
              "                    False, False, False, False, False, False, False, False,\n",
              "                    False, False, False, False, False, False, False, False,\n",
              "                    False, False, False, False, False, False],\n",
              "        fill_value='?',\n",
              "             dtype=object),\n",
              " 'param_weights': masked_array(data=['uniform', 'distance', 'uniform', 'distance',\n",
              "                    'uniform', 'distance', 'uniform', 'distance',\n",
              "                    'uniform', 'distance', 'uniform', 'distance',\n",
              "                    'uniform', 'distance', 'uniform', 'distance',\n",
              "                    'uniform', 'distance', 'uniform', 'distance',\n",
              "                    'uniform', 'distance', 'uniform', 'distance',\n",
              "                    'uniform', 'distance', 'uniform', 'distance',\n",
              "                    'uniform', 'distance'],\n",
              "              mask=[False, False, False, False, False, False, False, False,\n",
              "                    False, False, False, False, False, False, False, False,\n",
              "                    False, False, False, False, False, False, False, False,\n",
              "                    False, False, False, False, False, False],\n",
              "        fill_value='?',\n",
              "             dtype=object),\n",
              " 'params': [{'n_neighbors': 1, 'weights': 'uniform'},\n",
              "  {'n_neighbors': 1, 'weights': 'distance'},\n",
              "  {'n_neighbors': 2, 'weights': 'uniform'},\n",
              "  {'n_neighbors': 2, 'weights': 'distance'},\n",
              "  {'n_neighbors': 3, 'weights': 'uniform'},\n",
              "  {'n_neighbors': 3, 'weights': 'distance'},\n",
              "  {'n_neighbors': 4, 'weights': 'uniform'},\n",
              "  {'n_neighbors': 4, 'weights': 'distance'},\n",
              "  {'n_neighbors': 5, 'weights': 'uniform'},\n",
              "  {'n_neighbors': 5, 'weights': 'distance'},\n",
              "  {'n_neighbors': 6, 'weights': 'uniform'},\n",
              "  {'n_neighbors': 6, 'weights': 'distance'},\n",
              "  {'n_neighbors': 7, 'weights': 'uniform'},\n",
              "  {'n_neighbors': 7, 'weights': 'distance'},\n",
              "  {'n_neighbors': 8, 'weights': 'uniform'},\n",
              "  {'n_neighbors': 8, 'weights': 'distance'},\n",
              "  {'n_neighbors': 9, 'weights': 'uniform'},\n",
              "  {'n_neighbors': 9, 'weights': 'distance'},\n",
              "  {'n_neighbors': 10, 'weights': 'uniform'},\n",
              "  {'n_neighbors': 10, 'weights': 'distance'},\n",
              "  {'n_neighbors': 11, 'weights': 'uniform'},\n",
              "  {'n_neighbors': 11, 'weights': 'distance'},\n",
              "  {'n_neighbors': 12, 'weights': 'uniform'},\n",
              "  {'n_neighbors': 12, 'weights': 'distance'},\n",
              "  {'n_neighbors': 13, 'weights': 'uniform'},\n",
              "  {'n_neighbors': 13, 'weights': 'distance'},\n",
              "  {'n_neighbors': 14, 'weights': 'uniform'},\n",
              "  {'n_neighbors': 14, 'weights': 'distance'},\n",
              "  {'n_neighbors': 15, 'weights': 'uniform'},\n",
              "  {'n_neighbors': 15, 'weights': 'distance'}],\n",
              " 'split0_test_score': array([0.85964912, 0.85964912, 0.89473684, 0.85964912, 0.87719298,\n",
              "        0.87719298, 0.89473684, 0.88596491, 0.88596491, 0.89473684,\n",
              "        0.89473684, 0.88596491, 0.87719298, 0.86842105, 0.87719298,\n",
              "        0.86842105, 0.87719298, 0.86842105, 0.87719298, 0.86842105,\n",
              "        0.87719298, 0.86842105, 0.88596491, 0.86842105, 0.87719298,\n",
              "        0.86842105, 0.87719298, 0.86842105, 0.86842105, 0.86842105]),\n",
              " 'split1_test_score': array([0.92982456, 0.92982456, 0.9122807 , 0.92982456, 0.92105263,\n",
              "        0.92982456, 0.92105263, 0.92982456, 0.93859649, 0.93859649,\n",
              "        0.93859649, 0.93859649, 0.93859649, 0.93859649, 0.93859649,\n",
              "        0.93859649, 0.93859649, 0.93859649, 0.93859649, 0.93859649,\n",
              "        0.93859649, 0.93859649, 0.93859649, 0.93859649, 0.93859649,\n",
              "        0.93859649, 0.93859649, 0.93859649, 0.93859649, 0.93859649]),\n",
              " 'split2_test_score': array([0.9122807 , 0.9122807 , 0.92982456, 0.9122807 , 0.94736842,\n",
              "        0.94736842, 0.94736842, 0.93859649, 0.93859649, 0.93859649,\n",
              "        0.93859649, 0.93859649, 0.94736842, 0.94736842, 0.94736842,\n",
              "        0.94736842, 0.94736842, 0.94736842, 0.94736842, 0.94736842,\n",
              "        0.94736842, 0.94736842, 0.94736842, 0.94736842, 0.94736842,\n",
              "        0.94736842, 0.93859649, 0.93859649, 0.93859649, 0.94736842]),\n",
              " 'split3_test_score': array([0.9122807 , 0.9122807 , 0.89473684, 0.9122807 , 0.93859649,\n",
              "        0.94736842, 0.93859649, 0.93859649, 0.94736842, 0.94736842,\n",
              "        0.92982456, 0.92982456, 0.94736842, 0.94736842, 0.94736842,\n",
              "        0.93859649, 0.95614035, 0.95614035, 0.95614035, 0.95614035,\n",
              "        0.95614035, 0.94736842, 0.95614035, 0.95614035, 0.95614035,\n",
              "        0.95614035, 0.95614035, 0.95614035, 0.95614035, 0.95614035]),\n",
              " 'split4_test_score': array([0.91150442, 0.91150442, 0.89380531, 0.91150442, 0.91150442,\n",
              "        0.92035398, 0.90265487, 0.90265487, 0.92920354, 0.92920354,\n",
              "        0.92035398, 0.92035398, 0.92035398, 0.92035398, 0.92920354,\n",
              "        0.92920354, 0.9380531 , 0.94690265, 0.9380531 , 0.92920354,\n",
              "        0.92920354, 0.9380531 , 0.9380531 , 0.92920354, 0.94690265,\n",
              "        0.9380531 , 0.9380531 , 0.9380531 , 0.94690265, 0.9380531 ]),\n",
              " 'mean_test_score': array([0.9051079 , 0.9051079 , 0.90507685, 0.9051079 , 0.91914299,\n",
              "        0.92442167, 0.92088185, 0.91912746, 0.92794597, 0.92970036,\n",
              "        0.92442167, 0.92266729, 0.92617606, 0.92442167, 0.92794597,\n",
              "        0.9244372 , 0.93147027, 0.93148579, 0.93147027, 0.92794597,\n",
              "        0.92970036, 0.9279615 , 0.93322465, 0.92794597, 0.93324018,\n",
              "        0.92971588, 0.92971588, 0.9279615 , 0.92973141, 0.92971588]),\n",
              " 'std_test_score': array([0.02375385, 0.02375385, 0.01417903, 0.02375385, 0.02448228,\n",
              "        0.02580462, 0.0201552 , 0.02118308, 0.02176276, 0.01840183,\n",
              "        0.01630201, 0.01955056, 0.02640355, 0.02968719, 0.02625012,\n",
              "        0.02859139, 0.02793387, 0.03201721, 0.02793387, 0.03108178,\n",
              "        0.02774039, 0.03004419, 0.02453907, 0.03108178, 0.02856805,\n",
              "        0.03135377, 0.0271446 , 0.03055212, 0.03133185, 0.03135377]),\n",
              " 'rank_test_score': array([27, 27, 30, 27, 25, 22, 24, 26, 16, 10, 20, 23, 18, 20, 16, 19,  4,\n",
              "         3,  4, 14, 10, 12,  2, 14,  1,  7,  7, 12,  6,  7], dtype=int32),\n",
              " 'split0_train_score': array([1.        , 1.        , 0.96703297, 1.        , 0.95384615,\n",
              "        1.        , 0.94505495, 1.        , 0.95164835, 1.        ,\n",
              "        0.94945055, 1.        , 0.94725275, 1.        , 0.94505495,\n",
              "        1.        , 0.94945055, 1.        , 0.94505495, 1.        ,\n",
              "        0.94945055, 1.        , 0.94945055, 1.        , 0.94945055,\n",
              "        1.        , 0.94945055, 1.        , 0.94725275, 1.        ]),\n",
              " 'split1_train_score': array([1.        , 1.        , 0.97142857, 1.        , 0.94945055,\n",
              "        1.        , 0.95604396, 1.        , 0.95164835, 1.        ,\n",
              "        0.94505495, 1.        , 0.94505495, 1.        , 0.94285714,\n",
              "        1.        , 0.94505495, 1.        , 0.94505495, 1.        ,\n",
              "        0.94505495, 1.        , 0.94505495, 1.        , 0.94285714,\n",
              "        1.        , 0.94285714, 1.        , 0.93846154, 1.        ]),\n",
              " 'split2_train_score': array([1.        , 1.        , 0.96703297, 1.        , 0.95824176,\n",
              "        1.        , 0.95164835, 1.        , 0.94725275, 1.        ,\n",
              "        0.93846154, 1.        , 0.93846154, 1.        , 0.93626374,\n",
              "        1.        , 0.93406593, 1.        , 0.93626374, 1.        ,\n",
              "        0.92527473, 1.        , 0.92747253, 1.        , 0.92747253,\n",
              "        1.        , 0.92967033, 1.        , 0.93186813, 1.        ]),\n",
              " 'split3_train_score': array([1.        , 1.        , 0.96703297, 1.        , 0.95384615,\n",
              "        1.        , 0.94505495, 1.        , 0.93846154, 1.        ,\n",
              "        0.93406593, 1.        , 0.93846154, 1.        , 0.93846154,\n",
              "        1.        , 0.94065934, 1.        , 0.94065934, 1.        ,\n",
              "        0.93846154, 1.        , 0.93626374, 1.        , 0.93186813,\n",
              "        1.        , 0.93406593, 1.        , 0.93406593, 1.        ]),\n",
              " 'split4_train_score': array([1.        , 1.        , 0.97149123, 1.        , 0.95394737,\n",
              "        1.        , 0.95175439, 1.        , 0.94736842, 1.        ,\n",
              "        0.94517544, 1.        , 0.94078947, 1.        , 0.94078947,\n",
              "        1.        , 0.94078947, 1.        , 0.94078947, 1.        ,\n",
              "        0.94078947, 1.        , 0.94298246, 1.        , 0.94078947,\n",
              "        1.        , 0.94517544, 1.        , 0.93859649, 1.        ]),\n",
              " 'mean_train_score': array([1.        , 1.        , 0.96880374, 1.        , 0.9538664 ,\n",
              "        1.        , 0.94991132, 1.        , 0.94727588, 1.        ,\n",
              "        0.94244168, 1.        , 0.94200405, 1.        , 0.94068537,\n",
              "        1.        , 0.94200405, 1.        , 0.94156449, 1.        ,\n",
              "        0.93980625, 1.        , 0.94024484, 1.        , 0.93848757,\n",
              "        1.        , 0.94024388, 1.        , 0.93804897, 1.        ]),\n",
              " 'std_train_score': array([0.        , 0.        , 0.00216884, 0.        , 0.00278032,\n",
              "        0.        , 0.00427065, 0.        , 0.00481537, 0.        ,\n",
              "        0.00546665, 0.        , 0.00356176, 0.        , 0.0031086 ,\n",
              "        0.        , 0.00511968, 0.        , 0.00328282, 0.        ,\n",
              "        0.00817926, 0.        , 0.00767278, 0.        , 0.00787054,\n",
              "        0.        , 0.00729218, 0.        , 0.00527725, 0.        ])}"
            ]
          },
          "metadata": {},
          "execution_count": 11
        }
      ]
    },
    {
      "cell_type": "code",
      "source": [
        "# Make a lovely table:\n",
        "# https://scikit-learn.org/stable/auto_examples/model_selection/plot_grid_search_stats.html#sphx-glr-auto-examples-model-selection-plot-grid-search-stats-py\n",
        "import pandas as pd\n",
        "results_df = pd.DataFrame(grid_clf.cv_results_)\n",
        "results_df = results_df.sort_values(by=[\"rank_test_score\"])\n",
        "results_df = results_df.set_index(\n",
        "    results_df[\"params\"].apply(lambda x: \"_\".join(str(val) for val in x.values()))\n",
        ").rename_axis(\"kernel\")\n",
        "results_df[[\"params\", \"rank_test_score\", \"mean_test_score\", \"std_test_score\"]]"
      ],
      "metadata": {
        "colab": {
          "base_uri": "https://localhost:8080/",
          "height": 1000
        },
        "id": "NfGX4ZG2zvAb",
        "outputId": "f6871913-64cc-4b81-9074-2a14aeb848e6"
      },
      "execution_count": 12,
      "outputs": [
        {
          "output_type": "execute_result",
          "data": {
            "text/plain": [
              "                                                 params  rank_test_score  \\\n",
              "kernel                                                                     \n",
              "13_uniform    {'n_neighbors': 13, 'weights': 'uniform'}                1   \n",
              "12_uniform    {'n_neighbors': 12, 'weights': 'uniform'}                2   \n",
              "9_distance    {'n_neighbors': 9, 'weights': 'distance'}                3   \n",
              "10_uniform    {'n_neighbors': 10, 'weights': 'uniform'}                4   \n",
              "9_uniform      {'n_neighbors': 9, 'weights': 'uniform'}                4   \n",
              "15_uniform    {'n_neighbors': 15, 'weights': 'uniform'}                6   \n",
              "15_distance  {'n_neighbors': 15, 'weights': 'distance'}                7   \n",
              "14_uniform    {'n_neighbors': 14, 'weights': 'uniform'}                7   \n",
              "13_distance  {'n_neighbors': 13, 'weights': 'distance'}                7   \n",
              "11_uniform    {'n_neighbors': 11, 'weights': 'uniform'}               10   \n",
              "5_distance    {'n_neighbors': 5, 'weights': 'distance'}               10   \n",
              "14_distance  {'n_neighbors': 14, 'weights': 'distance'}               12   \n",
              "11_distance  {'n_neighbors': 11, 'weights': 'distance'}               12   \n",
              "12_distance  {'n_neighbors': 12, 'weights': 'distance'}               14   \n",
              "10_distance  {'n_neighbors': 10, 'weights': 'distance'}               14   \n",
              "8_uniform      {'n_neighbors': 8, 'weights': 'uniform'}               16   \n",
              "5_uniform      {'n_neighbors': 5, 'weights': 'uniform'}               16   \n",
              "7_uniform      {'n_neighbors': 7, 'weights': 'uniform'}               18   \n",
              "8_distance    {'n_neighbors': 8, 'weights': 'distance'}               19   \n",
              "7_distance    {'n_neighbors': 7, 'weights': 'distance'}               20   \n",
              "6_uniform      {'n_neighbors': 6, 'weights': 'uniform'}               20   \n",
              "3_distance    {'n_neighbors': 3, 'weights': 'distance'}               22   \n",
              "6_distance    {'n_neighbors': 6, 'weights': 'distance'}               23   \n",
              "4_uniform      {'n_neighbors': 4, 'weights': 'uniform'}               24   \n",
              "3_uniform      {'n_neighbors': 3, 'weights': 'uniform'}               25   \n",
              "4_distance    {'n_neighbors': 4, 'weights': 'distance'}               26   \n",
              "2_distance    {'n_neighbors': 2, 'weights': 'distance'}               27   \n",
              "1_distance    {'n_neighbors': 1, 'weights': 'distance'}               27   \n",
              "1_uniform      {'n_neighbors': 1, 'weights': 'uniform'}               27   \n",
              "2_uniform      {'n_neighbors': 2, 'weights': 'uniform'}               30   \n",
              "\n",
              "             mean_test_score  std_test_score  \n",
              "kernel                                        \n",
              "13_uniform          0.933240        0.028568  \n",
              "12_uniform          0.933225        0.024539  \n",
              "9_distance          0.931486        0.032017  \n",
              "10_uniform          0.931470        0.027934  \n",
              "9_uniform           0.931470        0.027934  \n",
              "15_uniform          0.929731        0.031332  \n",
              "15_distance         0.929716        0.031354  \n",
              "14_uniform          0.929716        0.027145  \n",
              "13_distance         0.929716        0.031354  \n",
              "11_uniform          0.929700        0.027740  \n",
              "5_distance          0.929700        0.018402  \n",
              "14_distance         0.927961        0.030552  \n",
              "11_distance         0.927961        0.030044  \n",
              "12_distance         0.927946        0.031082  \n",
              "10_distance         0.927946        0.031082  \n",
              "8_uniform           0.927946        0.026250  \n",
              "5_uniform           0.927946        0.021763  \n",
              "7_uniform           0.926176        0.026404  \n",
              "8_distance          0.924437        0.028591  \n",
              "7_distance          0.924422        0.029687  \n",
              "6_uniform           0.924422        0.016302  \n",
              "3_distance          0.924422        0.025805  \n",
              "6_distance          0.922667        0.019551  \n",
              "4_uniform           0.920882        0.020155  \n",
              "3_uniform           0.919143        0.024482  \n",
              "4_distance          0.919127        0.021183  \n",
              "2_distance          0.905108        0.023754  \n",
              "1_distance          0.905108        0.023754  \n",
              "1_uniform           0.905108        0.023754  \n",
              "2_uniform           0.905077        0.014179  "
            ],
            "text/html": [
              "\n",
              "  <div id=\"df-59296801-6b60-4483-bd7b-8cb4de3a9b56\" class=\"colab-df-container\">\n",
              "    <div>\n",
              "<style scoped>\n",
              "    .dataframe tbody tr th:only-of-type {\n",
              "        vertical-align: middle;\n",
              "    }\n",
              "\n",
              "    .dataframe tbody tr th {\n",
              "        vertical-align: top;\n",
              "    }\n",
              "\n",
              "    .dataframe thead th {\n",
              "        text-align: right;\n",
              "    }\n",
              "</style>\n",
              "<table border=\"1\" class=\"dataframe\">\n",
              "  <thead>\n",
              "    <tr style=\"text-align: right;\">\n",
              "      <th></th>\n",
              "      <th>params</th>\n",
              "      <th>rank_test_score</th>\n",
              "      <th>mean_test_score</th>\n",
              "      <th>std_test_score</th>\n",
              "    </tr>\n",
              "    <tr>\n",
              "      <th>kernel</th>\n",
              "      <th></th>\n",
              "      <th></th>\n",
              "      <th></th>\n",
              "      <th></th>\n",
              "    </tr>\n",
              "  </thead>\n",
              "  <tbody>\n",
              "    <tr>\n",
              "      <th>13_uniform</th>\n",
              "      <td>{'n_neighbors': 13, 'weights': 'uniform'}</td>\n",
              "      <td>1</td>\n",
              "      <td>0.933240</td>\n",
              "      <td>0.028568</td>\n",
              "    </tr>\n",
              "    <tr>\n",
              "      <th>12_uniform</th>\n",
              "      <td>{'n_neighbors': 12, 'weights': 'uniform'}</td>\n",
              "      <td>2</td>\n",
              "      <td>0.933225</td>\n",
              "      <td>0.024539</td>\n",
              "    </tr>\n",
              "    <tr>\n",
              "      <th>9_distance</th>\n",
              "      <td>{'n_neighbors': 9, 'weights': 'distance'}</td>\n",
              "      <td>3</td>\n",
              "      <td>0.931486</td>\n",
              "      <td>0.032017</td>\n",
              "    </tr>\n",
              "    <tr>\n",
              "      <th>10_uniform</th>\n",
              "      <td>{'n_neighbors': 10, 'weights': 'uniform'}</td>\n",
              "      <td>4</td>\n",
              "      <td>0.931470</td>\n",
              "      <td>0.027934</td>\n",
              "    </tr>\n",
              "    <tr>\n",
              "      <th>9_uniform</th>\n",
              "      <td>{'n_neighbors': 9, 'weights': 'uniform'}</td>\n",
              "      <td>4</td>\n",
              "      <td>0.931470</td>\n",
              "      <td>0.027934</td>\n",
              "    </tr>\n",
              "    <tr>\n",
              "      <th>15_uniform</th>\n",
              "      <td>{'n_neighbors': 15, 'weights': 'uniform'}</td>\n",
              "      <td>6</td>\n",
              "      <td>0.929731</td>\n",
              "      <td>0.031332</td>\n",
              "    </tr>\n",
              "    <tr>\n",
              "      <th>15_distance</th>\n",
              "      <td>{'n_neighbors': 15, 'weights': 'distance'}</td>\n",
              "      <td>7</td>\n",
              "      <td>0.929716</td>\n",
              "      <td>0.031354</td>\n",
              "    </tr>\n",
              "    <tr>\n",
              "      <th>14_uniform</th>\n",
              "      <td>{'n_neighbors': 14, 'weights': 'uniform'}</td>\n",
              "      <td>7</td>\n",
              "      <td>0.929716</td>\n",
              "      <td>0.027145</td>\n",
              "    </tr>\n",
              "    <tr>\n",
              "      <th>13_distance</th>\n",
              "      <td>{'n_neighbors': 13, 'weights': 'distance'}</td>\n",
              "      <td>7</td>\n",
              "      <td>0.929716</td>\n",
              "      <td>0.031354</td>\n",
              "    </tr>\n",
              "    <tr>\n",
              "      <th>11_uniform</th>\n",
              "      <td>{'n_neighbors': 11, 'weights': 'uniform'}</td>\n",
              "      <td>10</td>\n",
              "      <td>0.929700</td>\n",
              "      <td>0.027740</td>\n",
              "    </tr>\n",
              "    <tr>\n",
              "      <th>5_distance</th>\n",
              "      <td>{'n_neighbors': 5, 'weights': 'distance'}</td>\n",
              "      <td>10</td>\n",
              "      <td>0.929700</td>\n",
              "      <td>0.018402</td>\n",
              "    </tr>\n",
              "    <tr>\n",
              "      <th>14_distance</th>\n",
              "      <td>{'n_neighbors': 14, 'weights': 'distance'}</td>\n",
              "      <td>12</td>\n",
              "      <td>0.927961</td>\n",
              "      <td>0.030552</td>\n",
              "    </tr>\n",
              "    <tr>\n",
              "      <th>11_distance</th>\n",
              "      <td>{'n_neighbors': 11, 'weights': 'distance'}</td>\n",
              "      <td>12</td>\n",
              "      <td>0.927961</td>\n",
              "      <td>0.030044</td>\n",
              "    </tr>\n",
              "    <tr>\n",
              "      <th>12_distance</th>\n",
              "      <td>{'n_neighbors': 12, 'weights': 'distance'}</td>\n",
              "      <td>14</td>\n",
              "      <td>0.927946</td>\n",
              "      <td>0.031082</td>\n",
              "    </tr>\n",
              "    <tr>\n",
              "      <th>10_distance</th>\n",
              "      <td>{'n_neighbors': 10, 'weights': 'distance'}</td>\n",
              "      <td>14</td>\n",
              "      <td>0.927946</td>\n",
              "      <td>0.031082</td>\n",
              "    </tr>\n",
              "    <tr>\n",
              "      <th>8_uniform</th>\n",
              "      <td>{'n_neighbors': 8, 'weights': 'uniform'}</td>\n",
              "      <td>16</td>\n",
              "      <td>0.927946</td>\n",
              "      <td>0.026250</td>\n",
              "    </tr>\n",
              "    <tr>\n",
              "      <th>5_uniform</th>\n",
              "      <td>{'n_neighbors': 5, 'weights': 'uniform'}</td>\n",
              "      <td>16</td>\n",
              "      <td>0.927946</td>\n",
              "      <td>0.021763</td>\n",
              "    </tr>\n",
              "    <tr>\n",
              "      <th>7_uniform</th>\n",
              "      <td>{'n_neighbors': 7, 'weights': 'uniform'}</td>\n",
              "      <td>18</td>\n",
              "      <td>0.926176</td>\n",
              "      <td>0.026404</td>\n",
              "    </tr>\n",
              "    <tr>\n",
              "      <th>8_distance</th>\n",
              "      <td>{'n_neighbors': 8, 'weights': 'distance'}</td>\n",
              "      <td>19</td>\n",
              "      <td>0.924437</td>\n",
              "      <td>0.028591</td>\n",
              "    </tr>\n",
              "    <tr>\n",
              "      <th>7_distance</th>\n",
              "      <td>{'n_neighbors': 7, 'weights': 'distance'}</td>\n",
              "      <td>20</td>\n",
              "      <td>0.924422</td>\n",
              "      <td>0.029687</td>\n",
              "    </tr>\n",
              "    <tr>\n",
              "      <th>6_uniform</th>\n",
              "      <td>{'n_neighbors': 6, 'weights': 'uniform'}</td>\n",
              "      <td>20</td>\n",
              "      <td>0.924422</td>\n",
              "      <td>0.016302</td>\n",
              "    </tr>\n",
              "    <tr>\n",
              "      <th>3_distance</th>\n",
              "      <td>{'n_neighbors': 3, 'weights': 'distance'}</td>\n",
              "      <td>22</td>\n",
              "      <td>0.924422</td>\n",
              "      <td>0.025805</td>\n",
              "    </tr>\n",
              "    <tr>\n",
              "      <th>6_distance</th>\n",
              "      <td>{'n_neighbors': 6, 'weights': 'distance'}</td>\n",
              "      <td>23</td>\n",
              "      <td>0.922667</td>\n",
              "      <td>0.019551</td>\n",
              "    </tr>\n",
              "    <tr>\n",
              "      <th>4_uniform</th>\n",
              "      <td>{'n_neighbors': 4, 'weights': 'uniform'}</td>\n",
              "      <td>24</td>\n",
              "      <td>0.920882</td>\n",
              "      <td>0.020155</td>\n",
              "    </tr>\n",
              "    <tr>\n",
              "      <th>3_uniform</th>\n",
              "      <td>{'n_neighbors': 3, 'weights': 'uniform'}</td>\n",
              "      <td>25</td>\n",
              "      <td>0.919143</td>\n",
              "      <td>0.024482</td>\n",
              "    </tr>\n",
              "    <tr>\n",
              "      <th>4_distance</th>\n",
              "      <td>{'n_neighbors': 4, 'weights': 'distance'}</td>\n",
              "      <td>26</td>\n",
              "      <td>0.919127</td>\n",
              "      <td>0.021183</td>\n",
              "    </tr>\n",
              "    <tr>\n",
              "      <th>2_distance</th>\n",
              "      <td>{'n_neighbors': 2, 'weights': 'distance'}</td>\n",
              "      <td>27</td>\n",
              "      <td>0.905108</td>\n",
              "      <td>0.023754</td>\n",
              "    </tr>\n",
              "    <tr>\n",
              "      <th>1_distance</th>\n",
              "      <td>{'n_neighbors': 1, 'weights': 'distance'}</td>\n",
              "      <td>27</td>\n",
              "      <td>0.905108</td>\n",
              "      <td>0.023754</td>\n",
              "    </tr>\n",
              "    <tr>\n",
              "      <th>1_uniform</th>\n",
              "      <td>{'n_neighbors': 1, 'weights': 'uniform'}</td>\n",
              "      <td>27</td>\n",
              "      <td>0.905108</td>\n",
              "      <td>0.023754</td>\n",
              "    </tr>\n",
              "    <tr>\n",
              "      <th>2_uniform</th>\n",
              "      <td>{'n_neighbors': 2, 'weights': 'uniform'}</td>\n",
              "      <td>30</td>\n",
              "      <td>0.905077</td>\n",
              "      <td>0.014179</td>\n",
              "    </tr>\n",
              "  </tbody>\n",
              "</table>\n",
              "</div>\n",
              "    <div class=\"colab-df-buttons\">\n",
              "\n",
              "  <div class=\"colab-df-container\">\n",
              "    <button class=\"colab-df-convert\" onclick=\"convertToInteractive('df-59296801-6b60-4483-bd7b-8cb4de3a9b56')\"\n",
              "            title=\"Convert this dataframe to an interactive table.\"\n",
              "            style=\"display:none;\">\n",
              "\n",
              "  <svg xmlns=\"http://www.w3.org/2000/svg\" height=\"24px\" viewBox=\"0 -960 960 960\">\n",
              "    <path d=\"M120-120v-720h720v720H120Zm60-500h600v-160H180v160Zm220 220h160v-160H400v160Zm0 220h160v-160H400v160ZM180-400h160v-160H180v160Zm440 0h160v-160H620v160ZM180-180h160v-160H180v160Zm440 0h160v-160H620v160Z\"/>\n",
              "  </svg>\n",
              "    </button>\n",
              "\n",
              "  <style>\n",
              "    .colab-df-container {\n",
              "      display:flex;\n",
              "      gap: 12px;\n",
              "    }\n",
              "\n",
              "    .colab-df-convert {\n",
              "      background-color: #E8F0FE;\n",
              "      border: none;\n",
              "      border-radius: 50%;\n",
              "      cursor: pointer;\n",
              "      display: none;\n",
              "      fill: #1967D2;\n",
              "      height: 32px;\n",
              "      padding: 0 0 0 0;\n",
              "      width: 32px;\n",
              "    }\n",
              "\n",
              "    .colab-df-convert:hover {\n",
              "      background-color: #E2EBFA;\n",
              "      box-shadow: 0px 1px 2px rgba(60, 64, 67, 0.3), 0px 1px 3px 1px rgba(60, 64, 67, 0.15);\n",
              "      fill: #174EA6;\n",
              "    }\n",
              "\n",
              "    .colab-df-buttons div {\n",
              "      margin-bottom: 4px;\n",
              "    }\n",
              "\n",
              "    [theme=dark] .colab-df-convert {\n",
              "      background-color: #3B4455;\n",
              "      fill: #D2E3FC;\n",
              "    }\n",
              "\n",
              "    [theme=dark] .colab-df-convert:hover {\n",
              "      background-color: #434B5C;\n",
              "      box-shadow: 0px 1px 3px 1px rgba(0, 0, 0, 0.15);\n",
              "      filter: drop-shadow(0px 1px 2px rgba(0, 0, 0, 0.3));\n",
              "      fill: #FFFFFF;\n",
              "    }\n",
              "  </style>\n",
              "\n",
              "    <script>\n",
              "      const buttonEl =\n",
              "        document.querySelector('#df-59296801-6b60-4483-bd7b-8cb4de3a9b56 button.colab-df-convert');\n",
              "      buttonEl.style.display =\n",
              "        google.colab.kernel.accessAllowed ? 'block' : 'none';\n",
              "\n",
              "      async function convertToInteractive(key) {\n",
              "        const element = document.querySelector('#df-59296801-6b60-4483-bd7b-8cb4de3a9b56');\n",
              "        const dataTable =\n",
              "          await google.colab.kernel.invokeFunction('convertToInteractive',\n",
              "                                                    [key], {});\n",
              "        if (!dataTable) return;\n",
              "\n",
              "        const docLinkHtml = 'Like what you see? Visit the ' +\n",
              "          '<a target=\"_blank\" href=https://colab.research.google.com/notebooks/data_table.ipynb>data table notebook</a>'\n",
              "          + ' to learn more about interactive tables.';\n",
              "        element.innerHTML = '';\n",
              "        dataTable['output_type'] = 'display_data';\n",
              "        await google.colab.output.renderOutput(dataTable, element);\n",
              "        const docLink = document.createElement('div');\n",
              "        docLink.innerHTML = docLinkHtml;\n",
              "        element.appendChild(docLink);\n",
              "      }\n",
              "    </script>\n",
              "  </div>\n",
              "\n",
              "\n",
              "<div id=\"df-c76a6f5b-50af-4852-b020-e056ad7de14b\">\n",
              "  <button class=\"colab-df-quickchart\" onclick=\"quickchart('df-c76a6f5b-50af-4852-b020-e056ad7de14b')\"\n",
              "            title=\"Suggest charts\"\n",
              "            style=\"display:none;\">\n",
              "\n",
              "<svg xmlns=\"http://www.w3.org/2000/svg\" height=\"24px\"viewBox=\"0 0 24 24\"\n",
              "     width=\"24px\">\n",
              "    <g>\n",
              "        <path d=\"M19 3H5c-1.1 0-2 .9-2 2v14c0 1.1.9 2 2 2h14c1.1 0 2-.9 2-2V5c0-1.1-.9-2-2-2zM9 17H7v-7h2v7zm4 0h-2V7h2v10zm4 0h-2v-4h2v4z\"/>\n",
              "    </g>\n",
              "</svg>\n",
              "  </button>\n",
              "\n",
              "<style>\n",
              "  .colab-df-quickchart {\n",
              "      --bg-color: #E8F0FE;\n",
              "      --fill-color: #1967D2;\n",
              "      --hover-bg-color: #E2EBFA;\n",
              "      --hover-fill-color: #174EA6;\n",
              "      --disabled-fill-color: #AAA;\n",
              "      --disabled-bg-color: #DDD;\n",
              "  }\n",
              "\n",
              "  [theme=dark] .colab-df-quickchart {\n",
              "      --bg-color: #3B4455;\n",
              "      --fill-color: #D2E3FC;\n",
              "      --hover-bg-color: #434B5C;\n",
              "      --hover-fill-color: #FFFFFF;\n",
              "      --disabled-bg-color: #3B4455;\n",
              "      --disabled-fill-color: #666;\n",
              "  }\n",
              "\n",
              "  .colab-df-quickchart {\n",
              "    background-color: var(--bg-color);\n",
              "    border: none;\n",
              "    border-radius: 50%;\n",
              "    cursor: pointer;\n",
              "    display: none;\n",
              "    fill: var(--fill-color);\n",
              "    height: 32px;\n",
              "    padding: 0;\n",
              "    width: 32px;\n",
              "  }\n",
              "\n",
              "  .colab-df-quickchart:hover {\n",
              "    background-color: var(--hover-bg-color);\n",
              "    box-shadow: 0 1px 2px rgba(60, 64, 67, 0.3), 0 1px 3px 1px rgba(60, 64, 67, 0.15);\n",
              "    fill: var(--button-hover-fill-color);\n",
              "  }\n",
              "\n",
              "  .colab-df-quickchart-complete:disabled,\n",
              "  .colab-df-quickchart-complete:disabled:hover {\n",
              "    background-color: var(--disabled-bg-color);\n",
              "    fill: var(--disabled-fill-color);\n",
              "    box-shadow: none;\n",
              "  }\n",
              "\n",
              "  .colab-df-spinner {\n",
              "    border: 2px solid var(--fill-color);\n",
              "    border-color: transparent;\n",
              "    border-bottom-color: var(--fill-color);\n",
              "    animation:\n",
              "      spin 1s steps(1) infinite;\n",
              "  }\n",
              "\n",
              "  @keyframes spin {\n",
              "    0% {\n",
              "      border-color: transparent;\n",
              "      border-bottom-color: var(--fill-color);\n",
              "      border-left-color: var(--fill-color);\n",
              "    }\n",
              "    20% {\n",
              "      border-color: transparent;\n",
              "      border-left-color: var(--fill-color);\n",
              "      border-top-color: var(--fill-color);\n",
              "    }\n",
              "    30% {\n",
              "      border-color: transparent;\n",
              "      border-left-color: var(--fill-color);\n",
              "      border-top-color: var(--fill-color);\n",
              "      border-right-color: var(--fill-color);\n",
              "    }\n",
              "    40% {\n",
              "      border-color: transparent;\n",
              "      border-right-color: var(--fill-color);\n",
              "      border-top-color: var(--fill-color);\n",
              "    }\n",
              "    60% {\n",
              "      border-color: transparent;\n",
              "      border-right-color: var(--fill-color);\n",
              "    }\n",
              "    80% {\n",
              "      border-color: transparent;\n",
              "      border-right-color: var(--fill-color);\n",
              "      border-bottom-color: var(--fill-color);\n",
              "    }\n",
              "    90% {\n",
              "      border-color: transparent;\n",
              "      border-bottom-color: var(--fill-color);\n",
              "    }\n",
              "  }\n",
              "</style>\n",
              "\n",
              "  <script>\n",
              "    async function quickchart(key) {\n",
              "      const quickchartButtonEl =\n",
              "        document.querySelector('#' + key + ' button');\n",
              "      quickchartButtonEl.disabled = true;  // To prevent multiple clicks.\n",
              "      quickchartButtonEl.classList.add('colab-df-spinner');\n",
              "      try {\n",
              "        const charts = await google.colab.kernel.invokeFunction(\n",
              "            'suggestCharts', [key], {});\n",
              "      } catch (error) {\n",
              "        console.error('Error during call to suggestCharts:', error);\n",
              "      }\n",
              "      quickchartButtonEl.classList.remove('colab-df-spinner');\n",
              "      quickchartButtonEl.classList.add('colab-df-quickchart-complete');\n",
              "    }\n",
              "    (() => {\n",
              "      let quickchartButtonEl =\n",
              "        document.querySelector('#df-c76a6f5b-50af-4852-b020-e056ad7de14b button');\n",
              "      quickchartButtonEl.style.display =\n",
              "        google.colab.kernel.accessAllowed ? 'block' : 'none';\n",
              "    })();\n",
              "  </script>\n",
              "</div>\n",
              "    </div>\n",
              "  </div>\n"
            ]
          },
          "metadata": {},
          "execution_count": 12
        }
      ]
    },
    {
      "cell_type": "markdown",
      "source": [
        "## Helper Functions\n",
        "Here's some for visualizing the output of a grid search.  Be warned that this only works for 2 parameters."
      ],
      "metadata": {
        "id": "MVYsqXd9v2ot"
      }
    },
    {
      "cell_type": "code",
      "source": [
        "#https://stackoverflow.com/questions/37161563/how-to-graph-grid-scores-from-gridsearchcv\n",
        "\n",
        "def plot_2par_grid_search(cv_results, grid_param_1, grid_param_2, name_param_1, name_param_2):\n",
        "    \"\"\"Plot GridCV results for two parameter searches\"\"\"\n",
        "    # Get Test Scores Mean and std for each grid search\n",
        "    scores_mean = cv_results['mean_test_score']\n",
        "    scores_mean = np.array(scores_mean).reshape(len(grid_param_1),len(grid_param_2)) # FIXED A BUG HERE\n",
        "\n",
        "    # Plot Grid search scores\n",
        "    _, ax = plt.subplots(1,1,figsize=(10,4))\n",
        "\n",
        "    # Param1 is the X-axis, Param 2 is represented as a different curve (color line)\n",
        "    for idx, val in enumerate(grid_param_2):\n",
        "        ax.plot(grid_param_1, scores_mean[:,idx], '-o', label= name_param_2 + ': ' + str(val)) # FIXED\n",
        "\n",
        "    ax.set_title(\"Grid Search Scores\", fontsize=20, fontweight='bold')\n",
        "    ax.set_xlabel(name_param_1, fontsize=16)\n",
        "    ax.set_ylabel('CV Average Score', fontsize=16)\n",
        "    ax.legend(loc=\"best\", fontsize=15)\n",
        "    ax.grid('on')"
      ],
      "metadata": {
        "id": "aBKaHTaPzD9M"
      },
      "execution_count": 13,
      "outputs": []
    },
    {
      "cell_type": "markdown",
      "source": [
        "## GridCV With Plots"
      ],
      "metadata": {
        "id": "p_m8r4bmwDCb"
      }
    },
    {
      "cell_type": "code",
      "source": [
        "# Try this with and without random_state\n",
        "X_train, X_test, y_train, y_test = model_selection.train_test_split(X, y, test_size=0.2)  #random_state=1)\n",
        "\n",
        "# Automatically search for the best parameters\n",
        "KLIST = np.arange(1,16)\n",
        "WLIST = ['uniform','distance']\n",
        "params = {'n_neighbors':KLIST, 'weights':WLIST}  # Set up parameters to try\n",
        "print('Parameters to try:',params)\n",
        "\n",
        "grid_clf = model_selection.GridSearchCV(neighbors.KNeighborsClassifier(), param_grid=params, return_train_score=True)\n",
        "grid_clf.fit(X,y)\n",
        "\n",
        "print('Best estimator:', grid_clf.best_estimator_)\n",
        "print('Best parameters:', grid_clf.best_params_)\n",
        "print('Best score:', grid_clf.best_score_)\n",
        "\n",
        "plot_2par_grid_search(grid_clf.cv_results_, KLIST, WLIST, 'n_neighbors', 'weight')"
      ],
      "metadata": {
        "colab": {
          "base_uri": "https://localhost:8080/",
          "height": 496
        },
        "id": "Nf5OWqizvZHU",
        "outputId": "a40df546-683b-481d-c0aa-5be395dc875b"
      },
      "execution_count": 14,
      "outputs": [
        {
          "output_type": "stream",
          "name": "stdout",
          "text": [
            "Parameters to try: {'n_neighbors': array([ 1,  2,  3,  4,  5,  6,  7,  8,  9, 10, 11, 12, 13, 14, 15]), 'weights': ['uniform', 'distance']}\n",
            "Best estimator: KNeighborsClassifier(n_neighbors=13)\n",
            "Best parameters: {'n_neighbors': 13, 'weights': 'uniform'}\n",
            "Best score: 0.9332401800962584\n"
          ]
        },
        {
          "output_type": "display_data",
          "data": {
            "text/plain": [
              "<Figure size 1000x400 with 1 Axes>"
            ],
            "image/png": "[encoded data removed]"
          },
          "metadata": {}
        }
      ]
    },
    {
      "cell_type": "code",
      "source": [
        "# Check the numbers\n",
        "for i in range(0,30,2):\n",
        "  print(f\"{res['params'][i]}\\t{res['mean_test_score'][i]:0.3f}\")\n",
        "print()\n",
        "for i in range(1,30,2):\n",
        "  print(f\"{res['params'][i]}\\t{res['mean_test_score'][i]:0.3f}\")"
      ],
      "metadata": {
        "colab": {
          "base_uri": "https://localhost:8080/"
        },
        "id": "A4eZWw0MnbDc",
        "outputId": "139557f2-df8e-456b-ad88-f5c8fa9305ab"
      },
      "execution_count": 15,
      "outputs": [
        {
          "output_type": "stream",
          "name": "stdout",
          "text": [
            "{'n_neighbors': 1, 'weights': 'uniform'}\t0.905\n",
            "{'n_neighbors': 2, 'weights': 'uniform'}\t0.905\n",
            "{'n_neighbors': 3, 'weights': 'uniform'}\t0.919\n",
            "{'n_neighbors': 4, 'weights': 'uniform'}\t0.921\n",
            "{'n_neighbors': 5, 'weights': 'uniform'}\t0.928\n",
            "{'n_neighbors': 6, 'weights': 'uniform'}\t0.924\n",
            "{'n_neighbors': 7, 'weights': 'uniform'}\t0.926\n",
            "{'n_neighbors': 8, 'weights': 'uniform'}\t0.928\n",
            "{'n_neighbors': 9, 'weights': 'uniform'}\t0.931\n",
            "{'n_neighbors': 10, 'weights': 'uniform'}\t0.931\n",
            "{'n_neighbors': 11, 'weights': 'uniform'}\t0.930\n",
            "{'n_neighbors': 12, 'weights': 'uniform'}\t0.933\n",
            "{'n_neighbors': 13, 'weights': 'uniform'}\t0.933\n",
            "{'n_neighbors': 14, 'weights': 'uniform'}\t0.930\n",
            "{'n_neighbors': 15, 'weights': 'uniform'}\t0.930\n",
            "\n",
            "{'n_neighbors': 1, 'weights': 'distance'}\t0.905\n",
            "{'n_neighbors': 2, 'weights': 'distance'}\t0.905\n",
            "{'n_neighbors': 3, 'weights': 'distance'}\t0.924\n",
            "{'n_neighbors': 4, 'weights': 'distance'}\t0.919\n",
            "{'n_neighbors': 5, 'weights': 'distance'}\t0.930\n",
            "{'n_neighbors': 6, 'weights': 'distance'}\t0.923\n",
            "{'n_neighbors': 7, 'weights': 'distance'}\t0.924\n",
            "{'n_neighbors': 8, 'weights': 'distance'}\t0.924\n",
            "{'n_neighbors': 9, 'weights': 'distance'}\t0.931\n",
            "{'n_neighbors': 10, 'weights': 'distance'}\t0.928\n",
            "{'n_neighbors': 11, 'weights': 'distance'}\t0.928\n",
            "{'n_neighbors': 12, 'weights': 'distance'}\t0.928\n",
            "{'n_neighbors': 13, 'weights': 'distance'}\t0.930\n",
            "{'n_neighbors': 14, 'weights': 'distance'}\t0.928\n",
            "{'n_neighbors': 15, 'weights': 'distance'}\t0.930\n"
          ]
        }
      ]
    },
    {
      "cell_type": "markdown",
      "source": [
        "# Conclusion\n",
        "* Use a test/train split to evaulate your classifier.  \n",
        "* Do a CV Grid Search on the training data to tune parameters"
      ],
      "metadata": {
        "id": "Nl7zYHW6aS45"
      }
    }
  ]
}