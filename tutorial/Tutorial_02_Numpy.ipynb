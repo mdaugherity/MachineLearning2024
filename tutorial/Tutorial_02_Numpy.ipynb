{
  "cells": [
    {
      "cell_type": "markdown",
      "metadata": {
        "id": "view-in-github",
        "colab_type": "text"
      },
      "source": [
        "<a href=\"https://colab.research.google.com/github/mdaugherity/MachineLearning2024/blob/main/tutorial/Tutorial_02_Numpy.ipynb\" target=\"_parent\"><img src=\"https://colab.research.google.com/assets/colab-badge.svg\" alt=\"Open In Colab\"/></a>"
      ]
    },
    {
      "cell_type": "markdown",
      "metadata": {
        "id": "gmbb1k9PDWbG"
      },
      "source": [
        "# Tutorial 2: NUMPY\n",
        "### Dr. Daugherity, PHYS 453 - Spring 2024\n",
        "\n",
        "All data scientists use numpy for fast, efficient arrays with tons of powerful libraries.  I highly recommend the [Python Data Science Handbook](https://jakevdp.github.io/PythonDataScienceHandbook/index.html) as a great introduction to numpy\n",
        "\n",
        "**REFERENCES**\n",
        "* https://jakevdp.github.io/PythonDataScienceHandbook/index.html\n",
        "* https://numpy.org/devdocs/user/quickstart.html"
      ]
    },
    {
      "cell_type": "code",
      "execution_count": 1,
      "metadata": {
        "id": "zbFb4w_2DWbJ",
        "outputId": "d100a1dd-b69f-4646-a8a9-bce942f79dba",
        "colab": {
          "base_uri": "https://localhost:8080/",
          "height": 35
        }
      },
      "outputs": [
        {
          "output_type": "execute_result",
          "data": {
            "text/plain": [
              "'1.23.5'"
            ],
            "application/vnd.google.colaboratory.intrinsic+json": {
              "type": "string"
            }
          },
          "metadata": {},
          "execution_count": 1
        }
      ],
      "source": [
        "import numpy as np\n",
        "np.__version__"
      ]
    },
    {
      "cell_type": "markdown",
      "metadata": {
        "id": "PttBh51EDWbL"
      },
      "source": [
        "## Creating Arrays\n",
        "This arrays are **NOT** dynamically sized.  You need to declare them before using!"
      ]
    },
    {
      "cell_type": "code",
      "execution_count": 2,
      "metadata": {
        "id": "veLw9sYaDWbM",
        "outputId": "73773c5f-0eb5-48c8-cda1-c2cdf767e481",
        "colab": {
          "base_uri": "https://localhost:8080/"
        }
      },
      "outputs": [
        {
          "output_type": "execute_result",
          "data": {
            "text/plain": [
              "array([1, 4, 2, 5, 3])"
            ]
          },
          "metadata": {},
          "execution_count": 2
        }
      ],
      "source": [
        "np.array([1, 4, 2, 5, 3])"
      ]
    },
    {
      "cell_type": "code",
      "execution_count": 3,
      "metadata": {
        "id": "RiH0UNYQDWbM",
        "outputId": "cceba811-8e3b-4f69-e53d-6e2913c70007",
        "colab": {
          "base_uri": "https://localhost:8080/"
        }
      },
      "outputs": [
        {
          "output_type": "execute_result",
          "data": {
            "text/plain": [
              "array([[1.5, 2. , 3. ],\n",
              "       [4. , 5. , 6. ]])"
            ]
          },
          "metadata": {},
          "execution_count": 3
        }
      ],
      "source": [
        "np.array([(1.5,2,3), (4,5,6)])"
      ]
    },
    {
      "cell_type": "code",
      "execution_count": 4,
      "metadata": {
        "id": "fOnjArj-DWbO",
        "outputId": "1a86722e-ea21-4c4d-ec99-b9fb958e3c71",
        "colab": {
          "base_uri": "https://localhost:8080/"
        }
      },
      "outputs": [
        {
          "output_type": "execute_result",
          "data": {
            "text/plain": [
              "array([0., 0., 0., 0., 0., 0., 0., 0., 0., 0.])"
            ]
          },
          "metadata": {},
          "execution_count": 4
        }
      ],
      "source": [
        "np.zeros(10)  # my most common method"
      ]
    },
    {
      "cell_type": "code",
      "execution_count": 5,
      "metadata": {
        "id": "z3SMbuTeDWbO",
        "outputId": "dc08ea63-388f-429e-b04d-d64eebc5d018",
        "colab": {
          "base_uri": "https://localhost:8080/"
        }
      },
      "outputs": [
        {
          "output_type": "execute_result",
          "data": {
            "text/plain": [
              "array([[1., 1., 1., 1., 1.],\n",
              "       [1., 1., 1., 1., 1.],\n",
              "       [1., 1., 1., 1., 1.]])"
            ]
          },
          "metadata": {},
          "execution_count": 5
        }
      ],
      "source": [
        "np.ones((3, 5))"
      ]
    },
    {
      "cell_type": "code",
      "execution_count": 6,
      "metadata": {
        "id": "UOxOzovJDWbP",
        "outputId": "39b1fca7-fa9f-4d99-d969-d2d3e73d3917",
        "colab": {
          "base_uri": "https://localhost:8080/"
        }
      },
      "outputs": [
        {
          "output_type": "execute_result",
          "data": {
            "text/plain": [
              "array([ 0,  2,  4,  6,  8, 10, 12, 14, 16, 18])"
            ]
          },
          "metadata": {},
          "execution_count": 6
        }
      ],
      "source": [
        "np.arange(0, 20, 2)  # like the range command (start, stop, step)"
      ]
    },
    {
      "cell_type": "code",
      "execution_count": 7,
      "metadata": {
        "id": "y3-XvWluDWbP",
        "outputId": "27fc89c7-6209-4958-b307-2b40ff1509d9",
        "colab": {
          "base_uri": "https://localhost:8080/"
        }
      },
      "outputs": [
        {
          "output_type": "execute_result",
          "data": {
            "text/plain": [
              "array([0.  , 0.25, 0.5 , 0.75, 1.  ])"
            ]
          },
          "metadata": {},
          "execution_count": 7
        }
      ],
      "source": [
        "np.linspace(0, 1, 5)  # my second most common method"
      ]
    },
    {
      "cell_type": "code",
      "execution_count": 8,
      "metadata": {
        "id": "KZAC4sj_DWbR",
        "outputId": "0de29a8b-d105-4c1f-9c3d-f7c02897b47f",
        "colab": {
          "base_uri": "https://localhost:8080/"
        }
      },
      "outputs": [
        {
          "output_type": "stream",
          "name": "stdout",
          "text": [
            "x ndim:  2\n",
            "x shape: (2, 3)\n",
            "x size:  6\n"
          ]
        }
      ],
      "source": [
        "x = np.array([(1.5,2,3), (4,5,6)])\n",
        "print(\"x ndim: \", x.ndim)\n",
        "print(\"x shape:\", x.shape)\n",
        "print(\"x size: \", x.size)"
      ]
    },
    {
      "cell_type": "markdown",
      "source": [
        "## Warning About Copies\n",
        "Setting array $a=b$ does **NOT** copy all of the array contents.  Instead, now a and b simply point to the same place in memory so that changing something in a will also make the change in b.\n",
        "\n",
        "If this isn't what you want, use\n",
        "\n",
        "```\n",
        "b = a .copy()\n",
        "```\n",
        "\n",
        "\n",
        "\n",
        "\n"
      ],
      "metadata": {
        "id": "i70y8K9S-lo8"
      }
    },
    {
      "cell_type": "code",
      "source": [
        "x = np.arange(5)\n",
        "y = x\n",
        "print(x,y)"
      ],
      "metadata": {
        "id": "8ul3KX0w-rS_",
        "outputId": "0338e2ba-3e50-4de3-ded2-b6cec3faaae2",
        "colab": {
          "base_uri": "https://localhost:8080/"
        }
      },
      "execution_count": 9,
      "outputs": [
        {
          "output_type": "stream",
          "name": "stdout",
          "text": [
            "[0 1 2 3 4] [0 1 2 3 4]\n"
          ]
        }
      ]
    },
    {
      "cell_type": "code",
      "source": [
        "x[0] = 99  # change in x also changes y\n",
        "print(x,y)"
      ],
      "metadata": {
        "id": "hf1OVJT6_8A-",
        "outputId": "27995308-81f7-44aa-d734-1e52fbea47fb",
        "colab": {
          "base_uri": "https://localhost:8080/"
        }
      },
      "execution_count": 10,
      "outputs": [
        {
          "output_type": "stream",
          "name": "stdout",
          "text": [
            "[99  1  2  3  4] [99  1  2  3  4]\n"
          ]
        }
      ]
    },
    {
      "cell_type": "code",
      "source": [
        "x = np.arange(5)\n",
        "y = x.copy()  # and now it doesn't\n",
        "x[0] = -123412\n",
        "print(x,y)"
      ],
      "metadata": {
        "id": "7bdpFSL0ANTW",
        "outputId": "a7c6d6cb-dfcb-48f9-b8c5-89bc62179403",
        "colab": {
          "base_uri": "https://localhost:8080/"
        }
      },
      "execution_count": 11,
      "outputs": [
        {
          "output_type": "stream",
          "name": "stdout",
          "text": [
            "[-123412       1       2       3       4] [0 1 2 3 4]\n"
          ]
        }
      ]
    },
    {
      "cell_type": "markdown",
      "metadata": {
        "id": "ZEnnbwCfDWbR"
      },
      "source": [
        "\n",
        "## Indexing Arrays\n",
        "Three fun tricks:\n",
        "1.  we can use [start:stop:step]\n",
        "1.  negative numbers read from the end\n",
        "1.  a single colon means _everything_\n"
      ]
    },
    {
      "cell_type": "code",
      "execution_count": 12,
      "metadata": {
        "id": "Fi3FfNOZDWbS",
        "outputId": "3f7d063f-7793-408c-b856-fc693b8c0ae8",
        "colab": {
          "base_uri": "https://localhost:8080/"
        }
      },
      "outputs": [
        {
          "output_type": "execute_result",
          "data": {
            "text/plain": [
              "array([0., 1., 2., 3., 4., 5., 6., 7., 8.])"
            ]
          },
          "metadata": {},
          "execution_count": 12
        }
      ],
      "source": [
        "x = np.linspace(0,8,9)  # (start, stop, num)\n",
        "x"
      ]
    },
    {
      "cell_type": "code",
      "execution_count": 13,
      "metadata": {
        "id": "GXZwJVQpDWbS",
        "outputId": "49335d1d-e13b-46b2-b3d2-613a1f1d2879",
        "colab": {
          "base_uri": "https://localhost:8080/"
        }
      },
      "outputs": [
        {
          "output_type": "execute_result",
          "data": {
            "text/plain": [
              "array([0., 1., 2., 3., 4.])"
            ]
          },
          "metadata": {},
          "execution_count": 13
        }
      ],
      "source": [
        "x[:5]  # first five elements"
      ]
    },
    {
      "cell_type": "code",
      "execution_count": 14,
      "metadata": {
        "id": "MuRprthNDWbT",
        "outputId": "0b3b6a08-7b16-4f33-845b-a03bd0eca784",
        "colab": {
          "base_uri": "https://localhost:8080/"
        }
      },
      "outputs": [
        {
          "output_type": "execute_result",
          "data": {
            "text/plain": [
              "array([5., 6., 7., 8.])"
            ]
          },
          "metadata": {},
          "execution_count": 14
        }
      ],
      "source": [
        "x[5:]  # elements after index 5"
      ]
    },
    {
      "cell_type": "code",
      "execution_count": 15,
      "metadata": {
        "id": "Lx8hkI0nDWbT",
        "outputId": "ef13e5e1-830b-4649-ebcc-a5b1cd000e4a",
        "colab": {
          "base_uri": "https://localhost:8080/"
        }
      },
      "outputs": [
        {
          "output_type": "execute_result",
          "data": {
            "text/plain": [
              "array([0., 2., 4., 6., 8.])"
            ]
          },
          "metadata": {},
          "execution_count": 15
        }
      ],
      "source": [
        "x[::2]  # every other element"
      ]
    },
    {
      "cell_type": "code",
      "execution_count": 16,
      "metadata": {
        "id": "HuhW9HhKDWbU",
        "outputId": "6e965e97-1a3e-4219-e427-c5016a5c48e3",
        "colab": {
          "base_uri": "https://localhost:8080/"
        }
      },
      "outputs": [
        {
          "output_type": "execute_result",
          "data": {
            "text/plain": [
              "8.0"
            ]
          },
          "metadata": {},
          "execution_count": 16
        }
      ],
      "source": [
        "x[-1] # last element"
      ]
    },
    {
      "cell_type": "code",
      "execution_count": 17,
      "metadata": {
        "id": "DX1VuIVMDWbU",
        "outputId": "41f475f6-7376-4f14-f681-62a50f373222",
        "colab": {
          "base_uri": "https://localhost:8080/"
        }
      },
      "outputs": [
        {
          "output_type": "execute_result",
          "data": {
            "text/plain": [
              "7.0"
            ]
          },
          "metadata": {},
          "execution_count": 17
        }
      ],
      "source": [
        "x[-2] # second-to-last element"
      ]
    },
    {
      "cell_type": "code",
      "execution_count": 18,
      "metadata": {
        "id": "S0NRN0C1DWbV",
        "outputId": "14f4dab4-119c-4626-cddc-ec78e23c1245",
        "colab": {
          "base_uri": "https://localhost:8080/"
        }
      },
      "outputs": [
        {
          "output_type": "execute_result",
          "data": {
            "text/plain": [
              "array([8., 7., 6., 5., 4., 3., 2., 1., 0.])"
            ]
          },
          "metadata": {},
          "execution_count": 18
        }
      ],
      "source": [
        "x[::-1] # all elements, reversed"
      ]
    },
    {
      "cell_type": "code",
      "execution_count": 19,
      "metadata": {
        "id": "El0QbQ57DWbW",
        "outputId": "24c3b3a0-c0e6-44ef-ca8f-5cb6350b4fbd",
        "colab": {
          "base_uri": "https://localhost:8080/"
        }
      },
      "outputs": [
        {
          "output_type": "execute_result",
          "data": {
            "text/plain": [
              "array([[0., 1., 2.],\n",
              "       [3., 4., 5.],\n",
              "       [6., 7., 8.]])"
            ]
          },
          "metadata": {},
          "execution_count": 19
        }
      ],
      "source": [
        "# Fun in 2D\n",
        "y = x.reshape((3,3))\n",
        "y"
      ]
    },
    {
      "cell_type": "code",
      "execution_count": 20,
      "metadata": {
        "id": "JjYdS9gaDWbW",
        "outputId": "17258a39-1bc4-458d-ca70-14a7f51263ab",
        "colab": {
          "base_uri": "https://localhost:8080/"
        }
      },
      "outputs": [
        {
          "output_type": "execute_result",
          "data": {
            "text/plain": [
              "array([0., 3., 6.])"
            ]
          },
          "metadata": {},
          "execution_count": 20
        }
      ],
      "source": [
        "y[:, 0]  # first column"
      ]
    },
    {
      "cell_type": "code",
      "execution_count": 21,
      "metadata": {
        "id": "dpSKBXT5DWbW",
        "outputId": "8a582b1f-c100-4d39-f0ea-270e2daca8ac",
        "colab": {
          "base_uri": "https://localhost:8080/"
        }
      },
      "outputs": [
        {
          "output_type": "execute_result",
          "data": {
            "text/plain": [
              "array([0., 1., 2.])"
            ]
          },
          "metadata": {},
          "execution_count": 21
        }
      ],
      "source": [
        "y[0, :]  # first row"
      ]
    },
    {
      "cell_type": "code",
      "execution_count": 22,
      "metadata": {
        "id": "AszsKpOHDWbX",
        "outputId": "29daee36-1ee9-49cb-ab73-4b7b10568a7c",
        "colab": {
          "base_uri": "https://localhost:8080/"
        }
      },
      "outputs": [
        {
          "output_type": "execute_result",
          "data": {
            "text/plain": [
              "array([0., 1., 2.])"
            ]
          },
          "metadata": {},
          "execution_count": 22
        }
      ],
      "source": [
        "y[0]  # equivalent to y[0, :]"
      ]
    },
    {
      "cell_type": "markdown",
      "metadata": {
        "id": "X7AlB4wFDWbX"
      },
      "source": [
        "\n",
        "# Looping over Arrays\n",
        "\n",
        "**AVOID looping over arrays whenever possible!**  \n",
        "\n",
        "Here's why"
      ]
    },
    {
      "cell_type": "code",
      "execution_count": 23,
      "metadata": {
        "id": "bo4cU_IhDWbX"
      },
      "outputs": [],
      "source": [
        "# make a simple function to find a reciprocal\n",
        "def compute_reciprocals(values):\n",
        "    output = np.empty(len(values))\n",
        "    for i in range(len(values)):\n",
        "        output[i] = 1.0 / values[i]\n",
        "    return output"
      ]
    },
    {
      "cell_type": "code",
      "execution_count": 24,
      "metadata": {
        "id": "GvItwPN5DWbY",
        "outputId": "4175e1e6-2afb-4765-8cc5-33284706665a",
        "colab": {
          "base_uri": "https://localhost:8080/"
        }
      },
      "outputs": [
        {
          "output_type": "stream",
          "name": "stdout",
          "text": [
            "2.1 s ± 446 ms per loop (mean ± std. dev. of 7 runs, 1 loop each)\n"
          ]
        }
      ],
      "source": [
        "big_array = np.random.randint(1, 100, size=1000000)\n",
        "%timeit compute_reciprocals(big_array)"
      ]
    },
    {
      "cell_type": "code",
      "execution_count": 25,
      "metadata": {
        "id": "65HLBZjDDWbY",
        "outputId": "676299a5-d389-429d-e034-15eb4f03888f",
        "colab": {
          "base_uri": "https://localhost:8080/"
        }
      },
      "outputs": [
        {
          "output_type": "stream",
          "name": "stdout",
          "text": [
            "1.96 ms ± 203 µs per loop (mean ± std. dev. of 7 runs, 1000 loops each)\n"
          ]
        }
      ],
      "source": [
        "%timeit (1.0 / big_array)"
      ]
    },
    {
      "cell_type": "markdown",
      "metadata": {
        "id": "sCLDm-JxDWbY"
      },
      "source": [
        "The *vectorized* version which acts on the array as a whole runs **500 TIMES FASTER**.  Try to operate on the array as a whole instead of looping through elements.  There are many helpful tools and functions  for doing this.\n",
        "\n",
        "\n",
        "But sometimes, you gotta do things the hard way..."
      ]
    },
    {
      "cell_type": "code",
      "execution_count": 26,
      "metadata": {
        "id": "QcdNeD_IDWbZ",
        "outputId": "a9fb69b7-dc5a-4625-fa7b-69ebd5ab4fb4",
        "colab": {
          "base_uri": "https://localhost:8080/"
        }
      },
      "outputs": [
        {
          "output_type": "stream",
          "name": "stdout",
          "text": [
            "0.0\n",
            "0.25\n",
            "0.5\n",
            "0.75\n",
            "1.0\n"
          ]
        }
      ],
      "source": [
        "# Get values from an array\n",
        "x = np.linspace(0,1,5)\n",
        "for val in x:\n",
        "    print(val)"
      ]
    },
    {
      "cell_type": "code",
      "execution_count": 27,
      "metadata": {
        "id": "GXwwdDyhDWbZ",
        "outputId": "1dbe87c9-b10a-49ac-a8ab-78ec8e887a92",
        "colab": {
          "base_uri": "https://localhost:8080/"
        }
      },
      "outputs": [
        {
          "output_type": "stream",
          "name": "stdout",
          "text": [
            "0:\t0.0\n",
            "1:\t0.25\n",
            "2:\t0.5\n",
            "3:\t0.75\n",
            "4:\t1.0\n"
          ]
        }
      ],
      "source": [
        "# Get indices the Bad way\n",
        "x = np.linspace(0,1,5)\n",
        "for i in range(len(x)):\n",
        "    print(f\"{i}:\\t{x[i]}\")"
      ]
    },
    {
      "cell_type": "code",
      "execution_count": 28,
      "metadata": {
        "id": "bqCczy_TDWba",
        "outputId": "061bc141-6c6f-497d-a3c2-209b39cc5856",
        "colab": {
          "base_uri": "https://localhost:8080/"
        }
      },
      "outputs": [
        {
          "output_type": "stream",
          "name": "stdout",
          "text": [
            "(0, 0.0)\n",
            "(1, 0.25)\n",
            "(2, 0.5)\n",
            "(3, 0.75)\n",
            "(4, 1.0)\n"
          ]
        }
      ],
      "source": [
        "# Use enumerate instead!\n",
        "for i in enumerate(x):\n",
        "    print(i)"
      ]
    },
    {
      "cell_type": "code",
      "execution_count": 29,
      "metadata": {
        "id": "gshI9uU1DWba",
        "outputId": "77b54fb3-8560-481e-dc06-0ddf3c6873c0",
        "colab": {
          "base_uri": "https://localhost:8080/"
        }
      },
      "outputs": [
        {
          "output_type": "stream",
          "name": "stdout",
          "text": [
            "0:\t0.0\n",
            "1:\t0.25\n",
            "2:\t0.5\n",
            "3:\t0.75\n",
            "4:\t1.0\n"
          ]
        }
      ],
      "source": [
        "for i,val in enumerate(x):\n",
        "    print(f\"{i}:\\t{val}\")"
      ]
    },
    {
      "cell_type": "code",
      "execution_count": 30,
      "metadata": {
        "id": "7rbdx4VwDWba",
        "outputId": "9453467a-276c-4c01-b8e6-ed439706dc89",
        "colab": {
          "base_uri": "https://localhost:8080/"
        }
      },
      "outputs": [
        {
          "output_type": "stream",
          "name": "stdout",
          "text": [
            "0.0\t0.0\n",
            "0.25\t0.0625\n",
            "0.5\t0.25\n",
            "0.75\t0.5625\n",
            "1.0\t1.0\n"
          ]
        }
      ],
      "source": [
        "# Finally, a fun trick for multiple arrays\n",
        "x = np.linspace(0,1,5)\n",
        "y = x**2\n",
        "\n",
        "# Bad way\n",
        "for i in range(len(x)):\n",
        "    print(f\"{x[i]}\\t{y[i]}\")"
      ]
    },
    {
      "cell_type": "code",
      "execution_count": 31,
      "metadata": {
        "id": "UVVVOhXgDWba",
        "outputId": "dce5b7f3-2181-4a21-c621-eea48b44710d",
        "colab": {
          "base_uri": "https://localhost:8080/"
        }
      },
      "outputs": [
        {
          "output_type": "stream",
          "name": "stdout",
          "text": [
            "0.0\t0.0\n",
            "0.25\t0.0625\n",
            "0.5\t0.25\n",
            "0.75\t0.5625\n",
            "1.0\t1.0\n"
          ]
        }
      ],
      "source": [
        "# Good way - USE ZIP!\n",
        "for xv, yv in zip(x,y):\n",
        "    print(f\"{xv}\\t{yv}\")"
      ]
    },
    {
      "cell_type": "markdown",
      "source": [
        "## Array Shape\n",
        "Pay attention to the shape (dimensions) of the array.\n",
        "Use ```reshape``` to change.\n",
        "\n",
        "An issue you will encounter is the difference between a 1D array and a 2D array with a single row.  Learn how to notice this and reshape between them  \n"
      ],
      "metadata": {
        "id": "qSq9Ifody_YK"
      }
    },
    {
      "cell_type": "code",
      "source": [
        "a = np.zeros(5)\n",
        "b = np.zeros((1,5))"
      ],
      "metadata": {
        "id": "Q-5DBU9WrTHa"
      },
      "execution_count": 34,
      "outputs": []
    },
    {
      "cell_type": "code",
      "source": [
        "a"
      ],
      "metadata": {
        "colab": {
          "base_uri": "https://localhost:8080/"
        },
        "id": "o6Uk76t-rXvb",
        "outputId": "dd676cba-71cc-4edd-b3c5-8d8b278bc381"
      },
      "execution_count": 35,
      "outputs": [
        {
          "output_type": "execute_result",
          "data": {
            "text/plain": [
              "array([0., 0., 0., 0., 0.])"
            ]
          },
          "metadata": {},
          "execution_count": 35
        }
      ]
    },
    {
      "cell_type": "code",
      "source": [
        "b"
      ],
      "metadata": {
        "colab": {
          "base_uri": "https://localhost:8080/"
        },
        "id": "yJUPwjk_rYYj",
        "outputId": "ce153802-620d-4c5a-8496-c0bc2fd69022"
      },
      "execution_count": 36,
      "outputs": [
        {
          "output_type": "execute_result",
          "data": {
            "text/plain": [
              "array([[0., 0., 0., 0., 0.]])"
            ]
          },
          "metadata": {},
          "execution_count": 36
        }
      ]
    },
    {
      "cell_type": "code",
      "source": [
        "a.shape"
      ],
      "metadata": {
        "colab": {
          "base_uri": "https://localhost:8080/"
        },
        "id": "Dr73DwfPrgGU",
        "outputId": "4c370c2c-ea0f-4571-87b6-d58b294d83c1"
      },
      "execution_count": 37,
      "outputs": [
        {
          "output_type": "execute_result",
          "data": {
            "text/plain": [
              "(5,)"
            ]
          },
          "metadata": {},
          "execution_count": 37
        }
      ]
    },
    {
      "cell_type": "code",
      "source": [
        "b.shape"
      ],
      "metadata": {
        "colab": {
          "base_uri": "https://localhost:8080/"
        },
        "id": "dIaEBzHArhs7",
        "outputId": "6d55a8bd-c7c1-4aed-df4f-37d6cbc72f61"
      },
      "execution_count": 38,
      "outputs": [
        {
          "output_type": "execute_result",
          "data": {
            "text/plain": [
              "(1, 5)"
            ]
          },
          "metadata": {},
          "execution_count": 38
        }
      ]
    },
    {
      "cell_type": "code",
      "source": [
        "x = np.array([1,2,3,4])"
      ],
      "metadata": {
        "id": "_lXBMQpHr0fT"
      },
      "execution_count": 39,
      "outputs": []
    },
    {
      "cell_type": "code",
      "source": [
        "x.shape"
      ],
      "metadata": {
        "colab": {
          "base_uri": "https://localhost:8080/"
        },
        "id": "rKHAe6ydr3sD",
        "outputId": "5aa8cf81-7de5-4ec6-8815-e703bd4992d1"
      },
      "execution_count": 40,
      "outputs": [
        {
          "output_type": "execute_result",
          "data": {
            "text/plain": [
              "(4,)"
            ]
          },
          "metadata": {},
          "execution_count": 40
        }
      ]
    },
    {
      "cell_type": "code",
      "source": [
        "x.reshape((4,1))"
      ],
      "metadata": {
        "colab": {
          "base_uri": "https://localhost:8080/"
        },
        "id": "po1J2krXr5uk",
        "outputId": "7f0d8fab-fdd4-420a-f2e9-3c45ff8d35fb"
      },
      "execution_count": 41,
      "outputs": [
        {
          "output_type": "execute_result",
          "data": {
            "text/plain": [
              "array([[1],\n",
              "       [2],\n",
              "       [3],\n",
              "       [4]])"
            ]
          },
          "metadata": {},
          "execution_count": 41
        }
      ]
    },
    {
      "cell_type": "code",
      "source": [
        "x.reshape((1,4))"
      ],
      "metadata": {
        "colab": {
          "base_uri": "https://localhost:8080/"
        },
        "id": "4LJhqBYmsHWc",
        "outputId": "8b159e1b-72f6-4cb2-95a4-b69f2db29e51"
      },
      "execution_count": 42,
      "outputs": [
        {
          "output_type": "execute_result",
          "data": {
            "text/plain": [
              "array([[1, 2, 3, 4]])"
            ]
          },
          "metadata": {},
          "execution_count": 42
        }
      ]
    },
    {
      "cell_type": "markdown",
      "source": [
        "Can use -1 as a wild card"
      ],
      "metadata": {
        "id": "pANDwfZZsdaF"
      }
    },
    {
      "cell_type": "code",
      "source": [
        "x.reshape( (1,-1))"
      ],
      "metadata": {
        "colab": {
          "base_uri": "https://localhost:8080/"
        },
        "id": "HHf8vef0sMts",
        "outputId": "b4f2e131-56b0-4a04-bf85-2c1bca91a0e3"
      },
      "execution_count": 43,
      "outputs": [
        {
          "output_type": "execute_result",
          "data": {
            "text/plain": [
              "array([[1, 2, 3, 4]])"
            ]
          },
          "metadata": {},
          "execution_count": 43
        }
      ]
    },
    {
      "cell_type": "code",
      "source": [
        "x.reshape( (-1,2))"
      ],
      "metadata": {
        "colab": {
          "base_uri": "https://localhost:8080/"
        },
        "id": "I6U9-vmtsfoU",
        "outputId": "c8d6d7a0-f9c8-4dbf-c7bd-5168ba18515f"
      },
      "execution_count": 44,
      "outputs": [
        {
          "output_type": "execute_result",
          "data": {
            "text/plain": [
              "array([[1, 2],\n",
              "       [3, 4]])"
            ]
          },
          "metadata": {},
          "execution_count": 44
        }
      ]
    },
    {
      "cell_type": "code",
      "source": [
        "a.shape"
      ],
      "metadata": {
        "colab": {
          "base_uri": "https://localhost:8080/"
        },
        "id": "rGCmiaBysj5k",
        "outputId": "da1e038f-13bf-49bb-dad2-dc658dadcc19"
      },
      "execution_count": 45,
      "outputs": [
        {
          "output_type": "execute_result",
          "data": {
            "text/plain": [
              "(5,)"
            ]
          },
          "metadata": {},
          "execution_count": 45
        }
      ]
    },
    {
      "cell_type": "code",
      "source": [
        "b.shape"
      ],
      "metadata": {
        "colab": {
          "base_uri": "https://localhost:8080/"
        },
        "id": "eziba58zslVM",
        "outputId": "f4cb4549-d59e-47c7-ace1-7bd8e8225da3"
      },
      "execution_count": 46,
      "outputs": [
        {
          "output_type": "execute_result",
          "data": {
            "text/plain": [
              "(1, 5)"
            ]
          },
          "metadata": {},
          "execution_count": 46
        }
      ]
    },
    {
      "cell_type": "code",
      "source": [
        "a.reshape((1,-1))"
      ],
      "metadata": {
        "colab": {
          "base_uri": "https://localhost:8080/"
        },
        "id": "8LJDWRzTsmf0",
        "outputId": "ab59512e-5134-4cd7-86a2-8f45a4138498"
      },
      "execution_count": 47,
      "outputs": [
        {
          "output_type": "execute_result",
          "data": {
            "text/plain": [
              "array([[0., 0., 0., 0., 0.]])"
            ]
          },
          "metadata": {},
          "execution_count": 47
        }
      ]
    },
    {
      "cell_type": "code",
      "source": [
        "b2 = b.reshape(-1)"
      ],
      "metadata": {
        "id": "gBImu0gQsuK0"
      },
      "execution_count": 48,
      "outputs": []
    },
    {
      "cell_type": "code",
      "source": [
        "np.reshape?"
      ],
      "metadata": {
        "id": "LueDgsRFs49M"
      },
      "execution_count": 49,
      "outputs": []
    },
    {
      "cell_type": "code",
      "source": [
        "x = np.arange(8).reshape(4,-1)\n",
        "x"
      ],
      "metadata": {
        "colab": {
          "base_uri": "https://localhost:8080/"
        },
        "id": "K-0wwj73tL9d",
        "outputId": "f55a1efb-bcd8-4176-e76b-7c6ae696a46e"
      },
      "execution_count": 50,
      "outputs": [
        {
          "output_type": "execute_result",
          "data": {
            "text/plain": [
              "array([[0, 1],\n",
              "       [2, 3],\n",
              "       [4, 5],\n",
              "       [6, 7]])"
            ]
          },
          "metadata": {},
          "execution_count": 50
        }
      ]
    }
  ],
  "metadata": {
    "kernelspec": {
      "display_name": "Python 3",
      "language": "python",
      "name": "python3"
    },
    "language_info": {
      "codemirror_mode": {
        "name": "ipython",
        "version": 3
      },
      "file_extension": ".py",
      "mimetype": "text/x-python",
      "name": "python",
      "nbconvert_exporter": "python",
      "pygments_lexer": "ipython3",
      "version": "3.6.10"
    },
    "colab": {
      "provenance": [],
      "include_colab_link": true
    }
  },
  "nbformat": 4,
  "nbformat_minor": 0
}